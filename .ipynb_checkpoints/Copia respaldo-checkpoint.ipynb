{
 "cells": [
  {
   "cell_type": "markdown",
   "metadata": {
    "colab_type": "text",
    "id": "view-in-github"
   },
   "source": [
    "<a href=\"https://colab.research.google.com/github/alepenaa94/TP1_Real_or_Not/blob/master/TP1_Real_or_Not.ipynb\" target=\"_parent\"><img src=\"https://colab.research.google.com/assets/colab-badge.svg\" alt=\"Open In Colab\"/></a>"
   ]
  },
  {
   "cell_type": "markdown",
   "metadata": {
    "colab_type": "text",
    "id": "iwY7zLPkMCLI"
   },
   "source": [
    "# TRABAJO PRÁCTICO 1: Análisis Exploratorio de Datos"
   ]
  },
  {
   "cell_type": "markdown",
   "metadata": {},
   "source": [
    "## Análisis realizado\n",
    "- [Tratamiento de datos](#link_1)\n",
    "- [Análisis de location](#link_2)\n",
    "- [Análisis de la cantidad de palabras de los tweets](#link_3)\n",
    "- [Análisis de la longitud de los tweets](#link_4)\n",
    "- [Covarianza y Correlación](#link_5)\n",
    "- [Análisis de keywords](#link_6)\n",
    "- [Análisis de menciones](#link_7)\n",
    "- [Análisis de \"tweets expresivos\"](#link_8)\n",
    "- [Análisis de registros en donde el text no contenga la keyword](#link_9)\n",
    "- [Análisis de hashtags](#link_10)\n",
    "- [Análisis de ubicación según target](#link_11)\n",
    "- [Análisis de tweets terroristas](#link_12)\n",
    "- [Análisis de links](#link_13)"
   ]
  },
  {
   "cell_type": "code",
   "execution_count": 4,
   "metadata": {
    "colab": {
     "base_uri": "https://localhost:8080/",
     "height": 71
    },
    "colab_type": "code",
    "id": "0R_dMyhfL8QX",
    "outputId": "5d011d54-140f-4716-cdd7-7b31c412e540"
   },
   "outputs": [],
   "source": [
    "import pandas as pd\n",
    "import numpy as np\n",
    "import seaborn as sns\n",
    "import matplotlib.pyplot as plt\n",
    "from IPython.display import display\n",
    "\n",
    "plt.style.use('default')\n",
    "plt.rcParams['figure.figsize'] = (6, 10)\n",
    "sns.set(style=\"darkgrid\")\n",
    "%matplotlib inline"
   ]
  },
  {
   "cell_type": "code",
   "execution_count": 5,
   "metadata": {
    "colab": {},
    "colab_type": "code",
    "id": "KiQERldrjl68"
   },
   "outputs": [],
   "source": [
    "train_df = pd.read_csv('./Data/train.csv', encoding='latin-1',dtype={'id': np.uint16,'target': np.bool})"
   ]
  },
  {
   "cell_type": "code",
   "execution_count": 6,
   "metadata": {
    "colab": {
     "base_uri": "https://localhost:8080/",
     "height": 204
    },
    "colab_type": "code",
    "id": "sTfW9uPBjl10",
    "outputId": "237774d0-8fb8-49be-a7a2-ab000ed1c736"
   },
   "outputs": [
    {
     "data": {
      "text/html": [
       "<div>\n",
       "<style scoped>\n",
       "    .dataframe tbody tr th:only-of-type {\n",
       "        vertical-align: middle;\n",
       "    }\n",
       "\n",
       "    .dataframe tbody tr th {\n",
       "        vertical-align: top;\n",
       "    }\n",
       "\n",
       "    .dataframe thead th {\n",
       "        text-align: right;\n",
       "    }\n",
       "</style>\n",
       "<table border=\"1\" class=\"dataframe\">\n",
       "  <thead>\n",
       "    <tr style=\"text-align: right;\">\n",
       "      <th></th>\n",
       "      <th>id</th>\n",
       "      <th>keyword</th>\n",
       "      <th>location</th>\n",
       "      <th>text</th>\n",
       "      <th>target</th>\n",
       "    </tr>\n",
       "  </thead>\n",
       "  <tbody>\n",
       "    <tr>\n",
       "      <th>0</th>\n",
       "      <td>1</td>\n",
       "      <td>NaN</td>\n",
       "      <td>NaN</td>\n",
       "      <td>Our Deeds are the Reason of this #earthquake M...</td>\n",
       "      <td>True</td>\n",
       "    </tr>\n",
       "    <tr>\n",
       "      <th>1</th>\n",
       "      <td>4</td>\n",
       "      <td>NaN</td>\n",
       "      <td>NaN</td>\n",
       "      <td>Forest fire near La Ronge Sask. Canada</td>\n",
       "      <td>True</td>\n",
       "    </tr>\n",
       "    <tr>\n",
       "      <th>2</th>\n",
       "      <td>5</td>\n",
       "      <td>NaN</td>\n",
       "      <td>NaN</td>\n",
       "      <td>All residents asked to 'shelter in place' are ...</td>\n",
       "      <td>True</td>\n",
       "    </tr>\n",
       "    <tr>\n",
       "      <th>3</th>\n",
       "      <td>6</td>\n",
       "      <td>NaN</td>\n",
       "      <td>NaN</td>\n",
       "      <td>13,000 people receive #wildfires evacuation or...</td>\n",
       "      <td>True</td>\n",
       "    </tr>\n",
       "    <tr>\n",
       "      <th>4</th>\n",
       "      <td>7</td>\n",
       "      <td>NaN</td>\n",
       "      <td>NaN</td>\n",
       "      <td>Just got sent this photo from Ruby #Alaska as ...</td>\n",
       "      <td>True</td>\n",
       "    </tr>\n",
       "  </tbody>\n",
       "</table>\n",
       "</div>"
      ],
      "text/plain": [
       "   id keyword location                                               text  \\\n",
       "0   1     NaN      NaN  Our Deeds are the Reason of this #earthquake M...   \n",
       "1   4     NaN      NaN             Forest fire near La Ronge Sask. Canada   \n",
       "2   5     NaN      NaN  All residents asked to 'shelter in place' are ...   \n",
       "3   6     NaN      NaN  13,000 people receive #wildfires evacuation or...   \n",
       "4   7     NaN      NaN  Just got sent this photo from Ruby #Alaska as ...   \n",
       "\n",
       "   target  \n",
       "0    True  \n",
       "1    True  \n",
       "2    True  \n",
       "3    True  \n",
       "4    True  "
      ]
     },
     "execution_count": 6,
     "metadata": {},
     "output_type": "execute_result"
    }
   ],
   "source": [
    "train_df.head()"
   ]
  },
  {
   "cell_type": "markdown",
   "metadata": {},
   "source": [
    "Para dar un primer vistazo a la información con la que vamos trabajar, veamos rápidamente cómo está distribuída la cantidad de tweets según si son verdaderos o falsos."
   ]
  },
  {
   "cell_type": "code",
   "execution_count": 7,
   "metadata": {},
   "outputs": [
    {
     "data": {
      "text/plain": [
       "Text(0, 0.5, 'Cantidad de tweets')"
      ]
     },
     "execution_count": 7,
     "metadata": {},
     "output_type": "execute_result"
    },
    {
     "data": {
      "image/png": "[encoded data removed]",
      "text/plain": [
       "<Figure size 864x432 with 1 Axes>"
      ]
     },
     "metadata": {
      "needs_background": "light"
     },
     "output_type": "display_data"
    }
   ],
   "source": [
    "plt.figure(figsize=(12,6))\n",
    "\n",
    "ax = sns.countplot(x= 'target',data = train_df,palette=['red','green']);\n",
    "\n",
    "plt.title('Cantidad de tweets según target', fontsize=20,weight='bold')\n",
    "ax.set_xlabel('Target', fontsize=16, fontweight='bold')\n",
    "ax.set_ylabel('Cantidad de tweets', fontsize=16, fontweight='bold')"
   ]
  },
  {
   "cell_type": "markdown",
   "metadata": {
    "colab_type": "text",
    "id": "5_BHZnA3N1OX"
   },
   "source": [
    "## Tratamiento de datos<a id='link_1'></a>"
   ]
  },
  {
   "cell_type": "code",
   "execution_count": 8,
   "metadata": {
    "colab": {
     "base_uri": "https://localhost:8080/",
     "height": 221
    },
    "colab_type": "code",
    "id": "VkuxJimXKupm",
    "outputId": "63ec6ad3-05cf-43bf-d42f-bfb6b31c9d06"
   },
   "outputs": [
    {
     "name": "stdout",
     "output_type": "stream",
     "text": [
      "<class 'pandas.core.frame.DataFrame'>\n",
      "RangeIndex: 7613 entries, 0 to 7612\n",
      "Data columns (total 5 columns):\n",
      " #   Column    Non-Null Count  Dtype \n",
      "---  ------    --------------  ----- \n",
      " 0   id        7613 non-null   uint16\n",
      " 1   keyword   7552 non-null   object\n",
      " 2   location  5080 non-null   object\n",
      " 3   text      7613 non-null   object\n",
      " 4   target    7613 non-null   bool  \n",
      "dtypes: bool(1), object(3), uint16(1)\n",
      "memory usage: 200.9+ KB\n"
     ]
    }
   ],
   "source": [
    "train_df.info()"
   ]
  },
  {
   "cell_type": "markdown",
   "metadata": {
    "colab_type": "text",
    "id": "3fFwhdysKzsW"
   },
   "source": [
    "Podemos observar que las columnas **\"keyword\"** y **\"location\"** poseen algunos valores nulos, vamos a analizar cada caso particular para determinar como vamos a proceder con los análisis."
   ]
  },
  {
   "cell_type": "code",
   "execution_count": 9,
   "metadata": {
    "colab": {
     "base_uri": "https://localhost:8080/",
     "height": 102
    },
    "colab_type": "code",
    "id": "pJx1ZwHoKugJ",
    "outputId": "5785737e-d6a3-4b5b-e807-f3d16b002f3d"
   },
   "outputs": [
    {
     "data": {
      "text/plain": [
       "count           7552\n",
       "unique           221\n",
       "top       fatalities\n",
       "freq              45\n",
       "Name: keyword, dtype: object"
      ]
     },
     "execution_count": 9,
     "metadata": {},
     "output_type": "execute_result"
    }
   ],
   "source": [
    "train_df['keyword'].describe()"
   ]
  },
  {
   "cell_type": "markdown",
   "metadata": {},
   "source": [
    "El campo **keyword** tiene **61 registros** con valores nulos. Como es una cantidad pequeña en relación a la cantidad total de registros (**7613 registros**), para los análisis vamos a considerar descartar los registros nulos."
   ]
  },
  {
   "cell_type": "markdown",
   "metadata": {},
   "source": [
    "Veamos que tipo de valores contiene este campo."
   ]
  },
  {
   "cell_type": "code",
   "execution_count": 10,
   "metadata": {},
   "outputs": [
    {
     "data": {
      "text/plain": [
       "fatalities               45\n",
       "armageddon               42\n",
       "deluge                   42\n",
       "body%20bags              41\n",
       "harm                     41\n",
       "                         ..\n",
       "forest%20fire            19\n",
       "epicentre                12\n",
       "threat                   11\n",
       "inundation               10\n",
       "radiation%20emergency     9\n",
       "Name: keyword, Length: 221, dtype: int64"
      ]
     },
     "execution_count": 10,
     "metadata": {},
     "output_type": "execute_result"
    }
   ],
   "source": [
    "train_df['keyword'].value_counts()"
   ]
  },
  {
   "cell_type": "code",
   "execution_count": 11,
   "metadata": {},
   "outputs": [
    {
     "data": {
      "text/plain": [
       "body%20bags              41\n",
       "oil%20spill              38\n",
       "burning%20buildings      37\n",
       "cliff%20fall             36\n",
       "dust%20storm             36\n",
       "nuclear%20reactor        36\n",
       "emergency%20plan         35\n",
       "suicide%20bomb           35\n",
       "structural%20failure     35\n",
       "airplane%20accident      35\n",
       "bridge%20collapse        35\n",
       "buildings%20burning      35\n",
       "natural%20disaster       34\n",
       "loud%20bang              34\n",
       "heat%20wave              34\n",
       "nuclear%20disaster       34\n",
       "blew%20up                33\n",
       "mass%20murder            33\n",
       "suicide%20bombing        33\n",
       "fire%20truck             33\n",
       "emergency%20services     33\n",
       "chemical%20emergency     33\n",
       "buildings%20on%20fire    33\n",
       "body%20bag               33\n",
       "blown%20up               33\n",
       "body%20bagging           33\n",
       "violent%20storm          33\n",
       "mass%20murderer          32\n",
       "forest%20fires           32\n",
       "suicide%20bomber         31\n",
       "wild%20fires             31\n",
       "first%20responders       29\n",
       "bush%20fires             25\n",
       "war%20zone               24\n",
       "forest%20fire            19\n",
       "radiation%20emergency     9\n",
       "Name: keyword, dtype: int64"
      ]
     },
     "execution_count": 11,
     "metadata": {},
     "output_type": "execute_result"
    }
   ],
   "source": [
    "train_df.loc[~train_df['keyword'].isnull() & train_df['keyword'].str.contains('%20')]['keyword'].value_counts()"
   ]
  },
  {
   "cell_type": "markdown",
   "metadata": {},
   "source": [
    "Observamos que en algunos keyword aparece \"%20\" en donde va un espacio; vamos a limpiar esto para mayor claridad en la información."
   ]
  },
  {
   "cell_type": "code",
   "execution_count": 12,
   "metadata": {
    "colab": {},
    "colab_type": "code",
    "id": "93-Bjl9LNuEo"
   },
   "outputs": [],
   "source": [
    "train_df['keyword'] = train_df['keyword'].str.replace('%20',' ')"
   ]
  },
  {
   "cell_type": "markdown",
   "metadata": {
    "colab_type": "text",
    "id": "VtQO5EQ4MKYD"
   },
   "source": [
    "Posiblemente luego analicemos los textos y veamos la posibilidad de completar estos keyword nulos con algun valor mas significativo."
   ]
  },
  {
   "cell_type": "markdown",
   "metadata": {},
   "source": [
    "## Análisis de location<a id='link_2'></a>"
   ]
  },
  {
   "cell_type": "code",
   "execution_count": 13,
   "metadata": {
    "colab": {
     "base_uri": "https://localhost:8080/",
     "height": 102
    },
    "colab_type": "code",
    "id": "Kgy5RHSrMKPr",
    "outputId": "ad8e6cc0-1b4a-4425-83b0-f4dfe9366e85"
   },
   "outputs": [
    {
     "data": {
      "text/plain": [
       "count     5080\n",
       "unique    3341\n",
       "top        USA\n",
       "freq       104\n",
       "Name: location, dtype: object"
      ]
     },
     "execution_count": 13,
     "metadata": {},
     "output_type": "execute_result"
    }
   ],
   "source": [
    "train_df['location'].describe()"
   ]
  },
  {
   "cell_type": "code",
   "execution_count": 14,
   "metadata": {
    "colab": {
     "base_uri": "https://localhost:8080/",
     "height": 544
    },
    "colab_type": "code",
    "id": "GscoSiAqMJ_8",
    "outputId": "efb6a627-34d9-4c0a-e102-a85cfd340f8d"
   },
   "outputs": [
    {
     "data": {
      "text/plain": [
       "3442                      Chicago, IL\n",
       "3829                              NaN\n",
       "7033                              NaN\n",
       "3678                  Grand Rapids MI\n",
       "3225                           Alaska\n",
       "5186                              NaN\n",
       "7477                     Somerset, UK\n",
       "639           Sydney, New South Wales\n",
       "2123                          Chicago\n",
       "94          Alberta | Sask. | Montana\n",
       "3655                        The North\n",
       "5603                              NaN\n",
       "7230                    Regalo Island\n",
       "87                           Maldives\n",
       "2527                Prehistoric Earth\n",
       "3618                New York City ,NY\n",
       "637                               NaN\n",
       "1978                           Geneva\n",
       "2772                       EVERYWHERE\n",
       "7264    140920-21 & 150718-19 BEIJING\n",
       "3036        Desde Republica Argentina\n",
       "2898                              NaN\n",
       "4452                        THANJAVUR\n",
       "3100                              NaN\n",
       "5314                             kano\n",
       "1139                              NaN\n",
       "6966               in the Word of God\n",
       "6997                               NY\n",
       "1227                    New Hampshire\n",
       "1907                              NaN\n",
       "Name: location, dtype: object"
      ]
     },
     "execution_count": 14,
     "metadata": {},
     "output_type": "execute_result"
    }
   ],
   "source": [
    "train_df['location'].sample(30)"
   ]
  },
  {
   "cell_type": "markdown",
   "metadata": {
    "colab_type": "text",
    "id": "SjKH3zNqM7K3"
   },
   "source": [
    "Se observa que la ubicacion ingresada no es siempre algo coherente. Veamos las ubicaciónes no nulas con mayor cantidad de tweets."
   ]
  },
  {
   "cell_type": "code",
   "execution_count": 15,
   "metadata": {},
   "outputs": [
    {
     "data": {
      "text/plain": [
       "USA                             104\n",
       "New York                         71\n",
       "United States                    50\n",
       "London                           45\n",
       "Canada                           29\n",
       "                               ... \n",
       "Alphen aan den Rijn, Holland      1\n",
       "Bay Area, CA                      1\n",
       "nc                                1\n",
       "Fashion Heaven. IG: TMId_         1\n",
       "Rural Northern Nevada             1\n",
       "Name: location, Length: 3341, dtype: int64"
      ]
     },
     "execution_count": 15,
     "metadata": {},
     "output_type": "execute_result"
    }
   ],
   "source": [
    "locations_count = train_df['location'].value_counts()\n",
    "locations_count"
   ]
  },
  {
   "cell_type": "code",
   "execution_count": 16,
   "metadata": {},
   "outputs": [
    {
     "data": {
      "text/plain": [
       "Text(0, 0.5, 'Cantidad de Tweets')"
      ]
     },
     "execution_count": 16,
     "metadata": {},
     "output_type": "execute_result"
    },
    {
     "data": {
      "image/png": "[encoded data removed]",
      "text/plain": [
       "<Figure size 1008x432 with 1 Axes>"
      ]
     },
     "metadata": {
      "needs_background": "light"
     },
     "output_type": "display_data"
    }
   ],
   "source": [
    "plot = train_df['location'].value_counts()[0:20].plot(kind='bar',figsize=(14,6), color=(0.7,0.4,0.7))\n",
    "\n",
    "plot.set_title('Top 20 ubicaciones que tienen más Tweets', fontsize=20,weight='bold');\n",
    "plot.set_xlabel('Ubicación', fontsize=16,weight='bold')\n",
    "plot.set_ylabel('Cantidad de Tweets', fontsize=16,weight='bold')"
   ]
  },
  {
   "cell_type": "code",
   "execution_count": null,
   "metadata": {},
   "outputs": [],
   "source": []
  },
  {
   "cell_type": "markdown",
   "metadata": {},
   "source": [
    "Veamos las ubicaciones que tienen un único tweet."
   ]
  },
  {
   "cell_type": "code",
   "execution_count": 17,
   "metadata": {},
   "outputs": [
    {
     "data": {
      "text/plain": [
       "Adelaide                         1\n",
       "Paradise City                    1\n",
       "West Vancouver, B.C.             1\n",
       "FIMAK A.S Ist Bolge Muduru       1\n",
       "Cardiff, Wales                   1\n",
       "Boulder                          1\n",
       "STL ?NOLA                        1\n",
       "?????????????, Thailand          1\n",
       "Speaking the Truth in Love       1\n",
       "Ellensburg to Spokane            1\n",
       "whs '17                          1\n",
       "Salt Lake City, UT               1\n",
       "My heart is a ghost town!        1\n",
       "golborne, north west england.    1\n",
       "Kansas City, Mo.                 1\n",
       "Name: location, dtype: int64"
      ]
     },
     "execution_count": 17,
     "metadata": {},
     "output_type": "execute_result"
    }
   ],
   "source": [
    "location_with_one_tweet = locations_count[locations_count == 1]\n",
    "location_with_one_tweet.sample(15)"
   ]
  },
  {
   "cell_type": "code",
   "execution_count": 18,
   "metadata": {},
   "outputs": [
    {
     "name": "stdout",
     "output_type": "stream",
     "text": [
      "Ubicaciones con un único tweet: 2818\n",
      "Ubicaciones diferentes: 3342\n",
      "Porcentaje de ubicaciones que solo aparecen 1 vez: 84.32076600837821\n"
     ]
    }
   ],
   "source": [
    "print(\"Ubicaciones con un único tweet:\",location_with_one_tweet.count());\n",
    "print(\"Ubicaciones diferentes:\",len(train_df['location'].unique()))\n",
    "print(\"Porcentaje de ubicaciones que solo aparecen 1 vez:\",location_with_one_tweet.count()/len(train_df['location'].unique())*100)"
   ]
  },
  {
   "cell_type": "markdown",
   "metadata": {},
   "source": [
    "Aproximadamente el 84,3% de las ubicaciones tienen un sólo tweet. ¿Cuántas de esas corresponden a tweets falsos?"
   ]
  },
  {
   "cell_type": "code",
   "execution_count": 19,
   "metadata": {},
   "outputs": [
    {
     "data": {
      "image/png": "[encoded data removed]",
      "text/plain": [
       "<Figure size 432x288 with 1 Axes>"
      ]
     },
     "metadata": {},
     "output_type": "display_data"
    }
   ],
   "source": [
    "#Grafico para mostrar porcentajes \n",
    "total = len(train_df['location'].unique())\n",
    "unicos = location_with_one_tweet.count()\n",
    "\n",
    "slices = [total-unicos,unicos]\n",
    "m_labels = ['Ubicaciones con más de un tweet','Ubicaciones con un tweet']\n",
    "m_colors = ['orange','lightblue']\n",
    "\n",
    "plt.pie(slices,labels=m_labels,colors = m_colors,autopct ='%1.1f%%', wedgeprops={'edgecolor':'black'})\n",
    "plt.title(\"Ubicaciones con unico tweet vs ubicaciones con más de uno\")\n",
    "plt.show()"
   ]
  },
  {
   "cell_type": "code",
   "execution_count": 20,
   "metadata": {},
   "outputs": [
    {
     "data": {
      "text/html": [
       "<div>\n",
       "<style scoped>\n",
       "    .dataframe tbody tr th:only-of-type {\n",
       "        vertical-align: middle;\n",
       "    }\n",
       "\n",
       "    .dataframe tbody tr th {\n",
       "        vertical-align: top;\n",
       "    }\n",
       "\n",
       "    .dataframe thead th {\n",
       "        text-align: right;\n",
       "    }\n",
       "</style>\n",
       "<table border=\"1\" class=\"dataframe\">\n",
       "  <thead>\n",
       "    <tr style=\"text-align: right;\">\n",
       "      <th></th>\n",
       "      <th>id</th>\n",
       "      <th>keyword</th>\n",
       "      <th>location</th>\n",
       "      <th>text</th>\n",
       "      <th>target</th>\n",
       "    </tr>\n",
       "  </thead>\n",
       "  <tbody>\n",
       "    <tr>\n",
       "      <th>32</th>\n",
       "      <td>49</td>\n",
       "      <td>ablaze</td>\n",
       "      <td>Est. September 2012 - Bristol</td>\n",
       "      <td>We always try to bring the heavy. #metal #RT h...</td>\n",
       "      <td>False</td>\n",
       "    </tr>\n",
       "    <tr>\n",
       "      <th>33</th>\n",
       "      <td>50</td>\n",
       "      <td>ablaze</td>\n",
       "      <td>AFRICA</td>\n",
       "      <td>#AFRICANBAZE: Breaking news:Nigeria flag set a...</td>\n",
       "      <td>True</td>\n",
       "    </tr>\n",
       "    <tr>\n",
       "      <th>37</th>\n",
       "      <td>55</td>\n",
       "      <td>ablaze</td>\n",
       "      <td>World Wide!!</td>\n",
       "      <td>INEC Office in Abia Set Ablaze - http://t.co/3...</td>\n",
       "      <td>True</td>\n",
       "    </tr>\n",
       "    <tr>\n",
       "      <th>39</th>\n",
       "      <td>57</td>\n",
       "      <td>ablaze</td>\n",
       "      <td>Paranaque City</td>\n",
       "      <td>Ablaze for you Lord :D</td>\n",
       "      <td>False</td>\n",
       "    </tr>\n",
       "    <tr>\n",
       "      <th>42</th>\n",
       "      <td>62</td>\n",
       "      <td>ablaze</td>\n",
       "      <td>milky way</td>\n",
       "      <td>Had an awesome time visiting the CFC head offi...</td>\n",
       "      <td>False</td>\n",
       "    </tr>\n",
       "  </tbody>\n",
       "</table>\n",
       "</div>"
      ],
      "text/plain": [
       "    id keyword                       location  \\\n",
       "32  49  ablaze  Est. September 2012 - Bristol   \n",
       "33  50  ablaze                         AFRICA   \n",
       "37  55  ablaze                   World Wide!!   \n",
       "39  57  ablaze                 Paranaque City   \n",
       "42  62  ablaze                      milky way   \n",
       "\n",
       "                                                 text  target  \n",
       "32  We always try to bring the heavy. #metal #RT h...   False  \n",
       "33  #AFRICANBAZE: Breaking news:Nigeria flag set a...    True  \n",
       "37  INEC Office in Abia Set Ablaze - http://t.co/3...    True  \n",
       "39                             Ablaze for you Lord :D   False  \n",
       "42  Had an awesome time visiting the CFC head offi...   False  "
      ]
     },
     "execution_count": 20,
     "metadata": {},
     "output_type": "execute_result"
    }
   ],
   "source": [
    "# Agrupo y filtro para quedarme con los q tienen 1 tweet\n",
    "tweets_one_location = train_df.groupby(\"location\").filter(lambda x: len(x) == 1)\n",
    "tweets_one_location.head()"
   ]
  },
  {
   "cell_type": "code",
   "execution_count": 21,
   "metadata": {},
   "outputs": [
    {
     "data": {
      "text/plain": [
       "False    1716\n",
       "True     1102\n",
       "Name: target, dtype: int64"
      ]
     },
     "execution_count": 21,
     "metadata": {},
     "output_type": "execute_result"
    }
   ],
   "source": [
    "tweets_one_location['target'].value_counts()"
   ]
  },
  {
   "cell_type": "markdown",
   "metadata": {},
   "source": [
    "Vemos que aproximadamente, de estos tweets, el 60,9% resultan ser falsos."
   ]
  },
  {
   "cell_type": "code",
   "execution_count": 22,
   "metadata": {},
   "outputs": [
    {
     "data": {
      "image/png": "[encoded data removed]",
      "text/plain": [
       "<Figure size 1440x576 with 1 Axes>"
      ]
     },
     "metadata": {
      "needs_background": "light"
     },
     "output_type": "display_data"
    }
   ],
   "source": [
    "tweets_one_location['target'].value_counts().plot.bar(figsize=(20,8), color=('red','green'));\n",
    "plt.xticks(rotation=0)\n",
    "\n",
    "plt.title('Tweets provenientes de ubicaciones que aparecen 1 vez', fontsize=20,weight='bold')\n",
    "plt.ylabel('Cantidad de Tweets', fontsize=16,weight='bold');\n",
    "plt.xlabel('Veracidad del Tweet', fontsize=16,weight='bold');"
   ]
  },
  {
   "cell_type": "code",
   "execution_count": 23,
   "metadata": {},
   "outputs": [
    {
     "data": {
      "text/plain": [
       "False    4342\n",
       "True     3271\n",
       "Name: target, dtype: int64"
      ]
     },
     "execution_count": 23,
     "metadata": {},
     "output_type": "execute_result"
    }
   ],
   "source": [
    "train_df['target'].value_counts()"
   ]
  },
  {
   "cell_type": "markdown",
   "metadata": {},
   "source": [
    "En relacion a todos los registros, representa el 39.5% de los tweets falsos, y casi 33.7% de los verdaderos."
   ]
  },
  {
   "cell_type": "markdown",
   "metadata": {
    "colab_type": "text",
    "id": "en3NUIzFNroJ"
   },
   "source": [
    "## Análisis de la cantidad de palabras de los tweets<a id='link_3'></a>"
   ]
  },
  {
   "cell_type": "code",
   "execution_count": 24,
   "metadata": {
    "colab": {},
    "colab_type": "code",
    "id": "Kbl9LZM5jltF"
   },
   "outputs": [],
   "source": [
    "train_df['word_count'] = train_df['text'].str.count(' ') + 1\n",
    "train_df['not_target'] = 0\n",
    "train_df.loc[train_df['target']==0,'not_target'] = 1"
   ]
  },
  {
   "cell_type": "code",
   "execution_count": 25,
   "metadata": {
    "colab": {
     "base_uri": "https://localhost:8080/",
     "height": 414
    },
    "colab_type": "code",
    "id": "Sjx5jfyKjlqG",
    "outputId": "5df6cc1e-16b2-4faf-b75a-e51e2a65f509"
   },
   "outputs": [
    {
     "data": {
      "image/png": "[encoded data removed]",
      "text/plain": [
       "<Figure size 1296x576 with 1 Axes>"
      ]
     },
     "metadata": {
      "needs_background": "light"
     },
     "output_type": "display_data"
    }
   ],
   "source": [
    "df = train_df.groupby('word_count').agg({'target':'sum','not_target':'sum'}).reset_index()\n",
    "\n",
    "plt.figure(figsize=(18,8))\n",
    "ax = sns.lineplot(x='word_count',y='target',data=df,color=\"lightgreen\", label='Tweet real')\n",
    "ax = sns.lineplot(x='word_count',y='not_target',data=df,color=\"red\", label='Tweet no real')\n",
    "\n",
    "ax.set_ylim(0,300)\n",
    "ax.set_yticks(range(0,300,25))\n",
    "ax.set_xlim(0,55)\n",
    "ax.set_xticks(range(0,55,2))\n",
    "\n",
    "ax.set_title('Veracidad de los tweets en función a la cantidad de palabras', fontsize=20,weight='bold')\n",
    "ax.set_xlabel('Cantidad de palabras en tweet',fontsize=16,weight='bold')\n",
    "ax.set_ylabel('Cantidad de tweets', fontsize=16,weight='bold');"
   ]
  },
  {
   "cell_type": "markdown",
   "metadata": {
    "colab_type": "text",
    "id": "4bztqr_9OM2i"
   },
   "source": [
    "## Análisis de la longitud de los tweets<a id='link_4'></a>"
   ]
  },
  {
   "cell_type": "code",
   "execution_count": 26,
   "metadata": {
    "colab": {},
    "colab_type": "code",
    "id": "Ef72K_ZNjlkO"
   },
   "outputs": [],
   "source": [
    "train_df['longitud_del_tweet'] = train_df['text'].str.len()"
   ]
  },
  {
   "cell_type": "code",
   "execution_count": 27,
   "metadata": {},
   "outputs": [
    {
     "data": {
      "text/plain": [
       "Text(0, 0.5, 'Longitud')"
      ]
     },
     "execution_count": 27,
     "metadata": {},
     "output_type": "execute_result"
    },
    {
     "data": {
      "image/png": "[encoded data removed]",
      "text/plain": [
       "<Figure size 432x288 with 1 Axes>"
      ]
     },
     "metadata": {
      "needs_background": "light"
     },
     "output_type": "display_data"
    }
   ],
   "source": [
    "# Box plot\n",
    "g = sns.boxplot(x=\"target\",y=\"longitud_del_tweet\", data=train_df,palette='hls')\n",
    "g.set_title(\"Longitud tweet según target\", fontsize=18)\n",
    "g.set_xlabel(\"Veracidad\", fontsize=14)\n",
    "g.set_ylabel(\"Longitud\",fontsize=14)"
   ]
  },
  {
   "cell_type": "markdown",
   "metadata": {},
   "source": [
    "Analizamos las estadísticas de la longitud en los tweets verdaderos."
   ]
  },
  {
   "cell_type": "code",
   "execution_count": 28,
   "metadata": {
    "colab": {
     "base_uri": "https://localhost:8080/",
     "height": 170
    },
    "colab_type": "code",
    "id": "wJrzDLjxjlhm",
    "outputId": "1680af5f-5afa-4852-a877-8999309ee6da"
   },
   "outputs": [
    {
     "data": {
      "text/html": [
       "<div>\n",
       "<style scoped>\n",
       "    .dataframe tbody tr th:only-of-type {\n",
       "        vertical-align: middle;\n",
       "    }\n",
       "\n",
       "    .dataframe tbody tr th {\n",
       "        vertical-align: top;\n",
       "    }\n",
       "\n",
       "    .dataframe thead th {\n",
       "        text-align: right;\n",
       "    }\n",
       "</style>\n",
       "<table border=\"1\" class=\"dataframe\">\n",
       "  <thead>\n",
       "    <tr style=\"text-align: right;\">\n",
       "      <th></th>\n",
       "      <th>count</th>\n",
       "      <th>mean</th>\n",
       "      <th>std</th>\n",
       "      <th>min</th>\n",
       "      <th>25%</th>\n",
       "      <th>50%</th>\n",
       "      <th>75%</th>\n",
       "      <th>max</th>\n",
       "    </tr>\n",
       "  </thead>\n",
       "  <tbody>\n",
       "    <tr>\n",
       "      <th>longitud_del_tweet</th>\n",
       "      <td>3271.0</td>\n",
       "      <td>108.444207</td>\n",
       "      <td>29.511567</td>\n",
       "      <td>14.0</td>\n",
       "      <td>88.0</td>\n",
       "      <td>115.0</td>\n",
       "      <td>136.0</td>\n",
       "      <td>161.0</td>\n",
       "    </tr>\n",
       "  </tbody>\n",
       "</table>\n",
       "</div>"
      ],
      "text/plain": [
       "                     count        mean        std   min   25%    50%    75%  \\\n",
       "longitud_del_tweet  3271.0  108.444207  29.511567  14.0  88.0  115.0  136.0   \n",
       "\n",
       "                      max  \n",
       "longitud_del_tweet  161.0  "
      ]
     },
     "execution_count": 28,
     "metadata": {},
     "output_type": "execute_result"
    }
   ],
   "source": [
    "train_df[train_df['target']]['longitud_del_tweet'].describe().to_frame().T"
   ]
  },
  {
   "cell_type": "markdown",
   "metadata": {},
   "source": [
    "Analizamos las estadísticas de la longitud en los tweets falsos."
   ]
  },
  {
   "cell_type": "code",
   "execution_count": 29,
   "metadata": {
    "colab": {
     "base_uri": "https://localhost:8080/",
     "height": 170
    },
    "colab_type": "code",
    "id": "RhNd2igejle6",
    "outputId": "388895e9-affd-4836-f29c-a0cf6576a46d"
   },
   "outputs": [
    {
     "data": {
      "text/html": [
       "<div>\n",
       "<style scoped>\n",
       "    .dataframe tbody tr th:only-of-type {\n",
       "        vertical-align: middle;\n",
       "    }\n",
       "\n",
       "    .dataframe tbody tr th {\n",
       "        vertical-align: top;\n",
       "    }\n",
       "\n",
       "    .dataframe thead th {\n",
       "        text-align: right;\n",
       "    }\n",
       "</style>\n",
       "<table border=\"1\" class=\"dataframe\">\n",
       "  <thead>\n",
       "    <tr style=\"text-align: right;\">\n",
       "      <th></th>\n",
       "      <th>count</th>\n",
       "      <th>mean</th>\n",
       "      <th>std</th>\n",
       "      <th>min</th>\n",
       "      <th>25%</th>\n",
       "      <th>50%</th>\n",
       "      <th>75%</th>\n",
       "      <th>max</th>\n",
       "    </tr>\n",
       "  </thead>\n",
       "  <tbody>\n",
       "    <tr>\n",
       "      <th>longitud_del_tweet</th>\n",
       "      <td>4342.0</td>\n",
       "      <td>95.981345</td>\n",
       "      <td>36.100118</td>\n",
       "      <td>7.0</td>\n",
       "      <td>68.0</td>\n",
       "      <td>101.0</td>\n",
       "      <td>130.0</td>\n",
       "      <td>163.0</td>\n",
       "    </tr>\n",
       "  </tbody>\n",
       "</table>\n",
       "</div>"
      ],
      "text/plain": [
       "                     count       mean        std  min   25%    50%    75%  \\\n",
       "longitud_del_tweet  4342.0  95.981345  36.100118  7.0  68.0  101.0  130.0   \n",
       "\n",
       "                      max  \n",
       "longitud_del_tweet  163.0  "
      ]
     },
     "execution_count": 29,
     "metadata": {},
     "output_type": "execute_result"
    }
   ],
   "source": [
    "train_df[~train_df['target']]['longitud_del_tweet'].describe().to_frame().T"
   ]
  },
  {
   "cell_type": "code",
   "execution_count": 30,
   "metadata": {
    "colab": {},
    "colab_type": "code",
    "id": "F9gYfyDBjlcI"
   },
   "outputs": [],
   "source": [
    "train_df = train_df.astype({'longitud_del_tweet':np.uint8})"
   ]
  },
  {
   "cell_type": "code",
   "execution_count": 31,
   "metadata": {
    "colab": {
     "base_uri": "https://localhost:8080/",
     "height": 357
    },
    "colab_type": "code",
    "id": "_fcpErdejlZA",
    "outputId": "a685658d-475a-490e-a31f-10bb7f51549d"
   },
   "outputs": [
    {
     "data": {
      "image/png": "[encoded data removed]",
      "text/plain": [
       "<Figure size 1152x432 with 1 Axes>"
      ]
     },
     "metadata": {
      "needs_background": "light"
     },
     "output_type": "display_data"
    }
   ],
   "source": [
    "fig= plt.figure()\n",
    "ax = fig.add_subplot(111)\n",
    "\n",
    "plt.title('Veracidad de los tweets en función de su longitud',fontsize=18,fontweight='bold')\n",
    "\n",
    "train_df[train_df['target']]['longitud_del_tweet'].plot.kde(color='lightgreen', figsize=(16, 6), label = 'Tweets verdaderos')\n",
    "train_df[~train_df['target']]['longitud_del_tweet'].plot.kde(color='red', ax=ax, figsize=(16, 6), label = 'Tweets falsos')\n",
    "\n",
    "ax.set_xlabel('Longitud del tweet', fontsize=14, fontweight='bold')\n",
    "ax.set_ylabel('Densidad', fontsize=14, fontweight='bold')\n",
    "\n",
    "ax.set_xlim(0, 165) #Seteamos los límites del eje x conociendo el valor máximo y mínimo de la longitud de los tweets.\n",
    "ax.legend()\n",
    "\n",
    "plt.show()"
   ]
  },
  {
   "cell_type": "markdown",
   "metadata": {
    "colab_type": "text",
    "id": "BdQq1LHAOvjs"
   },
   "source": [
    "En está visualización podemos observar que los tweets que tienen una longitud menor a 80 caracteres son en su mayoría falsos, mientras que los que tienen una longitud superior tienden a ser verdaderos. Tambíen podemos ver que la longitud de los tweets tiene un pico llegando a los 140 caracteres, lo cuál tiene sentido considerando las limitaciones que la plataforma solía tener respecto a la longitud de los mismos."
   ]
  },
  {
   "cell_type": "markdown",
   "metadata": {},
   "source": [
    "## Covarianza y Correlación<a id='link_5'></a>"
   ]
  },
  {
   "cell_type": "code",
   "execution_count": 32,
   "metadata": {},
   "outputs": [
    {
     "data": {
      "text/html": [
       "<div>\n",
       "<style scoped>\n",
       "    .dataframe tbody tr th:only-of-type {\n",
       "        vertical-align: middle;\n",
       "    }\n",
       "\n",
       "    .dataframe tbody tr th {\n",
       "        vertical-align: top;\n",
       "    }\n",
       "\n",
       "    .dataframe thead th {\n",
       "        text-align: right;\n",
       "    }\n",
       "</style>\n",
       "<table border=\"1\" class=\"dataframe\">\n",
       "  <thead>\n",
       "    <tr style=\"text-align: right;\">\n",
       "      <th></th>\n",
       "      <th>count</th>\n",
       "      <th>mean</th>\n",
       "      <th>std</th>\n",
       "      <th>min</th>\n",
       "      <th>25%</th>\n",
       "      <th>50%</th>\n",
       "      <th>75%</th>\n",
       "      <th>max</th>\n",
       "    </tr>\n",
       "  </thead>\n",
       "  <tbody>\n",
       "    <tr>\n",
       "      <th>longitud_del_tweet</th>\n",
       "      <td>7613.0</td>\n",
       "      <td>101.336136</td>\n",
       "      <td>33.991338</td>\n",
       "      <td>7.0</td>\n",
       "      <td>78.0</td>\n",
       "      <td>107.0</td>\n",
       "      <td>134.0</td>\n",
       "      <td>163.0</td>\n",
       "    </tr>\n",
       "  </tbody>\n",
       "</table>\n",
       "</div>"
      ],
      "text/plain": [
       "                     count        mean        std  min   25%    50%    75%  \\\n",
       "longitud_del_tweet  7613.0  101.336136  33.991338  7.0  78.0  107.0  134.0   \n",
       "\n",
       "                      max  \n",
       "longitud_del_tweet  163.0  "
      ]
     },
     "execution_count": 32,
     "metadata": {},
     "output_type": "execute_result"
    }
   ],
   "source": [
    "train_df['longitud_del_tweet'].describe().to_frame().T"
   ]
  },
  {
   "cell_type": "markdown",
   "metadata": {},
   "source": [
    "Vamos a analizar más en detalle que va sucediendo a medida que la longitud crece; que sucede con el target, es \"más real\" o no el tweet?<br>\n",
    "Creamos unas categorías segun lo visto anteriormente donde de todas las longitudes el 25% promedio esta en 78, el 50% en 107 y así... la idea de estas categorías es agrupar rangos entre 0 a 25 , 25 a 50 , 50 a 75 y 75 a 100 segun estas medidas obtenidas."
   ]
  },
  {
   "cell_type": "code",
   "execution_count": 33,
   "metadata": {},
   "outputs": [],
   "source": [
    "train_df.loc[train_df['longitud_del_tweet']<78.0,'Categ']=\"0 a 25\"\n",
    "train_df.loc[train_df['longitud_del_tweet']>=78.0,'Categ']=\"25 a 50\"\n",
    "train_df.loc[train_df['longitud_del_tweet']>=107.0,'Categ']= \"50 a 75\"\n",
    "train_df.loc[train_df['longitud_del_tweet']>=134.0,'Categ']= \"75 a 100\""
   ]
  },
  {
   "cell_type": "code",
   "execution_count": 34,
   "metadata": {},
   "outputs": [
    {
     "data": {
      "image/png": "[encoded data removed]",
      "text/plain": [
       "<Figure size 1152x432 with 1 Axes>"
      ]
     },
     "metadata": {
      "needs_background": "light"
     },
     "output_type": "display_data"
    }
   ],
   "source": [
    "df_aux = train_df.groupby(['Categ','target'])['id'].count().unstack()\n",
    "df_aux.columns = ['Tweets Falsos','Tweets Verdaderos']\n",
    "df_aux.plot.bar(figsize=(16,6), color=('red','green'));\n",
    "plt.xticks(rotation=0)\n",
    "\n",
    "plt.title('Cantidad de tweets vs longitud', fontsize=20,weight='bold')\n",
    "plt.ylabel('Cantidad de Tweets', fontsize=16,weight='bold');\n",
    "plt.xlabel('Categoria de longitud', fontsize=16,weight='bold');"
   ]
  },
  {
   "cell_type": "markdown",
   "metadata": {},
   "source": [
    "Aca podemos ver que a una longitud menor es más probable que sea un tweet falso y que cuanto más largo sea el tweet mayor su probabilidad de ser real.\n",
    "<br>\n",
    "La idea ahora es analizar cual es la covarianza y correlacion entre estas categorias creadas en base a su longitud (como largo de la cadena) vs target."
   ]
  },
  {
   "cell_type": "code",
   "execution_count": 35,
   "metadata": {},
   "outputs": [],
   "source": [
    "df_aux = train_df\n",
    "df_aux['Categ_A'] = np.where(df_aux['Categ']==\"0 a 25\",1,0)\n",
    "df_aux['Categ_B'] = np.where(df_aux['Categ']==\"25 a 50\",1,0)\n",
    "df_aux['Categ_C'] = np.where(df_aux['Categ']==\"50 a 75\",1,0)\n",
    "df_aux['Categ_D'] = np.where(df_aux['Categ']==\"75 a 100\",1,0)"
   ]
  },
  {
   "cell_type": "code",
   "execution_count": 36,
   "metadata": {},
   "outputs": [
    {
     "data": {
      "text/html": [
       "<div>\n",
       "<style scoped>\n",
       "    .dataframe tbody tr th:only-of-type {\n",
       "        vertical-align: middle;\n",
       "    }\n",
       "\n",
       "    .dataframe tbody tr th {\n",
       "        vertical-align: top;\n",
       "    }\n",
       "\n",
       "    .dataframe thead th {\n",
       "        text-align: right;\n",
       "    }\n",
       "</style>\n",
       "<table border=\"1\" class=\"dataframe\">\n",
       "  <thead>\n",
       "    <tr style=\"text-align: right;\">\n",
       "      <th></th>\n",
       "      <th>Categ_A</th>\n",
       "      <th>Categ_B</th>\n",
       "      <th>Categ_C</th>\n",
       "      <th>Categ_D</th>\n",
       "      <th>longitud_del_tweet</th>\n",
       "      <th>target</th>\n",
       "    </tr>\n",
       "  </thead>\n",
       "  <tbody>\n",
       "    <tr>\n",
       "      <th>Categ_A</th>\n",
       "      <td>1.000000</td>\n",
       "      <td>-0.327100</td>\n",
       "      <td>-0.337233</td>\n",
       "      <td>-0.333972</td>\n",
       "      <td>-0.820184</td>\n",
       "      <td>-0.176486</td>\n",
       "    </tr>\n",
       "    <tr>\n",
       "      <th>Categ_B</th>\n",
       "      <td>-0.327100</td>\n",
       "      <td>1.000000</td>\n",
       "      <td>-0.332614</td>\n",
       "      <td>-0.329397</td>\n",
       "      <td>-0.154991</td>\n",
       "      <td>0.042091</td>\n",
       "    </tr>\n",
       "    <tr>\n",
       "      <th>Categ_C</th>\n",
       "      <td>-0.337233</td>\n",
       "      <td>-0.332614</td>\n",
       "      <td>1.000000</td>\n",
       "      <td>-0.339601</td>\n",
       "      <td>0.337340</td>\n",
       "      <td>0.005319</td>\n",
       "    </tr>\n",
       "    <tr>\n",
       "      <th>Categ_D</th>\n",
       "      <td>-0.333972</td>\n",
       "      <td>-0.329397</td>\n",
       "      <td>-0.339601</td>\n",
       "      <td>1.000000</td>\n",
       "      <td>0.631737</td>\n",
       "      <td>0.128873</td>\n",
       "    </tr>\n",
       "    <tr>\n",
       "      <th>longitud_del_tweet</th>\n",
       "      <td>-0.820184</td>\n",
       "      <td>-0.154991</td>\n",
       "      <td>0.337340</td>\n",
       "      <td>0.631737</td>\n",
       "      <td>1.000000</td>\n",
       "      <td>0.181513</td>\n",
       "    </tr>\n",
       "    <tr>\n",
       "      <th>target</th>\n",
       "      <td>-0.176486</td>\n",
       "      <td>0.042091</td>\n",
       "      <td>0.005319</td>\n",
       "      <td>0.128873</td>\n",
       "      <td>0.181513</td>\n",
       "      <td>1.000000</td>\n",
       "    </tr>\n",
       "  </tbody>\n",
       "</table>\n",
       "</div>"
      ],
      "text/plain": [
       "                     Categ_A   Categ_B   Categ_C   Categ_D  \\\n",
       "Categ_A             1.000000 -0.327100 -0.337233 -0.333972   \n",
       "Categ_B            -0.327100  1.000000 -0.332614 -0.329397   \n",
       "Categ_C            -0.337233 -0.332614  1.000000 -0.339601   \n",
       "Categ_D            -0.333972 -0.329397 -0.339601  1.000000   \n",
       "longitud_del_tweet -0.820184 -0.154991  0.337340  0.631737   \n",
       "target             -0.176486  0.042091  0.005319  0.128873   \n",
       "\n",
       "                    longitud_del_tweet    target  \n",
       "Categ_A                      -0.820184 -0.176486  \n",
       "Categ_B                      -0.154991  0.042091  \n",
       "Categ_C                       0.337340  0.005319  \n",
       "Categ_D                       0.631737  0.128873  \n",
       "longitud_del_tweet            1.000000  0.181513  \n",
       "target                        0.181513  1.000000  "
      ]
     },
     "execution_count": 36,
     "metadata": {},
     "output_type": "execute_result"
    }
   ],
   "source": [
    "df_aux[['Categ_A','Categ_B','Categ_C','Categ_D','longitud_del_tweet','target']].corr()"
   ]
  },
  {
   "cell_type": "markdown",
   "metadata": {},
   "source": [
    "Podemos ver como aumenta la correlacion un poco a medida que la logitud aumenta, pero esto no nos indica si aumenta segun si es o no real."
   ]
  },
  {
   "cell_type": "markdown",
   "metadata": {
    "colab_type": "text",
    "id": "3ie_uOcpO3Je"
   },
   "source": [
    "## Análisis de keywords<a id='link_6'></a>"
   ]
  },
  {
   "cell_type": "code",
   "execution_count": 37,
   "metadata": {
    "colab": {
     "base_uri": "https://localhost:8080/",
     "height": 221
    },
    "colab_type": "code",
    "id": "fU2mv2zPjlUA",
    "outputId": "5c258eae-7feb-4bfb-a5ad-30be76f4cf22"
   },
   "outputs": [
    {
     "data": {
      "text/plain": [
       "derailment     39\n",
       "outbreak       39\n",
       "wreckage       39\n",
       "debris         37\n",
       "oil spill      37\n",
       "               ..\n",
       "ruin            1\n",
       "epicentre       1\n",
       "electrocute     1\n",
       "body bags       1\n",
       "blazing         1\n",
       "Name: keyword, Length: 220, dtype: int64"
      ]
     },
     "execution_count": 37,
     "metadata": {},
     "output_type": "execute_result"
    }
   ],
   "source": [
    "keywords_verdaderos = train_df.loc[~train_df['keyword'].isnull() & train_df['target']]['keyword']\n",
    "keywords_verdaderos.value_counts()"
   ]
  },
  {
   "cell_type": "code",
   "execution_count": 38,
   "metadata": {
    "colab": {
     "base_uri": "https://localhost:8080/",
     "height": 221
    },
    "colab_type": "code",
    "id": "QcQSiK_3jikw",
    "outputId": "12ea7f87-2b20-4170-c0d3-8928a433ed73"
   },
   "outputs": [
    {
     "data": {
      "text/plain": [
       "body bags          40\n",
       "armageddon         37\n",
       "harm               37\n",
       "ruin               36\n",
       "wrecked            36\n",
       "                   ..\n",
       "oil spill           1\n",
       "suicide bombing     1\n",
       "suicide bomber      1\n",
       "outbreak            1\n",
       "typhoon             1\n",
       "Name: keyword, Length: 218, dtype: int64"
      ]
     },
     "execution_count": 38,
     "metadata": {},
     "output_type": "execute_result"
    }
   ],
   "source": [
    "keywords_falsos = train_df.loc[~train_df['keyword'].isnull() & ~train_df['target']]['keyword']\n",
    "keywords_falsos.value_counts()"
   ]
  },
  {
   "cell_type": "code",
   "execution_count": 39,
   "metadata": {},
   "outputs": [
    {
     "data": {
      "text/html": [
       "<div>\n",
       "<style scoped>\n",
       "    .dataframe tbody tr th:only-of-type {\n",
       "        vertical-align: middle;\n",
       "    }\n",
       "\n",
       "    .dataframe tbody tr th {\n",
       "        vertical-align: top;\n",
       "    }\n",
       "\n",
       "    .dataframe thead th {\n",
       "        text-align: right;\n",
       "    }\n",
       "</style>\n",
       "<table border=\"1\" class=\"dataframe\">\n",
       "  <thead>\n",
       "    <tr style=\"text-align: right;\">\n",
       "      <th></th>\n",
       "      <th>keyword</th>\n",
       "      <th>count_x</th>\n",
       "      <th>count_y</th>\n",
       "    </tr>\n",
       "  </thead>\n",
       "  <tbody>\n",
       "    <tr>\n",
       "      <th>0</th>\n",
       "      <td>derailment</td>\n",
       "      <td>39.0</td>\n",
       "      <td>NaN</td>\n",
       "    </tr>\n",
       "    <tr>\n",
       "      <th>1</th>\n",
       "      <td>outbreak</td>\n",
       "      <td>39.0</td>\n",
       "      <td>1.0</td>\n",
       "    </tr>\n",
       "    <tr>\n",
       "      <th>2</th>\n",
       "      <td>wreckage</td>\n",
       "      <td>39.0</td>\n",
       "      <td>NaN</td>\n",
       "    </tr>\n",
       "    <tr>\n",
       "      <th>3</th>\n",
       "      <td>debris</td>\n",
       "      <td>37.0</td>\n",
       "      <td>NaN</td>\n",
       "    </tr>\n",
       "    <tr>\n",
       "      <th>4</th>\n",
       "      <td>oil spill</td>\n",
       "      <td>37.0</td>\n",
       "      <td>1.0</td>\n",
       "    </tr>\n",
       "  </tbody>\n",
       "</table>\n",
       "</div>"
      ],
      "text/plain": [
       "      keyword  count_x  count_y\n",
       "0  derailment     39.0      NaN\n",
       "1    outbreak     39.0      1.0\n",
       "2    wreckage     39.0      NaN\n",
       "3      debris     37.0      NaN\n",
       "4   oil spill     37.0      1.0"
      ]
     },
     "execution_count": 39,
     "metadata": {},
     "output_type": "execute_result"
    }
   ],
   "source": [
    "df1 = keywords_verdaderos.value_counts().to_frame().reset_index()\n",
    "df1.columns = ['keyword','count']\n",
    "\n",
    "df2 = keywords_falsos.value_counts().to_frame().reset_index()\n",
    "df2.columns = ['keyword','count']\n",
    "\n",
    "merge_keywords = pd.merge(df1,df2,how='outer',on='keyword')\n",
    "merge_keywords.head()"
   ]
  },
  {
   "cell_type": "code",
   "execution_count": 40,
   "metadata": {},
   "outputs": [],
   "source": [
    "merge_keywords.fillna(value=0,inplace=True)"
   ]
  },
  {
   "cell_type": "code",
   "execution_count": 41,
   "metadata": {},
   "outputs": [],
   "source": [
    "merge_keywords.rename(columns={'count_x':'cantidad_verdaderos','count_y':'cantidad_falsos'},inplace=True)"
   ]
  },
  {
   "cell_type": "code",
   "execution_count": 42,
   "metadata": {},
   "outputs": [
    {
     "data": {
      "text/html": [
       "<div>\n",
       "<style scoped>\n",
       "    .dataframe tbody tr th:only-of-type {\n",
       "        vertical-align: middle;\n",
       "    }\n",
       "\n",
       "    .dataframe tbody tr th {\n",
       "        vertical-align: top;\n",
       "    }\n",
       "\n",
       "    .dataframe thead th {\n",
       "        text-align: right;\n",
       "    }\n",
       "</style>\n",
       "<table border=\"1\" class=\"dataframe\">\n",
       "  <thead>\n",
       "    <tr style=\"text-align: right;\">\n",
       "      <th></th>\n",
       "      <th>keyword</th>\n",
       "      <th>cantidad_verdaderos</th>\n",
       "      <th>cantidad_falsos</th>\n",
       "    </tr>\n",
       "  </thead>\n",
       "  <tbody>\n",
       "    <tr>\n",
       "      <th>0</th>\n",
       "      <td>derailment</td>\n",
       "      <td>39.0</td>\n",
       "      <td>0.0</td>\n",
       "    </tr>\n",
       "    <tr>\n",
       "      <th>1</th>\n",
       "      <td>outbreak</td>\n",
       "      <td>39.0</td>\n",
       "      <td>1.0</td>\n",
       "    </tr>\n",
       "    <tr>\n",
       "      <th>2</th>\n",
       "      <td>wreckage</td>\n",
       "      <td>39.0</td>\n",
       "      <td>0.0</td>\n",
       "    </tr>\n",
       "    <tr>\n",
       "      <th>3</th>\n",
       "      <td>debris</td>\n",
       "      <td>37.0</td>\n",
       "      <td>0.0</td>\n",
       "    </tr>\n",
       "    <tr>\n",
       "      <th>4</th>\n",
       "      <td>oil spill</td>\n",
       "      <td>37.0</td>\n",
       "      <td>1.0</td>\n",
       "    </tr>\n",
       "  </tbody>\n",
       "</table>\n",
       "</div>"
      ],
      "text/plain": [
       "      keyword  cantidad_verdaderos  cantidad_falsos\n",
       "0  derailment                 39.0              0.0\n",
       "1    outbreak                 39.0              1.0\n",
       "2    wreckage                 39.0              0.0\n",
       "3      debris                 37.0              0.0\n",
       "4   oil spill                 37.0              1.0"
      ]
     },
     "execution_count": 42,
     "metadata": {},
     "output_type": "execute_result"
    }
   ],
   "source": [
    "merge_keywords.head()"
   ]
  },
  {
   "cell_type": "code",
   "execution_count": 43,
   "metadata": {},
   "outputs": [],
   "source": [
    "merge_keywords['porcentaje_verdaderos'] = (merge_keywords['cantidad_verdaderos'] / (merge_keywords['cantidad_verdaderos'] + merge_keywords['cantidad_falsos'])) * 100"
   ]
  },
  {
   "cell_type": "code",
   "execution_count": 44,
   "metadata": {},
   "outputs": [],
   "source": [
    "merge_keywords.set_index('keyword',inplace=True)"
   ]
  },
  {
   "cell_type": "code",
   "execution_count": 45,
   "metadata": {},
   "outputs": [
    {
     "data": {
      "text/html": [
       "<div>\n",
       "<style scoped>\n",
       "    .dataframe tbody tr th:only-of-type {\n",
       "        vertical-align: middle;\n",
       "    }\n",
       "\n",
       "    .dataframe tbody tr th {\n",
       "        vertical-align: top;\n",
       "    }\n",
       "\n",
       "    .dataframe thead th {\n",
       "        text-align: right;\n",
       "    }\n",
       "</style>\n",
       "<table border=\"1\" class=\"dataframe\">\n",
       "  <thead>\n",
       "    <tr style=\"text-align: right;\">\n",
       "      <th></th>\n",
       "      <th>cantidad_verdaderos</th>\n",
       "      <th>cantidad_falsos</th>\n",
       "      <th>porcentaje_verdaderos</th>\n",
       "    </tr>\n",
       "    <tr>\n",
       "      <th>keyword</th>\n",
       "      <th></th>\n",
       "      <th></th>\n",
       "      <th></th>\n",
       "    </tr>\n",
       "  </thead>\n",
       "  <tbody>\n",
       "    <tr>\n",
       "      <th>derailment</th>\n",
       "      <td>39.0</td>\n",
       "      <td>0.0</td>\n",
       "      <td>100.000000</td>\n",
       "    </tr>\n",
       "    <tr>\n",
       "      <th>outbreak</th>\n",
       "      <td>39.0</td>\n",
       "      <td>1.0</td>\n",
       "      <td>97.500000</td>\n",
       "    </tr>\n",
       "    <tr>\n",
       "      <th>wreckage</th>\n",
       "      <td>39.0</td>\n",
       "      <td>0.0</td>\n",
       "      <td>100.000000</td>\n",
       "    </tr>\n",
       "    <tr>\n",
       "      <th>debris</th>\n",
       "      <td>37.0</td>\n",
       "      <td>0.0</td>\n",
       "      <td>100.000000</td>\n",
       "    </tr>\n",
       "    <tr>\n",
       "      <th>oil spill</th>\n",
       "      <td>37.0</td>\n",
       "      <td>1.0</td>\n",
       "      <td>97.368421</td>\n",
       "    </tr>\n",
       "  </tbody>\n",
       "</table>\n",
       "</div>"
      ],
      "text/plain": [
       "            cantidad_verdaderos  cantidad_falsos  porcentaje_verdaderos\n",
       "keyword                                                                \n",
       "derailment                 39.0              0.0             100.000000\n",
       "outbreak                   39.0              1.0              97.500000\n",
       "wreckage                   39.0              0.0             100.000000\n",
       "debris                     37.0              0.0             100.000000\n",
       "oil spill                  37.0              1.0              97.368421"
      ]
     },
     "execution_count": 45,
     "metadata": {},
     "output_type": "execute_result"
    }
   ],
   "source": [
    "merge_keywords.head()"
   ]
  },
  {
   "cell_type": "markdown",
   "metadata": {},
   "source": [
    "Vamos a analizar los keyword en función del porcentaje de tweets verdaderos. Para ello, vamos a considerar como significativos los keywords que tengan por lo menos 30 tweets."
   ]
  },
  {
   "cell_type": "code",
   "execution_count": 46,
   "metadata": {},
   "outputs": [
    {
     "data": {
      "text/html": [
       "<div>\n",
       "<style scoped>\n",
       "    .dataframe tbody tr th:only-of-type {\n",
       "        vertical-align: middle;\n",
       "    }\n",
       "\n",
       "    .dataframe tbody tr th {\n",
       "        vertical-align: top;\n",
       "    }\n",
       "\n",
       "    .dataframe thead th {\n",
       "        text-align: right;\n",
       "    }\n",
       "</style>\n",
       "<table border=\"1\" class=\"dataframe\">\n",
       "  <thead>\n",
       "    <tr style=\"text-align: right;\">\n",
       "      <th></th>\n",
       "      <th>cantidad_verdaderos</th>\n",
       "      <th>cantidad_falsos</th>\n",
       "    </tr>\n",
       "    <tr>\n",
       "      <th>keyword</th>\n",
       "      <th></th>\n",
       "      <th></th>\n",
       "    </tr>\n",
       "  </thead>\n",
       "  <tbody>\n",
       "    <tr>\n",
       "      <th>derailment</th>\n",
       "      <td>39.0</td>\n",
       "      <td>0.0</td>\n",
       "    </tr>\n",
       "    <tr>\n",
       "      <th>wreckage</th>\n",
       "      <td>39.0</td>\n",
       "      <td>0.0</td>\n",
       "    </tr>\n",
       "    <tr>\n",
       "      <th>debris</th>\n",
       "      <td>37.0</td>\n",
       "      <td>0.0</td>\n",
       "    </tr>\n",
       "    <tr>\n",
       "      <th>outbreak</th>\n",
       "      <td>39.0</td>\n",
       "      <td>1.0</td>\n",
       "    </tr>\n",
       "    <tr>\n",
       "      <th>oil spill</th>\n",
       "      <td>37.0</td>\n",
       "      <td>1.0</td>\n",
       "    </tr>\n",
       "    <tr>\n",
       "      <th>typhoon</th>\n",
       "      <td>37.0</td>\n",
       "      <td>1.0</td>\n",
       "    </tr>\n",
       "    <tr>\n",
       "      <th>suicide bombing</th>\n",
       "      <td>32.0</td>\n",
       "      <td>1.0</td>\n",
       "    </tr>\n",
       "    <tr>\n",
       "      <th>suicide bomber</th>\n",
       "      <td>30.0</td>\n",
       "      <td>1.0</td>\n",
       "    </tr>\n",
       "    <tr>\n",
       "      <th>suicide bomb</th>\n",
       "      <td>32.0</td>\n",
       "      <td>3.0</td>\n",
       "    </tr>\n",
       "    <tr>\n",
       "      <th>rescuers</th>\n",
       "      <td>32.0</td>\n",
       "      <td>3.0</td>\n",
       "    </tr>\n",
       "  </tbody>\n",
       "</table>\n",
       "</div>"
      ],
      "text/plain": [
       "                 cantidad_verdaderos  cantidad_falsos\n",
       "keyword                                              \n",
       "derailment                      39.0              0.0\n",
       "wreckage                        39.0              0.0\n",
       "debris                          37.0              0.0\n",
       "outbreak                        39.0              1.0\n",
       "oil spill                       37.0              1.0\n",
       "typhoon                         37.0              1.0\n",
       "suicide bombing                 32.0              1.0\n",
       "suicide bomber                  30.0              1.0\n",
       "suicide bomb                    32.0              3.0\n",
       "rescuers                        32.0              3.0"
      ]
     },
     "execution_count": 46,
     "metadata": {},
     "output_type": "execute_result"
    }
   ],
   "source": [
    "merge_keywords.loc[(merge_keywords['cantidad_verdaderos'] + merge_keywords['cantidad_falsos']) > 30].nlargest(10,'porcentaje_verdaderos')[['cantidad_verdaderos','cantidad_falsos']]"
   ]
  },
  {
   "cell_type": "code",
   "execution_count": 47,
   "metadata": {},
   "outputs": [
    {
     "data": {
      "image/png": "[encoded data removed]",
      "text/plain": [
       "<Figure size 1440x720 with 1 Axes>"
      ]
     },
     "metadata": {
      "needs_background": "light"
     },
     "output_type": "display_data"
    }
   ],
   "source": [
    "df_aux = merge_keywords.loc[(merge_keywords['cantidad_verdaderos'] + merge_keywords['cantidad_falsos']) > 30].nlargest(10,'porcentaje_verdaderos')[['cantidad_verdaderos','cantidad_falsos']]\n",
    "\n",
    "df_aux.columns = ['Tweets Verdaderos','Tweets Falsos']\n",
    "\n",
    "df_aux.plot.bar(figsize=(20,10),color=('green','red'));\n",
    "\n",
    "plt.xticks(rotation=0,weight='bold')\n",
    "\n",
    "plt.title('Top 10 keywords con mayor porcentaje de tweets verdaderos', fontsize=20,weight='bold')\n",
    "plt.ylabel('Cantidad de Tweets', fontsize=16,weight='bold')\n",
    "plt.xlabel('Keywords', fontsize=16,weight='bold');"
   ]
  },
  {
   "cell_type": "markdown",
   "metadata": {},
   "source": [
    "Hacer algun comentario..."
   ]
  },
  {
   "cell_type": "code",
   "execution_count": 48,
   "metadata": {},
   "outputs": [
    {
     "data": {
      "image/png": "[encoded data removed]",
      "text/plain": [
       "<Figure size 1440x720 with 1 Axes>"
      ]
     },
     "metadata": {
      "needs_background": "light"
     },
     "output_type": "display_data"
    }
   ],
   "source": [
    "df_aux = merge_keywords.loc[(merge_keywords['cantidad_verdaderos'] + merge_keywords['cantidad_falsos']) > 30].nsmallest(10,'porcentaje_verdaderos')[['cantidad_verdaderos','cantidad_falsos']]\n",
    "\n",
    "df_aux.columns = ['Tweets Verdaderos','Tweets Falsos']\n",
    "\n",
    "df_aux.plot.bar(figsize=(20,10),color=('green','red'));\n",
    "\n",
    "plt.xticks(rotation=0,weight='bold')\n",
    "\n",
    "plt.title('Top 10 keywords con menor porcentaje de tweets verdaderos', fontsize=20,weight='bold')\n",
    "plt.ylabel('Cantidad de Tweets', fontsize=16,weight='bold')\n",
    "plt.xlabel('Keywords', fontsize=16,weight='bold');"
   ]
  },
  {
   "cell_type": "markdown",
   "metadata": {},
   "source": [
    "Hacer algun comentario..."
   ]
  },
  {
   "cell_type": "markdown",
   "metadata": {
    "colab_type": "text",
    "id": "fM9Ja0bdwvl1"
   },
   "source": [
    "## Análisis de menciones<a id='link_7'></a>"
   ]
  },
  {
   "cell_type": "markdown",
   "metadata": {
    "colab_type": "text",
    "id": "NCPOpePWwvwT"
   },
   "source": [
    "Vamos a analizar la naturaleza de los tweets en base a si se realiza alguna mención en el mismo o no."
   ]
  },
  {
   "cell_type": "code",
   "execution_count": 49,
   "metadata": {
    "colab": {},
    "colab_type": "code",
    "id": "WUeVrVT-wv8T"
   },
   "outputs": [],
   "source": [
    "train_df['tiene_menciones'] = train_df['text'].str.contains('@')"
   ]
  },
  {
   "cell_type": "code",
   "execution_count": 50,
   "metadata": {
    "colab": {
     "base_uri": "https://localhost:8080/",
     "height": 596
    },
    "colab_type": "code",
    "id": "KMmwP4jJwwHw",
    "outputId": "d2c7d7f8-520b-41c2-feae-ab7246c52a9f"
   },
   "outputs": [
    {
     "data": {
      "image/png": "[encoded data removed]",
      "text/plain": [
       "<Figure size 504x504 with 1 Axes>"
      ]
     },
     "metadata": {},
     "output_type": "display_data"
    }
   ],
   "source": [
    "train_df.loc[train_df['tiene_menciones']]['target'].value_counts().plot.pie(labels=['Tweets Falsos','Tweets Verdaderos'],\\\n",
    "                                                figsize=(7,7),autopct='%.2f', fontsize=16,colors=('red','green'))\n",
    "\n",
    "plt.ylabel('');\n",
    "plt.title('Veracidad de los tweets donde se realizan menciones',fontsize=20,weight='bold');"
   ]
  },
  {
   "cell_type": "markdown",
   "metadata": {
    "colab_type": "text",
    "id": "6wb3uyJmwwU6"
   },
   "source": [
    "Podemos ver que en 2/3 de los tweets en donde se realiza alguna mención, el tweet resulta ser falso."
   ]
  },
  {
   "cell_type": "markdown",
   "metadata": {
    "colab_type": "text",
    "id": "Lm6BEFAoxU5-"
   },
   "source": [
    "## Análisis de \"tweets expresivos\"<a id='link_8'></a>"
   ]
  },
  {
   "cell_type": "markdown",
   "metadata": {
    "colab_type": "text",
    "id": "6CzvUlkCxVBb"
   },
   "source": [
    "Consideramos como \"tweet expresivo\" a los tweets en donde se utiliza múltiples signos de exclamación o interrogación consecutivos."
   ]
  },
  {
   "cell_type": "code",
   "execution_count": 51,
   "metadata": {
    "colab": {},
    "colab_type": "code",
    "id": "5DS80xdixQQd"
   },
   "outputs": [],
   "source": [
    "train_df['es_expresivo'] = (train_df['text'].str.contains('\\!\\!') | train_df['text'].str.contains('\\?\\?'))"
   ]
  },
  {
   "cell_type": "code",
   "execution_count": 52,
   "metadata": {
    "colab": {
     "base_uri": "https://localhost:8080/",
     "height": 596
    },
    "colab_type": "code",
    "id": "gZzXZIMExVz1",
    "outputId": "b35ade75-81ef-4c31-d2ac-ca0341115cf4"
   },
   "outputs": [
    {
     "data": {
      "image/png": "[encoded data removed]",
      "text/plain": [
       "<Figure size 504x504 with 1 Axes>"
      ]
     },
     "metadata": {},
     "output_type": "display_data"
    }
   ],
   "source": [
    "train_df.loc[train_df['es_expresivo']]['target'].value_counts().plot.pie(labels=['Tweets Falsos','Tweets Verdaderos'],\\\n",
    "                                                figsize=(7, 7),autopct='%.2f', fontsize=16,colors=('red','green'))\n",
    "\n",
    "plt.ylabel('');\n",
    "plt.title('Veracidad de los tweets expresivos',fontsize=20,weight='bold');"
   ]
  },
  {
   "cell_type": "markdown",
   "metadata": {
    "colab_type": "text",
    "id": "gktE6ANexWAb"
   },
   "source": [
    "Como podría esperarse, los tweets en donde se utilizan signos de puntuación de manera exagerada, en general para resaltar una emoción del usuario, no suelen ser sobre noticias reales."
   ]
  },
  {
   "cell_type": "markdown",
   "metadata": {
    "colab_type": "text",
    "id": "pElIfnoR3hG1"
   },
   "source": [
    "## Hay algún registro que el <i><b>text</b></i> NO contenga la <i><b>keyword</b></i>?<a id='link_9'></a>"
   ]
  },
  {
   "cell_type": "code",
   "execution_count": 53,
   "metadata": {
    "colab": {},
    "colab_type": "code",
    "id": "Qmnvt3sd3bVb"
   },
   "outputs": [],
   "source": [
    "def f_aux(row):\n",
    "  if str(row['keyword']).lower() in str(row['text']).lower():\n",
    "    return True\n",
    "  return False\n",
    "\n",
    "train_df['contiene_key'] = train_df.loc[~train_df['keyword'].isnull()].apply(f_aux,axis=1)"
   ]
  },
  {
   "cell_type": "code",
   "execution_count": 54,
   "metadata": {
    "colab": {
     "base_uri": "https://localhost:8080/",
     "height": 68
    },
    "colab_type": "code",
    "id": "vqAmdgfD3mNz",
    "outputId": "152e7853-a36d-4dd3-8f1b-3231370697bc"
   },
   "outputs": [
    {
     "data": {
      "text/plain": [
       "True     6700\n",
       "False     852\n",
       "Name: contiene_key, dtype: int64"
      ]
     },
     "execution_count": 54,
     "metadata": {},
     "output_type": "execute_result"
    }
   ],
   "source": [
    "train_df['contiene_key'].value_counts()"
   ]
  },
  {
   "cell_type": "code",
   "execution_count": 55,
   "metadata": {
    "colab": {
     "base_uri": "https://localhost:8080/",
     "height": 359
    },
    "colab_type": "code",
    "id": "zV7jIn6a3pt7",
    "outputId": "7a4ddb35-6dfd-457e-b9eb-8d1ac18ecd9e"
   },
   "outputs": [
    {
     "data": {
      "text/html": [
       "<div>\n",
       "<style scoped>\n",
       "    .dataframe tbody tr th:only-of-type {\n",
       "        vertical-align: middle;\n",
       "    }\n",
       "\n",
       "    .dataframe tbody tr th {\n",
       "        vertical-align: top;\n",
       "    }\n",
       "\n",
       "    .dataframe thead th {\n",
       "        text-align: right;\n",
       "    }\n",
       "</style>\n",
       "<table border=\"1\" class=\"dataframe\">\n",
       "  <thead>\n",
       "    <tr style=\"text-align: right;\">\n",
       "      <th></th>\n",
       "      <th>keyword</th>\n",
       "      <th>text</th>\n",
       "    </tr>\n",
       "  </thead>\n",
       "  <tbody>\n",
       "    <tr>\n",
       "      <th>32</th>\n",
       "      <td>ablaze</td>\n",
       "      <td>We always try to bring the heavy. #metal #RT h...</td>\n",
       "    </tr>\n",
       "    <tr>\n",
       "      <th>40</th>\n",
       "      <td>ablaze</td>\n",
       "      <td>Check these out: http://t.co/rOI2NSmEJJ http:/...</td>\n",
       "    </tr>\n",
       "    <tr>\n",
       "      <th>45</th>\n",
       "      <td>ablaze</td>\n",
       "      <td>I gained 3 followers in the last week. You? Kn...</td>\n",
       "    </tr>\n",
       "    <tr>\n",
       "      <th>48</th>\n",
       "      <td>ablaze</td>\n",
       "      <td>Check these out: http://t.co/rOI2NSmEJJ http:/...</td>\n",
       "    </tr>\n",
       "    <tr>\n",
       "      <th>49</th>\n",
       "      <td>ablaze</td>\n",
       "      <td>First night with retainers in. It's quite weir...</td>\n",
       "    </tr>\n",
       "    <tr>\n",
       "      <th>52</th>\n",
       "      <td>ablaze</td>\n",
       "      <td>SANTA CRUZ ÂÃÃ Head of the St Elizabeth Pol...</td>\n",
       "    </tr>\n",
       "    <tr>\n",
       "      <th>54</th>\n",
       "      <td>ablaze</td>\n",
       "      <td>Noches El-Bestia '@Alexis_Sanchez: happy to se...</td>\n",
       "    </tr>\n",
       "    <tr>\n",
       "      <th>83</th>\n",
       "      <td>accident</td>\n",
       "      <td>#TruckCrash Overturns On #FortWorth Interstate...</td>\n",
       "    </tr>\n",
       "    <tr>\n",
       "      <th>103</th>\n",
       "      <td>aftershock</td>\n",
       "      <td>'The man who can drive himself further once th...</td>\n",
       "    </tr>\n",
       "    <tr>\n",
       "      <th>105</th>\n",
       "      <td>aftershock</td>\n",
       "      <td>'There is no victory at bargain basement price...</td>\n",
       "    </tr>\n",
       "  </tbody>\n",
       "</table>\n",
       "</div>"
      ],
      "text/plain": [
       "        keyword                                               text\n",
       "32       ablaze  We always try to bring the heavy. #metal #RT h...\n",
       "40       ablaze  Check these out: http://t.co/rOI2NSmEJJ http:/...\n",
       "45       ablaze  I gained 3 followers in the last week. You? Kn...\n",
       "48       ablaze  Check these out: http://t.co/rOI2NSmEJJ http:/...\n",
       "49       ablaze  First night with retainers in. It's quite weir...\n",
       "52       ablaze  SANTA CRUZ ÂÃÃ Head of the St Elizabeth Pol...\n",
       "54       ablaze  Noches El-Bestia '@Alexis_Sanchez: happy to se...\n",
       "83     accident  #TruckCrash Overturns On #FortWorth Interstate...\n",
       "103  aftershock  'The man who can drive himself further once th...\n",
       "105  aftershock  'There is no victory at bargain basement price..."
      ]
     },
     "execution_count": 55,
     "metadata": {},
     "output_type": "execute_result"
    }
   ],
   "source": [
    "train_df.loc[train_df['contiene_key']==False].head(10)[['keyword','text']]"
   ]
  },
  {
   "cell_type": "code",
   "execution_count": 56,
   "metadata": {
    "colab": {
     "base_uri": "https://localhost:8080/",
     "height": 68
    },
    "colab_type": "code",
    "id": "l15UiCb_3tXW",
    "outputId": "380ba744-2e52-441d-ecb3-9916d8231397"
   },
   "outputs": [
    {
     "data": {
      "text/plain": [
       "False    500\n",
       "True     352\n",
       "Name: target, dtype: int64"
      ]
     },
     "execution_count": 56,
     "metadata": {},
     "output_type": "execute_result"
    }
   ],
   "source": [
    "train_df.loc[train_df['contiene_key']==False]['target'].value_counts()"
   ]
  },
  {
   "cell_type": "markdown",
   "metadata": {
    "colab_type": "text",
    "id": "cGnCzA984DSg"
   },
   "source": [
    "Podemos observar que de todos los datos que tienen keyword válido, <b>6700</b> \n",
    "son los que contienen exactamente la palabra. Los otros <b>852</b> son interpretaciones del tweet o ruido. No se considera que vale la pena quitar 852 registros por la posibilidad de que la mayoria sean o no ruido."
   ]
  },
  {
   "cell_type": "markdown",
   "metadata": {
    "colab": {},
    "colab_type": "code",
    "id": "LMtgHJfd3-il"
   },
   "source": [
    "## Análisis de hashtags<a id='link_10'></a>"
   ]
  },
  {
   "cell_type": "markdown",
   "metadata": {},
   "source": [
    "Armamos un array con los hashtag que contenga el tweet."
   ]
  },
  {
   "cell_type": "code",
   "execution_count": 57,
   "metadata": {},
   "outputs": [],
   "source": [
    "train_df['cantidad_de_hashtags'] = train_df['text'].str.count('#')"
   ]
  },
  {
   "cell_type": "code",
   "execution_count": 58,
   "metadata": {},
   "outputs": [],
   "source": [
    "import re\n",
    "def split_hashtag(hashtag):\n",
    "    return re.findall(r\"#(\\w+)\",hashtag)\n",
    "\n",
    "train_df['hashtags'] = train_df['text'].apply(split_hashtag)"
   ]
  },
  {
   "cell_type": "code",
   "execution_count": 59,
   "metadata": {
    "scrolled": true
   },
   "outputs": [
    {
     "data": {
      "text/plain": [
       "0     5852\n",
       "1      964\n",
       "2      405\n",
       "3      208\n",
       "4       83\n",
       "5       41\n",
       "6       26\n",
       "10      10\n",
       "7        8\n",
       "8        8\n",
       "13       4\n",
       "11       2\n",
       "9        2\n",
       "Name: cantidad_de_hashtags, dtype: int64"
      ]
     },
     "execution_count": 59,
     "metadata": {},
     "output_type": "execute_result"
    }
   ],
   "source": [
    "train_df['cantidad_de_hashtags'].value_counts()"
   ]
  },
  {
   "cell_type": "code",
   "execution_count": 60,
   "metadata": {},
   "outputs": [],
   "source": [
    "df = train_df[['hashtags']].explode('hashtags').dropna()\n",
    "top20_hashtags = df['hashtags'].value_counts().head(40).to_list()\n",
    "\n",
    "top20_hashtags = [str(hashtag).lower() for hashtag in top20_hashtags]"
   ]
  },
  {
   "cell_type": "code",
   "execution_count": null,
   "metadata": {},
   "outputs": [],
   "source": []
  },
  {
   "cell_type": "code",
   "execution_count": 61,
   "metadata": {},
   "outputs": [
    {
     "ename": "ModuleNotFoundError",
     "evalue": "No module named 'wordcloud'",
     "output_type": "error",
     "traceback": [
      "\u001b[0;31m---------------------------------------------------------------------------\u001b[0m",
      "\u001b[0;31mModuleNotFoundError\u001b[0m                       Traceback (most recent call last)",
      "\u001b[0;32m<ipython-input-61-e7f0c368a00c>\u001b[0m in \u001b[0;36m<module>\u001b[0;34m\u001b[0m\n\u001b[0;32m----> 1\u001b[0;31m \u001b[0;32mfrom\u001b[0m \u001b[0mwordcloud\u001b[0m \u001b[0;32mimport\u001b[0m \u001b[0mWordCloud\u001b[0m\u001b[0;34m,\u001b[0m \u001b[0mSTOPWORDS\u001b[0m\u001b[0;34m,\u001b[0m \u001b[0mImageColorGenerator\u001b[0m\u001b[0;34m\u001b[0m\u001b[0;34m\u001b[0m\u001b[0m\n\u001b[0m\u001b[1;32m      2\u001b[0m \u001b[0;32mimport\u001b[0m \u001b[0mnltk\u001b[0m\u001b[0;34m\u001b[0m\u001b[0;34m\u001b[0m\u001b[0m\n\u001b[1;32m      3\u001b[0m \u001b[0;32mfrom\u001b[0m \u001b[0mnltk\u001b[0m\u001b[0;34m.\u001b[0m\u001b[0mcorpus\u001b[0m \u001b[0;32mimport\u001b[0m \u001b[0mstopwords\u001b[0m\u001b[0;34m\u001b[0m\u001b[0;34m\u001b[0m\u001b[0m\n\u001b[1;32m      4\u001b[0m \u001b[0;32mfrom\u001b[0m \u001b[0mnltk\u001b[0m\u001b[0;34m.\u001b[0m\u001b[0mstem\u001b[0m\u001b[0;34m.\u001b[0m\u001b[0mwordnet\u001b[0m \u001b[0;32mimport\u001b[0m \u001b[0mWordNetLemmatizer\u001b[0m\u001b[0;34m\u001b[0m\u001b[0;34m\u001b[0m\u001b[0m\n\u001b[1;32m      5\u001b[0m \u001b[0;32mfrom\u001b[0m \u001b[0mtextblob\u001b[0m \u001b[0;32mimport\u001b[0m \u001b[0mTextBlob\u001b[0m\u001b[0;34m\u001b[0m\u001b[0;34m\u001b[0m\u001b[0m\n",
      "\u001b[0;31mModuleNotFoundError\u001b[0m: No module named 'wordcloud'"
     ]
    }
   ],
   "source": [
    "from wordcloud import WordCloud, STOPWORDS, ImageColorGenerator\n",
    "import nltk\n",
    "from nltk.corpus import stopwords\n",
    "from nltk.stem.wordnet import WordNetLemmatizer\n",
    "from textblob import TextBlob\n",
    "\n",
    "nltk.download('punkt')\n",
    "nltk.download('wordnet')\n",
    "nltk.download('stopwords')\n",
    "\n",
    "df=train_df.copy()\n",
    "\n",
    "#vamos a limpiar un poco el tweet\n",
    "pattern_exclude = '(one|dont|cant|would|im|people|go|make|time|love|amp|get|house|update|talk'+\\\n",
    "                  '|want|today|know|say|us|day|crush|see|back|think|look|rigth|remember|car'+\\\n",
    "                  '|thing|let|still|lol|much|thank|take|way|youre|road|another|really|save'+\\\n",
    "                  '|play|even|theres|everyone|feel|year|work|check|two|great|ing|like|sink'+\\\n",
    "                  '|every|build|youtuve|video|n|home|body|bag|photo|stay|game|start|gt|fuck|help'+\\\n",
    "                  '|best|well|california|end|live|e|rt|wreck|plan|full|may|ies|u|could|many|last'+\\\n",
    "                  '|find|service|leave|collapse|world|war|destroy|wound|break|right|hear|school)+'\n",
    "\n",
    "def filter_words(tweet):\n",
    "    tweet = re.sub(r'(\\b[\\w]+:\\/\\/[\\w -\\?&;#~=\\.\\/@]+[\\w\\/])', ' ', tweet)\n",
    "    tweet = re.sub(r'\\'', '', tweet)\n",
    "    return re.sub(r'[www.]*[A-z]+.(com|gov|edu|net|mil|org|io|int)+', ' ', tweet)\n",
    "\n",
    "def text_to_blob(tweet):\n",
    "    tweet_blob = TextBlob(str(tweet))\n",
    "    return ' '.join(tweet_blob.words)\n",
    "\n",
    "\n",
    "def normalization(tweet_list):\n",
    "        lem = WordNetLemmatizer()\n",
    "        normalized_tweet = []\n",
    "        for word in tweet_list:\n",
    "            word_aux = word.lower().strip()\n",
    "            if re.match(pattern_exclude,\n",
    "                        word_aux):\n",
    "                continue\n",
    "            normalized_text = lem.lemmatize(word_aux,'v')\n",
    "            normalized_tweet.append(normalized_text)\n",
    "        return normalized_tweet\n",
    "\n",
    "def clean(tweet):\n",
    "    tweet_list = [word for word in (text_to_blob(filter_words(tweet))).split()]\n",
    "    clean_tokens = [tkn for tkn in tweet_list if re.match(r'[A-z]+', tkn)]\n",
    "    clean_s = ' '.join(clean_tokens)\n",
    "    l_aux = normalization(clean_s.split())\n",
    "    return ' '.join([word for word in l_aux if word not in stopwords.words('english')])\n",
    "\n",
    "df['clean_text'] = df['text'].apply(clean)\n",
    "\n",
    "text = df['clean_text'].str.split(' ').to_frame().explode('clean_text')['clean_text'].str.cat(sep=' ').lower()\n",
    "\n",
    "wordcloud = WordCloud(background_color=\"white\").generate(text)\n",
    "\n",
    "plt.figure(figsize=(20,12))\n",
    "plt.imshow(wordcloud, interpolation='bilinear')\n",
    "plt.axis(\"off\")\n",
    "plt.show()"
   ]
  },
  {
   "cell_type": "markdown",
   "metadata": {},
   "source": [
    "Buscar una conclusion sobre las palabras que mayormente se usan y cuales de estos se pueden categorizar como \"criticos\" para decir si es tweet real o no\n",
    "<br>\n",
    "<br>\n",
    "Podemos ver algunas palabras que podrian resultar impotantes como:\n",
    "* FIRE\n",
    "* POLICE\n",
    "* WEAPON\n",
    "* EMERGENCY\n",
    "* HELP\n",
    "* DEAD\n",
    "* DAMAGE\n",
    "* SMOKE\n",
    "* SUICIDE\n",
    "* BOMBER\n",
    "* ATTACK\n",
    "* FEAR\n",
    "* CAUSE\n",
    "* MILITARY\n",
    "<br>\n",
    "<br>\n",
    "\n",
    "Hacemos uso de lo que sería una normalizacion de palabras para poder \"agrupar\" de mejor forma, por ejemplo\n",
    "* rocks : rock\n",
    "* corpora : corpus\n",
    "* better : good\n",
    "\n",
    "\n",
    "<br>\n",
    "<br>\n",
    "\n",
    "Podemos ver la posibilidad de categorizar estos y ver si tienen alguna relacion con la veracidad del tweet"
   ]
  },
  {
   "cell_type": "code",
   "execution_count": null,
   "metadata": {},
   "outputs": [],
   "source": [
    "def f_aux(hashtags):\n",
    "    for hashtag in hashtags:\n",
    "        if str(hashtag).lower() in ['fire','police','weapon','emergency','help','dead','damage','smoke',\n",
    "              'suicide','bomber','military','attack','blood','accident','fear','cause']:\n",
    "            return True\n",
    "    return False\n",
    "train_df['hashtag_importante'] = train_df['hashtags'].apply(f_aux)"
   ]
  },
  {
   "cell_type": "code",
   "execution_count": null,
   "metadata": {},
   "outputs": [],
   "source": [
    "train_df.loc[train_df['hashtag_importante']==True]['target'].value_counts()"
   ]
  },
  {
   "cell_type": "markdown",
   "metadata": {},
   "source": [
    "No encontramos nada con hashtags y estas palabras, pero veamos los textos que contengan estas que sucede"
   ]
  },
  {
   "cell_type": "code",
   "execution_count": null,
   "metadata": {},
   "outputs": [],
   "source": [
    "def f_aux(texto):\n",
    "    for w in ['fire','police','weapon','emergency','help','dead','damage','smoke',\n",
    "              'suicide','bomber','military','attack','blood','accident','fear','cause']:\n",
    "        if w in str(texto).lower():\n",
    "            return True\n",
    "    return False\n",
    "\n",
    "train_df['texto_importante'] = train_df['text'].apply(f_aux)"
   ]
  },
  {
   "cell_type": "code",
   "execution_count": null,
   "metadata": {},
   "outputs": [],
   "source": [
    "train_df.loc[train_df['texto_importante']==True]['target'].value_counts()"
   ]
  },
  {
   "cell_type": "code",
   "execution_count": null,
   "metadata": {},
   "outputs": [],
   "source": [
    "train_df.shape"
   ]
  },
  {
   "cell_type": "markdown",
   "metadata": {},
   "source": [
    "Igualmente como vimos al inicio, <b>5852</b> de los tweets no tienen hashtag, lo que nos deja el set bastante reducido a <b>1761</b>"
   ]
  },
  {
   "cell_type": "markdown",
   "metadata": {},
   "source": [
    "Nos queda analizar las que se marcan como más usadas en los tweets por mas que no describan alguna accion muy importante ..."
   ]
  },
  {
   "cell_type": "markdown",
   "metadata": {},
   "source": [
    "Veamos puntualmente estas palabras que se remarcan en el gráfico que sucede."
   ]
  },
  {
   "cell_type": "code",
   "execution_count": null,
   "metadata": {},
   "outputs": [],
   "source": [
    "df['clean_text'].str.split().to_frame().explode('clean_text')['clean_text'].value_counts(ascending=False).head(15)"
   ]
  },
  {
   "cell_type": "markdown",
   "metadata": {},
   "source": [
    "Cuantas de estas son keyword ? que sucede con estas palabras y el target?"
   ]
  },
  {
   "cell_type": "code",
   "execution_count": null,
   "metadata": {},
   "outputs": [],
   "source": [
    "important_words = df['clean_text'].str.split().to_frame().explode('clean_text')['clean_text'].value_counts(ascending=False)\n",
    "important_words = important_words.reset_index()['index'].to_list()\n",
    "\n",
    "def f_aux(tweet):\n",
    "    for word in important_words:\n",
    "        if word in tweet:\n",
    "            return True\n",
    "    return False\n",
    "\n",
    "df['important_word_match_text'] = df['clean_text'].apply(f_aux)\n",
    "df_aux = df.loc[df['important_word_match_text']==True]\n",
    "\n",
    "plt.figure(figsize=(12,6))\n",
    "\n",
    "ax = sns.countplot(x= 'target',data = df_aux,palette=['red','green']);\n",
    "\n",
    "plt.title('Cantidad de tweets con palabras importantes según target', fontsize=20,weight='bold')\n",
    "ax.set_xlabel('Target', fontsize=16, fontweight='bold')\n",
    "ax.set_ylabel('Cantidad de tweets', fontsize=16, fontweight='bold')"
   ]
  },
  {
   "cell_type": "markdown",
   "metadata": {},
   "source": [
    "Esto con todas las palabras filtradas no nos sirve de mucho, veamos con el top15 que sucede"
   ]
  },
  {
   "cell_type": "code",
   "execution_count": null,
   "metadata": {},
   "outputs": [],
   "source": [
    "important_words = df['clean_text'].str.split().to_frame().explode('clean_text')['clean_text'].value_counts(ascending=False).head(15)\n",
    "important_words = important_words.reset_index()['index'].to_list()\n",
    "\n",
    "def f_aux(tweet):\n",
    "    for word in important_words:\n",
    "        if word in tweet:\n",
    "            return True\n",
    "    return False\n",
    "\n",
    "df['important_word_match_text'] = df['clean_text'].apply(f_aux)\n",
    "df_aux = df.loc[df['important_word_match_text']==True]\n",
    "\n",
    "plt.figure(figsize=(12,6))\n",
    "\n",
    "ax = sns.countplot(x= 'target',data = df_aux,palette=['red','green']);\n",
    "\n",
    "plt.title('Cantidad de tweets con palabras importantes (Top 15) según target', fontsize=20,weight='bold')\n",
    "ax.set_xlabel('Target', fontsize=16, fontweight='bold')\n",
    "ax.set_ylabel('Cantidad de tweets', fontsize=16, fontweight='bold')"
   ]
  },
  {
   "cell_type": "markdown",
   "metadata": {},
   "source": [
    "Podemos observar que con el top15 de palabras importantes vemos mayor tendencia a que sea un tweet veraz!"
   ]
  },
  {
   "cell_type": "markdown",
   "metadata": {},
   "source": [
    "Ahora, de estos registros con match de palabras importantes hay alguna coincidencia con el keyword? si esta vacio se lo podria completar?"
   ]
  },
  {
   "cell_type": "code",
   "execution_count": null,
   "metadata": {},
   "outputs": [],
   "source": [
    "def f_aux(keyword):\n",
    "    for word in important_words:\n",
    "        if word in str(keyword):\n",
    "            return True\n",
    "    return False\n",
    "\n",
    "df['important_word_match_keyword'] = df['keyword'].apply(f_aux)\n",
    "df_aux = df.loc[df['important_word_match_keyword']==True]\n",
    "\n",
    "ax = sns.countplot(x= 'target',data = df_aux,palette=['red','green']);\n",
    "plt.title('Cantidad de tweets (keyword match important_words) vs target', fontsize=20,weight='bold')\n",
    "ax.set_xlabel('Target', fontsize=12, fontweight='bold')\n",
    "ax.set_ylabel('Cantidad de tweets', fontsize=12, fontweight='bold')"
   ]
  },
  {
   "cell_type": "code",
   "execution_count": null,
   "metadata": {},
   "outputs": [],
   "source": [
    "def f_aux(hashtags):\n",
    "    for word in important_words:\n",
    "        if any(word in ele for ele in hashtags):\n",
    "            return True\n",
    "    return False\n",
    "\n",
    "df['important_word_match_hashtag'] = df['hashtags'].apply(f_aux)\n",
    "df_aux = df.loc[df['important_word_match_hashtag']==True]\n",
    "\n",
    "ax = sns.countplot(x= 'target',data = df_aux,palette=['red','green']);\n",
    "plt.title('Cantidad de tweets (hashtags match important_words) vs target', fontsize=20,weight='bold')\n",
    "ax.set_xlabel('Target', fontsize=12, fontweight='bold')\n",
    "ax.set_ylabel('Cantidad de tweets', fontsize=12, fontweight='bold')"
   ]
  },
  {
   "cell_type": "markdown",
   "metadata": {},
   "source": [
    "si cruzamos un poco toda esta info, que obtenemos contra el target?"
   ]
  },
  {
   "cell_type": "code",
   "execution_count": null,
   "metadata": {},
   "outputs": [],
   "source": [
    "df_aux = df.loc[(df['important_word_match_text']==True)&(df['important_word_match_keyword']==True)]\n",
    "\n",
    "ax = sns.countplot(x= 'target',data = df_aux,palette=['red','green']);\n",
    "plt.title('Cantidad de tweets (hashtags match important_words) vs target', fontsize=20,weight='bold')\n",
    "ax.set_xlabel('Target', fontsize=12, fontweight='bold')\n",
    "ax.set_ylabel('Cantidad de tweets', fontsize=12, fontweight='bold')"
   ]
  },
  {
   "cell_type": "markdown",
   "metadata": {},
   "source": [
    "No son demasiados los registros que se esan analizando, son 1400 aproximadamente, pero nos da un indicio que con estas palabras hay mayor tendencia a que el tweet sea real"
   ]
  },
  {
   "cell_type": "markdown",
   "metadata": {},
   "source": [
    "## Análisis de ubicacion de tweets según target<a id='link_11'></a>"
   ]
  },
  {
   "cell_type": "code",
   "execution_count": null,
   "metadata": {},
   "outputs": [],
   "source": [
    "df = train_df\n",
    "df['location'].fillna('Unkown',inplace=True)\n",
    "df = df[['location','target','id']].groupby(['location','target']).count().unstack().fillna(0)\n",
    "df.columns=['True','False']\n",
    "df.sort_values(by='True',ascending=False,inplace=True)\n",
    "\n",
    "df.head(10).plot.bar(figsize=(16,6), color=('red','green'));\n",
    "plt.xticks(rotation=0)\n",
    "plt.title('Cantidad de tweets segun ubicacion', fontsize=20,weight='bold')\n",
    "plt.ylabel('Cantidad de Tweets', fontsize=16,weight='bold');\n",
    "plt.xlabel('Ubicacion', fontsize=16,weight='bold');"
   ]
  },
  {
   "cell_type": "markdown",
   "metadata": {},
   "source": [
    "En el primer analisis de Ubicacion y cantidad de tweets no se tomo en cuenta los NaN..  revisar ese grafico"
   ]
  },
  {
   "cell_type": "markdown",
   "metadata": {},
   "source": [
    "## Categorización tweet si es terrorista<a id='link_12'></a>"
   ]
  },
  {
   "cell_type": "code",
   "execution_count": null,
   "metadata": {},
   "outputs": [],
   "source": [
    "def split_hashtag(word):\n",
    "    return (len(re.findall(r\"(?:bomb|attack|emergency|terrorism|blood|violent|crime|hurt|kill)\",word))!=0)\n",
    "\n",
    "train_df['categ_emergencia'] = train_df['text'].apply(split_hashtag)"
   ]
  },
  {
   "cell_type": "code",
   "execution_count": null,
   "metadata": {},
   "outputs": [],
   "source": [
    "df = train_df.loc[train_df['categ_emergencia']==True]"
   ]
  },
  {
   "cell_type": "code",
   "execution_count": null,
   "metadata": {},
   "outputs": [],
   "source": [
    "df['target'].value_counts().plot.bar(figsize=(20,8), color=('red','green'));\n",
    "plt.xticks(rotation=0)\n",
    "plt.title('Tweets con categoria emergencia', fontsize=20,weight='bold')\n",
    "plt.ylabel('Cantidad de Tweets', fontsize=16,weight='bold');\n",
    "plt.xlabel('Veracidad del Tweet', fontsize=16,weight='bold');"
   ]
  },
  {
   "cell_type": "markdown",
   "metadata": {},
   "source": [
    "No creo que aporte esto lo tengo que revisar"
   ]
  },
  {
   "cell_type": "markdown",
   "metadata": {},
   "source": [
    "## Análisis de links<a id='link_13'></a>"
   ]
  },
  {
   "cell_type": "markdown",
   "metadata": {},
   "source": [
    "Veamos si hay alguna relación entre los tweets que tienen links y su veracidad."
   ]
  },
  {
   "cell_type": "code",
   "execution_count": null,
   "metadata": {},
   "outputs": [],
   "source": [
    "train_df['text'].str.contains('http').value_counts()"
   ]
  },
  {
   "cell_type": "markdown",
   "metadata": {},
   "source": [
    "Podemos ver que un poco más de la mitad (aproximadamente el **52,2%**) de los tweets tienen links en el texto."
   ]
  },
  {
   "cell_type": "code",
   "execution_count": null,
   "metadata": {},
   "outputs": [],
   "source": [
    "train_df.loc[train_df['text'].str.contains('http')]['target'].value_counts().plot.pie(labels=['Tweets Verdaderos','Tweets Falsos'],\\\n",
    "                                                figsize=(7,7),autopct='%.2f', fontsize=16,colors=('green','red'))\n",
    "\n",
    "plt.ylabel('');\n",
    "plt.title('Veracidad de los tweets que tienen links',fontsize=20,weight='bold');"
   ]
  },
  {
   "cell_type": "markdown",
   "metadata": {},
   "source": [
    "No parece que el hecho de que un tweet tenga un link o no sea determinante para la veracidad del mismo. Vamos a analizar los links que aparecen en los tweets."
   ]
  },
  {
   "cell_type": "code",
   "execution_count": null,
   "metadata": {},
   "outputs": [],
   "source": [
    "import re\n",
    "def split_links(text):\n",
    "    return re.findall(r\"(http[^ ]+)\",text)\n",
    "\n",
    "train_df['links'] = train_df['text'].apply(split_links)"
   ]
  },
  {
   "cell_type": "code",
   "execution_count": null,
   "metadata": {},
   "outputs": [],
   "source": [
    "links_df = train_df[['links','target']].explode('links').dropna()\n",
    "links_df.head()"
   ]
  },
  {
   "cell_type": "code",
   "execution_count": null,
   "metadata": {},
   "outputs": [],
   "source": [
    "links_df['links'].value_counts()[links_df['links'].value_counts() > 1]"
   ]
  },
  {
   "cell_type": "markdown",
   "metadata": {},
   "source": [
    "Podemos ver que hay 72 links que aparecen en más de un tweet."
   ]
  },
  {
   "cell_type": "code",
   "execution_count": null,
   "metadata": {},
   "outputs": [],
   "source": [
    "links_grouped = links_df.groupby(['links','target']).agg({'target':'count'}).rename(columns={'target':'cantidad_tweets'}).reset_index()\n",
    "links_grouped.head()"
   ]
  },
  {
   "cell_type": "code",
   "execution_count": null,
   "metadata": {},
   "outputs": [],
   "source": [
    "links_multitarget = links_grouped['links'].value_counts()[links_grouped['links'].value_counts() > 1].to_frame().index.to_list()\n",
    "links_multitarget"
   ]
  },
  {
   "cell_type": "markdown",
   "metadata": {},
   "source": [
    "Vemos que hay links que aparecen tanto en tweets verdaderos como falsos. Vamos a analizar más en profundidad dichos links."
   ]
  },
  {
   "cell_type": "code",
   "execution_count": null,
   "metadata": {},
   "outputs": [],
   "source": [
    "df_aux = links_df[links_df['links'].isin(links_multitarget)].groupby(['links','target'])['target'].count().unstack()\n",
    "\n",
    "df_aux.columns = ['Tweets Falsos','Tweets Verdaderos']\n",
    "\n",
    "df_aux.sort_values(['Tweets Verdaderos','Tweets Falsos'],ascending=[False,True]).plot.bar(figsize=(20,10),color=('red','green'));\n",
    "\n",
    "plt.xticks(weight='bold')\n",
    "plt.yticks(weight='bold')\n",
    "\n",
    "plt.title('Links con tweets tanto falsos como verdaderos', fontsize=20,weight='bold')\n",
    "plt.ylabel('Cantidad de Tweets', fontsize=16,weight='bold')\n",
    "plt.xlabel('Links', fontsize=16,weight='bold');"
   ]
  },
  {
   "cell_type": "markdown",
   "metadata": {},
   "source": [
    "Ver que se puede hacer con esto..."
   ]
  },
  {
   "cell_type": "code",
   "execution_count": null,
   "metadata": {},
   "outputs": [],
   "source": []
  },
  {
   "cell_type": "markdown",
   "metadata": {},
   "source": [
    "## Análisis de \"keyword\" y \"location\" (para revisar y acomodar)"
   ]
  },
  {
   "cell_type": "code",
   "execution_count": 62,
   "metadata": {},
   "outputs": [
    {
     "data": {
      "text/plain": [
       "False    4342\n",
       "True     3271\n",
       "Name: target, dtype: int64"
      ]
     },
     "execution_count": 62,
     "metadata": {},
     "output_type": "execute_result"
    }
   ],
   "source": [
    "train_df['target'].value_counts()"
   ]
  },
  {
   "cell_type": "markdown",
   "metadata": {},
   "source": [
    "Abrimos el df en dos, obteniendo uno con los tweets true y otro con los false."
   ]
  },
  {
   "cell_type": "code",
   "execution_count": 63,
   "metadata": {},
   "outputs": [],
   "source": [
    "train_true_df = train_df.loc[train_df['target']==True]\n",
    "train_false_df = train_df.loc[train_df['target']==False]"
   ]
  },
  {
   "cell_type": "markdown",
   "metadata": {},
   "source": [
    "### keyword"
   ]
  },
  {
   "cell_type": "markdown",
   "metadata": {},
   "source": [
    "Veamos algunas características de los datos de keyword en \"train\" y como se comportan en la apertura true/false."
   ]
  },
  {
   "cell_type": "code",
   "execution_count": 64,
   "metadata": {},
   "outputs": [
    {
     "data": {
      "text/plain": [
       "count           7552\n",
       "unique           221\n",
       "top       fatalities\n",
       "freq              45\n",
       "Name: keyword, dtype: object"
      ]
     },
     "execution_count": 64,
     "metadata": {},
     "output_type": "execute_result"
    }
   ],
   "source": [
    "train_df['keyword'].describe()"
   ]
  },
  {
   "cell_type": "code",
   "execution_count": 65,
   "metadata": {},
   "outputs": [
    {
     "data": {
      "text/plain": [
       "count           3229\n",
       "unique           220\n",
       "top       derailment\n",
       "freq              39\n",
       "Name: keyword, dtype: object"
      ]
     },
     "execution_count": 65,
     "metadata": {},
     "output_type": "execute_result"
    }
   ],
   "source": [
    "train_true_df['keyword'].describe()"
   ]
  },
  {
   "cell_type": "code",
   "execution_count": 66,
   "metadata": {},
   "outputs": [
    {
     "data": {
      "text/plain": [
       "count          4323\n",
       "unique          218\n",
       "top       body bags\n",
       "freq             40\n",
       "Name: keyword, dtype: object"
      ]
     },
     "execution_count": 66,
     "metadata": {},
     "output_type": "execute_result"
    }
   ],
   "source": [
    "train_false_df['keyword'].describe()"
   ]
  },
  {
   "cell_type": "markdown",
   "metadata": {},
   "source": [
    "Observamos que la mayoría aparecen en ambos, solo 4 valores aparecen en uno y no en el otro. Así como también observamos que la frecuencia es similar."
   ]
  },
  {
   "cell_type": "markdown",
   "metadata": {},
   "source": [
    "Ahora vamos a armar dos series para cruzar los datos de ambos df y comparar sus repeticiones."
   ]
  },
  {
   "cell_type": "code",
   "execution_count": 70,
   "metadata": {},
   "outputs": [
    {
     "data": {
      "text/html": [
       "<div>\n",
       "<style scoped>\n",
       "    .dataframe tbody tr th:only-of-type {\n",
       "        vertical-align: middle;\n",
       "    }\n",
       "\n",
       "    .dataframe tbody tr th {\n",
       "        vertical-align: top;\n",
       "    }\n",
       "\n",
       "    .dataframe thead th {\n",
       "        text-align: right;\n",
       "    }\n",
       "</style>\n",
       "<table border=\"1\" class=\"dataframe\">\n",
       "  <thead>\n",
       "    <tr style=\"text-align: right;\">\n",
       "      <th></th>\n",
       "      <th>#keyword_true</th>\n",
       "    </tr>\n",
       "  </thead>\n",
       "  <tbody>\n",
       "    <tr>\n",
       "      <th>derailment</th>\n",
       "      <td>39</td>\n",
       "    </tr>\n",
       "    <tr>\n",
       "      <th>outbreak</th>\n",
       "      <td>39</td>\n",
       "    </tr>\n",
       "    <tr>\n",
       "      <th>wreckage</th>\n",
       "      <td>39</td>\n",
       "    </tr>\n",
       "    <tr>\n",
       "      <th>debris</th>\n",
       "      <td>37</td>\n",
       "    </tr>\n",
       "    <tr>\n",
       "      <th>oil spill</th>\n",
       "      <td>37</td>\n",
       "    </tr>\n",
       "    <tr>\n",
       "      <th>...</th>\n",
       "      <td>...</td>\n",
       "    </tr>\n",
       "    <tr>\n",
       "      <th>ruin</th>\n",
       "      <td>1</td>\n",
       "    </tr>\n",
       "    <tr>\n",
       "      <th>epicentre</th>\n",
       "      <td>1</td>\n",
       "    </tr>\n",
       "    <tr>\n",
       "      <th>electrocute</th>\n",
       "      <td>1</td>\n",
       "    </tr>\n",
       "    <tr>\n",
       "      <th>body bags</th>\n",
       "      <td>1</td>\n",
       "    </tr>\n",
       "    <tr>\n",
       "      <th>blazing</th>\n",
       "      <td>1</td>\n",
       "    </tr>\n",
       "  </tbody>\n",
       "</table>\n",
       "<p>220 rows × 1 columns</p>\n",
       "</div>"
      ],
      "text/plain": [
       "             #keyword_true\n",
       "derailment              39\n",
       "outbreak                39\n",
       "wreckage                39\n",
       "debris                  37\n",
       "oil spill               37\n",
       "...                    ...\n",
       "ruin                     1\n",
       "epicentre                1\n",
       "electrocute              1\n",
       "body bags                1\n",
       "blazing                  1\n",
       "\n",
       "[220 rows x 1 columns]"
      ]
     },
     "execution_count": 70,
     "metadata": {},
     "output_type": "execute_result"
    }
   ],
   "source": [
    "keyword_true = train_true_df ['keyword'].value_counts().to_frame()\n",
    "keyword_true.columns=['#keyword_true']\n",
    "keyword_true"
   ]
  },
  {
   "cell_type": "code",
   "execution_count": 71,
   "metadata": {},
   "outputs": [
    {
     "data": {
      "text/html": [
       "<div>\n",
       "<style scoped>\n",
       "    .dataframe tbody tr th:only-of-type {\n",
       "        vertical-align: middle;\n",
       "    }\n",
       "\n",
       "    .dataframe tbody tr th {\n",
       "        vertical-align: top;\n",
       "    }\n",
       "\n",
       "    .dataframe thead th {\n",
       "        text-align: right;\n",
       "    }\n",
       "</style>\n",
       "<table border=\"1\" class=\"dataframe\">\n",
       "  <thead>\n",
       "    <tr style=\"text-align: right;\">\n",
       "      <th></th>\n",
       "      <th>#keyword_false</th>\n",
       "    </tr>\n",
       "  </thead>\n",
       "  <tbody>\n",
       "    <tr>\n",
       "      <th>body bags</th>\n",
       "      <td>40</td>\n",
       "    </tr>\n",
       "    <tr>\n",
       "      <th>armageddon</th>\n",
       "      <td>37</td>\n",
       "    </tr>\n",
       "    <tr>\n",
       "      <th>harm</th>\n",
       "      <td>37</td>\n",
       "    </tr>\n",
       "    <tr>\n",
       "      <th>ruin</th>\n",
       "      <td>36</td>\n",
       "    </tr>\n",
       "    <tr>\n",
       "      <th>wrecked</th>\n",
       "      <td>36</td>\n",
       "    </tr>\n",
       "    <tr>\n",
       "      <th>...</th>\n",
       "      <td>...</td>\n",
       "    </tr>\n",
       "    <tr>\n",
       "      <th>oil spill</th>\n",
       "      <td>1</td>\n",
       "    </tr>\n",
       "    <tr>\n",
       "      <th>suicide bombing</th>\n",
       "      <td>1</td>\n",
       "    </tr>\n",
       "    <tr>\n",
       "      <th>suicide bomber</th>\n",
       "      <td>1</td>\n",
       "    </tr>\n",
       "    <tr>\n",
       "      <th>outbreak</th>\n",
       "      <td>1</td>\n",
       "    </tr>\n",
       "    <tr>\n",
       "      <th>typhoon</th>\n",
       "      <td>1</td>\n",
       "    </tr>\n",
       "  </tbody>\n",
       "</table>\n",
       "<p>218 rows × 1 columns</p>\n",
       "</div>"
      ],
      "text/plain": [
       "                 #keyword_false\n",
       "body bags                    40\n",
       "armageddon                   37\n",
       "harm                         37\n",
       "ruin                         36\n",
       "wrecked                      36\n",
       "...                         ...\n",
       "oil spill                     1\n",
       "suicide bombing               1\n",
       "suicide bomber                1\n",
       "outbreak                      1\n",
       "typhoon                       1\n",
       "\n",
       "[218 rows x 1 columns]"
      ]
     },
     "execution_count": 71,
     "metadata": {},
     "output_type": "execute_result"
    }
   ],
   "source": [
    "keyword_false = train_false_df ['keyword'].value_counts().to_frame()\n",
    "keyword_false.columns=['#keyword_false']\n",
    "keyword_false"
   ]
  },
  {
   "cell_type": "code",
   "execution_count": 72,
   "metadata": {},
   "outputs": [
    {
     "data": {
      "text/html": [
       "<div>\n",
       "<style scoped>\n",
       "    .dataframe tbody tr th:only-of-type {\n",
       "        vertical-align: middle;\n",
       "    }\n",
       "\n",
       "    .dataframe tbody tr th {\n",
       "        vertical-align: top;\n",
       "    }\n",
       "\n",
       "    .dataframe thead th {\n",
       "        text-align: right;\n",
       "    }\n",
       "</style>\n",
       "<table border=\"1\" class=\"dataframe\">\n",
       "  <thead>\n",
       "    <tr style=\"text-align: right;\">\n",
       "      <th></th>\n",
       "      <th>#keyword_true</th>\n",
       "      <th>#keyword_false</th>\n",
       "    </tr>\n",
       "  </thead>\n",
       "  <tbody>\n",
       "    <tr>\n",
       "      <th>ablaze</th>\n",
       "      <td>13.0</td>\n",
       "      <td>23.0</td>\n",
       "    </tr>\n",
       "    <tr>\n",
       "      <th>accident</th>\n",
       "      <td>24.0</td>\n",
       "      <td>11.0</td>\n",
       "    </tr>\n",
       "    <tr>\n",
       "      <th>aftershock</th>\n",
       "      <td>NaN</td>\n",
       "      <td>34.0</td>\n",
       "    </tr>\n",
       "    <tr>\n",
       "      <th>airplane accident</th>\n",
       "      <td>30.0</td>\n",
       "      <td>5.0</td>\n",
       "    </tr>\n",
       "    <tr>\n",
       "      <th>ambulance</th>\n",
       "      <td>20.0</td>\n",
       "      <td>18.0</td>\n",
       "    </tr>\n",
       "    <tr>\n",
       "      <th>...</th>\n",
       "      <td>...</td>\n",
       "      <td>...</td>\n",
       "    </tr>\n",
       "    <tr>\n",
       "      <th>wounded</th>\n",
       "      <td>26.0</td>\n",
       "      <td>11.0</td>\n",
       "    </tr>\n",
       "    <tr>\n",
       "      <th>wounds</th>\n",
       "      <td>10.0</td>\n",
       "      <td>23.0</td>\n",
       "    </tr>\n",
       "    <tr>\n",
       "      <th>wreck</th>\n",
       "      <td>7.0</td>\n",
       "      <td>30.0</td>\n",
       "    </tr>\n",
       "    <tr>\n",
       "      <th>wreckage</th>\n",
       "      <td>39.0</td>\n",
       "      <td>NaN</td>\n",
       "    </tr>\n",
       "    <tr>\n",
       "      <th>wrecked</th>\n",
       "      <td>3.0</td>\n",
       "      <td>36.0</td>\n",
       "    </tr>\n",
       "  </tbody>\n",
       "</table>\n",
       "<p>221 rows × 2 columns</p>\n",
       "</div>"
      ],
      "text/plain": [
       "                   #keyword_true  #keyword_false\n",
       "ablaze                      13.0            23.0\n",
       "accident                    24.0            11.0\n",
       "aftershock                   NaN            34.0\n",
       "airplane accident           30.0             5.0\n",
       "ambulance                   20.0            18.0\n",
       "...                          ...             ...\n",
       "wounded                     26.0            11.0\n",
       "wounds                      10.0            23.0\n",
       "wreck                        7.0            30.0\n",
       "wreckage                    39.0             NaN\n",
       "wrecked                      3.0            36.0\n",
       "\n",
       "[221 rows x 2 columns]"
      ]
     },
     "execution_count": 72,
     "metadata": {},
     "output_type": "execute_result"
    }
   ],
   "source": [
    "keyword_merge= keyword_true.merge (keyword_false,how='outer',left_index=True,right_index=True)\n",
    "keyword_merge"
   ]
  },
  {
   "cell_type": "code",
   "execution_count": 93,
   "metadata": {},
   "outputs": [
    {
     "data": {
      "text/html": [
       "<div>\n",
       "<style scoped>\n",
       "    .dataframe tbody tr th:only-of-type {\n",
       "        vertical-align: middle;\n",
       "    }\n",
       "\n",
       "    .dataframe tbody tr th {\n",
       "        vertical-align: top;\n",
       "    }\n",
       "\n",
       "    .dataframe thead th {\n",
       "        text-align: right;\n",
       "    }\n",
       "</style>\n",
       "<table border=\"1\" class=\"dataframe\">\n",
       "  <thead>\n",
       "    <tr style=\"text-align: right;\">\n",
       "      <th></th>\n",
       "      <th>#keyword_true</th>\n",
       "      <th>#keyword_false</th>\n",
       "    </tr>\n",
       "  </thead>\n",
       "  <tbody>\n",
       "    <tr>\n",
       "      <th>count</th>\n",
       "      <td>220.000000</td>\n",
       "      <td>218.000000</td>\n",
       "    </tr>\n",
       "    <tr>\n",
       "      <th>mean</th>\n",
       "      <td>14.677273</td>\n",
       "      <td>19.830275</td>\n",
       "    </tr>\n",
       "    <tr>\n",
       "      <th>std</th>\n",
       "      <td>9.668498</td>\n",
       "      <td>9.487494</td>\n",
       "    </tr>\n",
       "    <tr>\n",
       "      <th>min</th>\n",
       "      <td>1.000000</td>\n",
       "      <td>1.000000</td>\n",
       "    </tr>\n",
       "    <tr>\n",
       "      <th>25%</th>\n",
       "      <td>6.000000</td>\n",
       "      <td>12.000000</td>\n",
       "    </tr>\n",
       "    <tr>\n",
       "      <th>50%</th>\n",
       "      <td>13.000000</td>\n",
       "      <td>20.000000</td>\n",
       "    </tr>\n",
       "    <tr>\n",
       "      <th>75%</th>\n",
       "      <td>22.250000</td>\n",
       "      <td>28.000000</td>\n",
       "    </tr>\n",
       "    <tr>\n",
       "      <th>max</th>\n",
       "      <td>39.000000</td>\n",
       "      <td>40.000000</td>\n",
       "    </tr>\n",
       "  </tbody>\n",
       "</table>\n",
       "</div>"
      ],
      "text/plain": [
       "       #keyword_true  #keyword_false\n",
       "count     220.000000      218.000000\n",
       "mean       14.677273       19.830275\n",
       "std         9.668498        9.487494\n",
       "min         1.000000        1.000000\n",
       "25%         6.000000       12.000000\n",
       "50%        13.000000       20.000000\n",
       "75%        22.250000       28.000000\n",
       "max        39.000000       40.000000"
      ]
     },
     "execution_count": 93,
     "metadata": {},
     "output_type": "execute_result"
    }
   ],
   "source": [
    "keyword_merge.describe()"
   ]
  },
  {
   "cell_type": "markdown",
   "metadata": {},
   "source": [
    "Observamos que la cantidad de valores y el rango son similares, mientras que la concentración de repeticiones entre el 25% y el 75% es menor en keywords true."
   ]
  },
  {
   "cell_type": "markdown",
   "metadata": {},
   "source": [
    "Veamos los valores que no están en la intersección, es decir que solo aparecen en true o en false."
   ]
  },
  {
   "cell_type": "code",
   "execution_count": 95,
   "metadata": {},
   "outputs": [
    {
     "data": {
      "text/html": [
       "<div>\n",
       "<style scoped>\n",
       "    .dataframe tbody tr th:only-of-type {\n",
       "        vertical-align: middle;\n",
       "    }\n",
       "\n",
       "    .dataframe tbody tr th {\n",
       "        vertical-align: top;\n",
       "    }\n",
       "\n",
       "    .dataframe thead th {\n",
       "        text-align: right;\n",
       "    }\n",
       "</style>\n",
       "<table border=\"1\" class=\"dataframe\">\n",
       "  <thead>\n",
       "    <tr style=\"text-align: right;\">\n",
       "      <th></th>\n",
       "      <th>#keyword_true</th>\n",
       "      <th>#keyword_false</th>\n",
       "    </tr>\n",
       "  </thead>\n",
       "  <tbody>\n",
       "    <tr>\n",
       "      <th>debris</th>\n",
       "      <td>37.0</td>\n",
       "      <td>NaN</td>\n",
       "    </tr>\n",
       "    <tr>\n",
       "      <th>derailment</th>\n",
       "      <td>39.0</td>\n",
       "      <td>NaN</td>\n",
       "    </tr>\n",
       "    <tr>\n",
       "      <th>wreckage</th>\n",
       "      <td>39.0</td>\n",
       "      <td>NaN</td>\n",
       "    </tr>\n",
       "  </tbody>\n",
       "</table>\n",
       "</div>"
      ],
      "text/plain": [
       "            #keyword_true  #keyword_false\n",
       "debris               37.0             NaN\n",
       "derailment           39.0             NaN\n",
       "wreckage             39.0             NaN"
      ]
     },
     "execution_count": 95,
     "metadata": {},
     "output_type": "execute_result"
    }
   ],
   "source": [
    "keyword_solo_true = keyword_merge [keyword_merge['#keyword_false'].isnull()]\n",
    "keyword_solo_true"
   ]
  },
  {
   "cell_type": "code",
   "execution_count": 96,
   "metadata": {},
   "outputs": [
    {
     "data": {
      "text/html": [
       "<div>\n",
       "<style scoped>\n",
       "    .dataframe tbody tr th:only-of-type {\n",
       "        vertical-align: middle;\n",
       "    }\n",
       "\n",
       "    .dataframe tbody tr th {\n",
       "        vertical-align: top;\n",
       "    }\n",
       "\n",
       "    .dataframe thead th {\n",
       "        text-align: right;\n",
       "    }\n",
       "</style>\n",
       "<table border=\"1\" class=\"dataframe\">\n",
       "  <thead>\n",
       "    <tr style=\"text-align: right;\">\n",
       "      <th></th>\n",
       "      <th>#keyword_true</th>\n",
       "      <th>#keyword_false</th>\n",
       "    </tr>\n",
       "  </thead>\n",
       "  <tbody>\n",
       "    <tr>\n",
       "      <th>aftershock</th>\n",
       "      <td>NaN</td>\n",
       "      <td>34.0</td>\n",
       "    </tr>\n",
       "  </tbody>\n",
       "</table>\n",
       "</div>"
      ],
      "text/plain": [
       "            #keyword_true  #keyword_false\n",
       "aftershock            NaN            34.0"
      ]
     },
     "execution_count": 96,
     "metadata": {},
     "output_type": "execute_result"
    }
   ],
   "source": [
    "keyword_solo_false = keyword_merge [keyword_merge['#keyword_true'].isnull()]\n",
    "keyword_solo_false"
   ]
  },
  {
   "cell_type": "markdown",
   "metadata": {},
   "source": [
    "Vemos que estás cuatro keywords son importantes para definir veracidad, ya que tienen una gran cantidad de repetiiones y están en un solo conjunto (true o false)"
   ]
  },
  {
   "cell_type": "markdown",
   "metadata": {},
   "source": [
    "Ahora veamos que ocurre con las keywords que aparecen en la intersección, es decir que aparecen en true y en false, y la relación de repeticiones en cada conjunto."
   ]
  },
  {
   "cell_type": "code",
   "execution_count": 98,
   "metadata": {},
   "outputs": [
    {
     "data": {
      "text/html": [
       "<div>\n",
       "<style scoped>\n",
       "    .dataframe tbody tr th:only-of-type {\n",
       "        vertical-align: middle;\n",
       "    }\n",
       "\n",
       "    .dataframe tbody tr th {\n",
       "        vertical-align: top;\n",
       "    }\n",
       "\n",
       "    .dataframe thead th {\n",
       "        text-align: right;\n",
       "    }\n",
       "</style>\n",
       "<table border=\"1\" class=\"dataframe\">\n",
       "  <thead>\n",
       "    <tr style=\"text-align: right;\">\n",
       "      <th></th>\n",
       "      <th>#keyword_true</th>\n",
       "      <th>#keyword_false</th>\n",
       "    </tr>\n",
       "  </thead>\n",
       "  <tbody>\n",
       "    <tr>\n",
       "      <th>outbreak</th>\n",
       "      <td>39</td>\n",
       "      <td>1</td>\n",
       "    </tr>\n",
       "    <tr>\n",
       "      <th>oil spill</th>\n",
       "      <td>37</td>\n",
       "      <td>1</td>\n",
       "    </tr>\n",
       "    <tr>\n",
       "      <th>typhoon</th>\n",
       "      <td>37</td>\n",
       "      <td>1</td>\n",
       "    </tr>\n",
       "    <tr>\n",
       "      <th>suicide bomb</th>\n",
       "      <td>32</td>\n",
       "      <td>3</td>\n",
       "    </tr>\n",
       "    <tr>\n",
       "      <th>evacuated</th>\n",
       "      <td>32</td>\n",
       "      <td>4</td>\n",
       "    </tr>\n",
       "    <tr>\n",
       "      <th>...</th>\n",
       "      <td>...</td>\n",
       "      <td>...</td>\n",
       "    </tr>\n",
       "    <tr>\n",
       "      <th>ruin</th>\n",
       "      <td>1</td>\n",
       "      <td>36</td>\n",
       "    </tr>\n",
       "    <tr>\n",
       "      <th>epicentre</th>\n",
       "      <td>1</td>\n",
       "      <td>11</td>\n",
       "    </tr>\n",
       "    <tr>\n",
       "      <th>electrocute</th>\n",
       "      <td>1</td>\n",
       "      <td>31</td>\n",
       "    </tr>\n",
       "    <tr>\n",
       "      <th>body bags</th>\n",
       "      <td>1</td>\n",
       "      <td>40</td>\n",
       "    </tr>\n",
       "    <tr>\n",
       "      <th>blazing</th>\n",
       "      <td>1</td>\n",
       "      <td>33</td>\n",
       "    </tr>\n",
       "  </tbody>\n",
       "</table>\n",
       "<p>217 rows × 2 columns</p>\n",
       "</div>"
      ],
      "text/plain": [
       "              #keyword_true  #keyword_false\n",
       "outbreak                 39               1\n",
       "oil spill                37               1\n",
       "typhoon                  37               1\n",
       "suicide bomb             32               3\n",
       "evacuated                32               4\n",
       "...                     ...             ...\n",
       "ruin                      1              36\n",
       "epicentre                 1              11\n",
       "electrocute               1              31\n",
       "body bags                 1              40\n",
       "blazing                   1              33\n",
       "\n",
       "[217 rows x 2 columns]"
      ]
     },
     "execution_count": 98,
     "metadata": {},
     "output_type": "execute_result"
    }
   ],
   "source": [
    "keyword_merge_mixtos= keyword_true.merge (keyword_false,how='inner',left_index=True,right_index=True)\n",
    "keyword_merge_mixtos"
   ]
  },
  {
   "cell_type": "code",
   "execution_count": 99,
   "metadata": {},
   "outputs": [
    {
     "data": {
      "image/png": "[encoded data removed]",
      "text/plain": [
       "<Figure size 864x576 with 1 Axes>"
      ]
     },
     "metadata": {
      "needs_background": "light"
     },
     "output_type": "display_data"
    }
   ],
   "source": [
    "keyword_merge_mixtos.plot.scatter('#keyword_true','#keyword_false',c='Blue',title='Relación de ocurrencias entre keywords true y false',alpha=0.5,figsize=(12,8))\n",
    "ax=plt.gca()"
   ]
  },
  {
   "cell_type": "markdown",
   "metadata": {},
   "source": [
    "Se observa que hay muchas keywords que tiene valores de repetición invertido entre el conjunto de true y false, es decir que hay keywords con alta ocurrencia en falsos y baja en true, y viceversa. De este modo podemos identificar grupos de preferencia false, otro true, y otro de similar ocurrencia. Podemos definir una relación entre ambos para cada keyword y darle un peso determinado para ayudar a ponderar el nuevo tweet."
   ]
  },
  {
   "cell_type": "markdown",
   "metadata": {},
   "source": [
    "### location"
   ]
  },
  {
   "cell_type": "markdown",
   "metadata": {},
   "source": [
    "Veamos algunas caracteristicas de los datos de location en \"train\" y como se comportan en la apertura true/false."
   ]
  },
  {
   "cell_type": "code",
   "execution_count": 102,
   "metadata": {},
   "outputs": [
    {
     "data": {
      "text/plain": [
       "count     5080\n",
       "unique    3341\n",
       "top        USA\n",
       "freq       104\n",
       "Name: location, dtype: object"
      ]
     },
     "execution_count": 102,
     "metadata": {},
     "output_type": "execute_result"
    }
   ],
   "source": [
    "train_df['location'].describe()"
   ]
  },
  {
   "cell_type": "code",
   "execution_count": 103,
   "metadata": {},
   "outputs": [
    {
     "data": {
      "text/plain": [
       "count     2196\n",
       "unique    1513\n",
       "top        USA\n",
       "freq        67\n",
       "Name: location, dtype: object"
      ]
     },
     "execution_count": 103,
     "metadata": {},
     "output_type": "execute_result"
    }
   ],
   "source": [
    "train_true_df['location'].describe()"
   ]
  },
  {
   "cell_type": "code",
   "execution_count": 104,
   "metadata": {},
   "outputs": [
    {
     "data": {
      "text/plain": [
       "count         2884\n",
       "unique        2142\n",
       "top       New York\n",
       "freq            55\n",
       "Name: location, dtype: object"
      ]
     },
     "execution_count": 104,
     "metadata": {},
     "output_type": "execute_result"
    }
   ],
   "source": [
    "train_false_df['location'].describe()"
   ]
  },
  {
   "cell_type": "code",
   "execution_count": 110,
   "metadata": {},
   "outputs": [
    {
     "data": {
      "text/plain": [
       "314"
      ]
     },
     "execution_count": 110,
     "metadata": {},
     "output_type": "execute_result"
    }
   ],
   "source": [
    "(1513+2142)-3341"
   ]
  },
  {
   "cell_type": "code",
   "execution_count": 112,
   "metadata": {},
   "outputs": [
    {
     "data": {
      "text/plain": [
       "9.398383717449866"
      ]
     },
     "execution_count": 112,
     "metadata": {},
     "output_type": "execute_result"
    }
   ],
   "source": [
    "(314/3341)*100"
   ]
  },
  {
   "cell_type": "markdown",
   "metadata": {},
   "source": [
    "Observamos que en su mayoria las location en true y en false son diferentes. Menos del 10% (314 valores) de location aparecen en ambos casos. El resto, teniendo en cuenta su repetición, puede ayudar a ponderar un nuevo tweet."
   ]
  },
  {
   "cell_type": "markdown",
   "metadata": {},
   "source": [
    "Ahora veamos las repeticiones de cada location para cruzar los datos de ambos df y compararlos."
   ]
  },
  {
   "cell_type": "code",
   "execution_count": 113,
   "metadata": {},
   "outputs": [
    {
     "data": {
      "text/html": [
       "<div>\n",
       "<style scoped>\n",
       "    .dataframe tbody tr th:only-of-type {\n",
       "        vertical-align: middle;\n",
       "    }\n",
       "\n",
       "    .dataframe tbody tr th {\n",
       "        vertical-align: top;\n",
       "    }\n",
       "\n",
       "    .dataframe thead th {\n",
       "        text-align: right;\n",
       "    }\n",
       "</style>\n",
       "<table border=\"1\" class=\"dataframe\">\n",
       "  <thead>\n",
       "    <tr style=\"text-align: right;\">\n",
       "      <th></th>\n",
       "      <th>#location_true</th>\n",
       "    </tr>\n",
       "  </thead>\n",
       "  <tbody>\n",
       "    <tr>\n",
       "      <th>USA</th>\n",
       "      <td>67</td>\n",
       "    </tr>\n",
       "    <tr>\n",
       "      <th>United States</th>\n",
       "      <td>27</td>\n",
       "    </tr>\n",
       "    <tr>\n",
       "      <th>Nigeria</th>\n",
       "      <td>22</td>\n",
       "    </tr>\n",
       "    <tr>\n",
       "      <th>India</th>\n",
       "      <td>20</td>\n",
       "    </tr>\n",
       "    <tr>\n",
       "      <th>Mumbai</th>\n",
       "      <td>19</td>\n",
       "    </tr>\n",
       "    <tr>\n",
       "      <th>...</th>\n",
       "      <td>...</td>\n",
       "    </tr>\n",
       "    <tr>\n",
       "      <th>MIchigan</th>\n",
       "      <td>1</td>\n",
       "    </tr>\n",
       "    <tr>\n",
       "      <th>North East, England</th>\n",
       "      <td>1</td>\n",
       "    </tr>\n",
       "    <tr>\n",
       "      <th>manaus</th>\n",
       "      <td>1</td>\n",
       "    </tr>\n",
       "    <tr>\n",
       "      <th>Orange County, California</th>\n",
       "      <td>1</td>\n",
       "    </tr>\n",
       "    <tr>\n",
       "      <th>Jerusalem, Israel</th>\n",
       "      <td>1</td>\n",
       "    </tr>\n",
       "  </tbody>\n",
       "</table>\n",
       "<p>1513 rows × 1 columns</p>\n",
       "</div>"
      ],
      "text/plain": [
       "                           #location_true\n",
       "USA                                    67\n",
       "United States                          27\n",
       "Nigeria                                22\n",
       "India                                  20\n",
       "Mumbai                                 19\n",
       "...                                   ...\n",
       "MIchigan                                1\n",
       "North East, England                     1\n",
       "manaus                                  1\n",
       "Orange County, California               1\n",
       "Jerusalem, Israel                       1\n",
       "\n",
       "[1513 rows x 1 columns]"
      ]
     },
     "execution_count": 113,
     "metadata": {},
     "output_type": "execute_result"
    }
   ],
   "source": [
    "location_true = train_true_df ['location'].value_counts().to_frame()\n",
    "location_true.columns=['#location_true']\n",
    "location_true"
   ]
  },
  {
   "cell_type": "code",
   "execution_count": 114,
   "metadata": {},
   "outputs": [
    {
     "data": {
      "text/html": [
       "<div>\n",
       "<style scoped>\n",
       "    .dataframe tbody tr th:only-of-type {\n",
       "        vertical-align: middle;\n",
       "    }\n",
       "\n",
       "    .dataframe tbody tr th {\n",
       "        vertical-align: top;\n",
       "    }\n",
       "\n",
       "    .dataframe thead th {\n",
       "        text-align: right;\n",
       "    }\n",
       "</style>\n",
       "<table border=\"1\" class=\"dataframe\">\n",
       "  <thead>\n",
       "    <tr style=\"text-align: right;\">\n",
       "      <th></th>\n",
       "      <th>#location_false</th>\n",
       "    </tr>\n",
       "  </thead>\n",
       "  <tbody>\n",
       "    <tr>\n",
       "      <th>New York</th>\n",
       "      <td>55</td>\n",
       "    </tr>\n",
       "    <tr>\n",
       "      <th>USA</th>\n",
       "      <td>37</td>\n",
       "    </tr>\n",
       "    <tr>\n",
       "      <th>London</th>\n",
       "      <td>29</td>\n",
       "    </tr>\n",
       "    <tr>\n",
       "      <th>United States</th>\n",
       "      <td>23</td>\n",
       "    </tr>\n",
       "    <tr>\n",
       "      <th>Los Angeles, CA</th>\n",
       "      <td>18</td>\n",
       "    </tr>\n",
       "    <tr>\n",
       "      <th>...</th>\n",
       "      <td>...</td>\n",
       "    </tr>\n",
       "    <tr>\n",
       "      <th>Moore, OK</th>\n",
       "      <td>1</td>\n",
       "    </tr>\n",
       "    <tr>\n",
       "      <th>where I'm supposed to be</th>\n",
       "      <td>1</td>\n",
       "    </tr>\n",
       "    <tr>\n",
       "      <th>high way 99</th>\n",
       "      <td>1</td>\n",
       "    </tr>\n",
       "    <tr>\n",
       "      <th>am everywhere</th>\n",
       "      <td>1</td>\n",
       "    </tr>\n",
       "    <tr>\n",
       "      <th>828??864??803</th>\n",
       "      <td>1</td>\n",
       "    </tr>\n",
       "  </tbody>\n",
       "</table>\n",
       "<p>2142 rows × 1 columns</p>\n",
       "</div>"
      ],
      "text/plain": [
       "                          #location_false\n",
       "New York                               55\n",
       "USA                                    37\n",
       "London                                 29\n",
       "United States                          23\n",
       "Los Angeles, CA                        18\n",
       "...                                   ...\n",
       "Moore, OK                               1\n",
       "where I'm supposed to be                1\n",
       "high way 99                             1\n",
       "am everywhere                           1\n",
       "828??864??803                           1\n",
       "\n",
       "[2142 rows x 1 columns]"
      ]
     },
     "execution_count": 114,
     "metadata": {},
     "output_type": "execute_result"
    }
   ],
   "source": [
    "location_false = train_false_df ['location'].value_counts().to_frame()\n",
    "location_false.columns=['#location_false']\n",
    "location_false"
   ]
  },
  {
   "cell_type": "code",
   "execution_count": 115,
   "metadata": {},
   "outputs": [
    {
     "data": {
      "text/html": [
       "<div>\n",
       "<style scoped>\n",
       "    .dataframe tbody tr th:only-of-type {\n",
       "        vertical-align: middle;\n",
       "    }\n",
       "\n",
       "    .dataframe tbody tr th {\n",
       "        vertical-align: top;\n",
       "    }\n",
       "\n",
       "    .dataframe thead th {\n",
       "        text-align: right;\n",
       "    }\n",
       "</style>\n",
       "<table border=\"1\" class=\"dataframe\">\n",
       "  <thead>\n",
       "    <tr style=\"text-align: right;\">\n",
       "      <th></th>\n",
       "      <th>#location_true</th>\n",
       "      <th>#location_false</th>\n",
       "    </tr>\n",
       "  </thead>\n",
       "  <tbody>\n",
       "    <tr>\n",
       "      <th></th>\n",
       "      <td>1.0</td>\n",
       "      <td>NaN</td>\n",
       "    </tr>\n",
       "    <tr>\n",
       "      <th>Glasgow</th>\n",
       "      <td>NaN</td>\n",
       "      <td>1.0</td>\n",
       "    </tr>\n",
       "    <tr>\n",
       "      <th>Melbourne, Australia</th>\n",
       "      <td>NaN</td>\n",
       "      <td>1.0</td>\n",
       "    </tr>\n",
       "    <tr>\n",
       "      <th>News</th>\n",
       "      <td>1.0</td>\n",
       "      <td>NaN</td>\n",
       "    </tr>\n",
       "    <tr>\n",
       "      <th>Ã¥_</th>\n",
       "      <td>NaN</td>\n",
       "      <td>1.0</td>\n",
       "    </tr>\n",
       "    <tr>\n",
       "      <th>...</th>\n",
       "      <td>...</td>\n",
       "      <td>...</td>\n",
       "    </tr>\n",
       "    <tr>\n",
       "      <th>Ã¥_: ?? ÃÃ ? : ?</th>\n",
       "      <td>NaN</td>\n",
       "      <td>1.0</td>\n",
       "    </tr>\n",
       "    <tr>\n",
       "      <th>Ã¥_Ã¥_Los Mina CityÂÃ£Â¢</th>\n",
       "      <td>NaN</td>\n",
       "      <td>1.0</td>\n",
       "    </tr>\n",
       "    <tr>\n",
       "      <th>Ã¥Â¡Ã¥Â¡Midwest ÂÃÂ¢ÂÃÂ¢</th>\n",
       "      <td>NaN</td>\n",
       "      <td>1.0</td>\n",
       "    </tr>\n",
       "    <tr>\n",
       "      <th>Ã¥Ã(?ÂÃÂ¢`?ÂÃÂ¢Ã¥Â«)??</th>\n",
       "      <td>NaN</td>\n",
       "      <td>1.0</td>\n",
       "    </tr>\n",
       "    <tr>\n",
       "      <th>Ã¥Ã¸\\_(?)_/Ã¥Ã¸</th>\n",
       "      <td>1.0</td>\n",
       "      <td>NaN</td>\n",
       "    </tr>\n",
       "  </tbody>\n",
       "</table>\n",
       "<p>3341 rows × 2 columns</p>\n",
       "</div>"
      ],
      "text/plain": [
       "                              #location_true  #location_false\n",
       "                                         1.0              NaN\n",
       "  Glasgow                                NaN              1.0\n",
       "  Melbourne, Australia                   NaN              1.0\n",
       "  News                                   1.0              NaN\n",
       "  Ã¥_                                    NaN              1.0\n",
       "...                                      ...              ...\n",
       "Ã¥_: ?? ÃÃ ? : ?                       NaN              1.0\n",
       "Ã¥_Ã¥_Los Mina CityÂÃ£Â¢                NaN              1.0\n",
       "Ã¥Â¡Ã¥Â¡Midwest ÂÃÂ¢ÂÃÂ¢             NaN              1.0\n",
       "Ã¥Ã(?ÂÃÂ¢`?ÂÃÂ¢Ã¥Â«)??              NaN              1.0\n",
       "Ã¥Ã¸\\_(?)_/Ã¥Ã¸                          1.0              NaN\n",
       "\n",
       "[3341 rows x 2 columns]"
      ]
     },
     "execution_count": 115,
     "metadata": {},
     "output_type": "execute_result"
    }
   ],
   "source": [
    "location_merge= location_true.merge (location_false,how='outer',left_index=True,right_index=True)\n",
    "location_merge"
   ]
  },
  {
   "cell_type": "code",
   "execution_count": 116,
   "metadata": {},
   "outputs": [
    {
     "data": {
      "text/html": [
       "<div>\n",
       "<style scoped>\n",
       "    .dataframe tbody tr th:only-of-type {\n",
       "        vertical-align: middle;\n",
       "    }\n",
       "\n",
       "    .dataframe tbody tr th {\n",
       "        vertical-align: top;\n",
       "    }\n",
       "\n",
       "    .dataframe thead th {\n",
       "        text-align: right;\n",
       "    }\n",
       "</style>\n",
       "<table border=\"1\" class=\"dataframe\">\n",
       "  <thead>\n",
       "    <tr style=\"text-align: right;\">\n",
       "      <th></th>\n",
       "      <th>#location_true</th>\n",
       "      <th>#location_false</th>\n",
       "    </tr>\n",
       "  </thead>\n",
       "  <tbody>\n",
       "    <tr>\n",
       "      <th>count</th>\n",
       "      <td>1513.000000</td>\n",
       "      <td>2142.000000</td>\n",
       "    </tr>\n",
       "    <tr>\n",
       "      <th>mean</th>\n",
       "      <td>1.451421</td>\n",
       "      <td>1.346405</td>\n",
       "    </tr>\n",
       "    <tr>\n",
       "      <th>std</th>\n",
       "      <td>2.359081</td>\n",
       "      <td>1.948061</td>\n",
       "    </tr>\n",
       "    <tr>\n",
       "      <th>min</th>\n",
       "      <td>1.000000</td>\n",
       "      <td>1.000000</td>\n",
       "    </tr>\n",
       "    <tr>\n",
       "      <th>25%</th>\n",
       "      <td>1.000000</td>\n",
       "      <td>1.000000</td>\n",
       "    </tr>\n",
       "    <tr>\n",
       "      <th>50%</th>\n",
       "      <td>1.000000</td>\n",
       "      <td>1.000000</td>\n",
       "    </tr>\n",
       "    <tr>\n",
       "      <th>75%</th>\n",
       "      <td>1.000000</td>\n",
       "      <td>1.000000</td>\n",
       "    </tr>\n",
       "    <tr>\n",
       "      <th>max</th>\n",
       "      <td>67.000000</td>\n",
       "      <td>55.000000</td>\n",
       "    </tr>\n",
       "  </tbody>\n",
       "</table>\n",
       "</div>"
      ],
      "text/plain": [
       "       #location_true  #location_false\n",
       "count     1513.000000      2142.000000\n",
       "mean         1.451421         1.346405\n",
       "std          2.359081         1.948061\n",
       "min          1.000000         1.000000\n",
       "25%          1.000000         1.000000\n",
       "50%          1.000000         1.000000\n",
       "75%          1.000000         1.000000\n",
       "max         67.000000        55.000000"
      ]
     },
     "execution_count": 116,
     "metadata": {},
     "output_type": "execute_result"
    }
   ],
   "source": [
    "location_merge.describe()"
   ]
  },
  {
   "cell_type": "markdown",
   "metadata": {},
   "source": [
    "Podemos observar que en su gran mayoría las locations aparecen solo una vez, tanto en en false como en true."
   ]
  },
  {
   "cell_type": "markdown",
   "metadata": {},
   "source": [
    "Ahora veamos que ocurre en cada conjunto: solo en true, solo en false y en la intersección."
   ]
  },
  {
   "cell_type": "code",
   "execution_count": 127,
   "metadata": {},
   "outputs": [],
   "source": [
    "location_solo_true = location_merge [location_merge['#location_false'].isnull()]"
   ]
  },
  {
   "cell_type": "code",
   "execution_count": 124,
   "metadata": {},
   "outputs": [
    {
     "data": {
      "text/plain": [
       "1.0    1102\n",
       "2.0      74\n",
       "3.0      12\n",
       "4.0      11\n",
       "Name: #location_true, dtype: int64"
      ]
     },
     "execution_count": 124,
     "metadata": {},
     "output_type": "execute_result"
    }
   ],
   "source": [
    "location_solo_true ['#location_true'].value_counts()"
   ]
  },
  {
   "cell_type": "markdown",
   "metadata": {},
   "source": [
    "Se observa que la cantidad de repeticiones de location se concentran en 1, y a su vez tampoco existen locations con muchas repeticiones (máx=4). Esto no nos ayuda mucho porque aunque son valores que solo aparecen en true, no suman mucho peso por la baja cantidad de repeticiones. "
   ]
  },
  {
   "cell_type": "code",
   "execution_count": 128,
   "metadata": {},
   "outputs": [],
   "source": [
    "location_solo_false = location_merge [location_merge['#location_true'].isnull()]"
   ]
  },
  {
   "cell_type": "code",
   "execution_count": 126,
   "metadata": {},
   "outputs": [
    {
     "data": {
      "text/plain": [
       "1.0    1716\n",
       "2.0      81\n",
       "3.0      19\n",
       "5.0       5\n",
       "4.0       4\n",
       "7.0       1\n",
       "6.0       1\n",
       "9.0       1\n",
       "Name: #location_false, dtype: int64"
      ]
     },
     "execution_count": 126,
     "metadata": {},
     "output_type": "execute_result"
    }
   ],
   "source": [
    "location_solo_false ['#location_false'].value_counts()"
   ]
  },
  {
   "cell_type": "markdown",
   "metadata": {},
   "source": [
    "Se observa un comportamiento similar al caso en true, la cantidad de repeticiones de location se concentran en 1. En este caso existen algunas locations con valores de repetición entre 4 y 9 que podrían pesar para decidir la veracidad de un tweet, teniendo en cuenta también que solo aparecen en el grupo false."
   ]
  },
  {
   "cell_type": "markdown",
   "metadata": {},
   "source": [
    "Ahora veamos que ocurre con las locations que aparecen en la intersección, es decir que aparecen en true y en false, y la relación de repeticiones en cada conjunto."
   ]
  },
  {
   "cell_type": "code",
   "execution_count": 154,
   "metadata": {},
   "outputs": [
    {
     "data": {
      "text/html": [
       "<div>\n",
       "<style scoped>\n",
       "    .dataframe tbody tr th:only-of-type {\n",
       "        vertical-align: middle;\n",
       "    }\n",
       "\n",
       "    .dataframe tbody tr th {\n",
       "        vertical-align: top;\n",
       "    }\n",
       "\n",
       "    .dataframe thead th {\n",
       "        text-align: right;\n",
       "    }\n",
       "</style>\n",
       "<table border=\"1\" class=\"dataframe\">\n",
       "  <thead>\n",
       "    <tr style=\"text-align: right;\">\n",
       "      <th></th>\n",
       "      <th>#location_true</th>\n",
       "      <th>#location_false</th>\n",
       "    </tr>\n",
       "  </thead>\n",
       "  <tbody>\n",
       "    <tr>\n",
       "      <th>USA</th>\n",
       "      <td>67</td>\n",
       "      <td>37</td>\n",
       "    </tr>\n",
       "    <tr>\n",
       "      <th>United States</th>\n",
       "      <td>27</td>\n",
       "      <td>23</td>\n",
       "    </tr>\n",
       "    <tr>\n",
       "      <th>Nigeria</th>\n",
       "      <td>22</td>\n",
       "      <td>6</td>\n",
       "    </tr>\n",
       "    <tr>\n",
       "      <th>India</th>\n",
       "      <td>20</td>\n",
       "      <td>4</td>\n",
       "    </tr>\n",
       "    <tr>\n",
       "      <th>Mumbai</th>\n",
       "      <td>19</td>\n",
       "      <td>3</td>\n",
       "    </tr>\n",
       "    <tr>\n",
       "      <th>...</th>\n",
       "      <td>...</td>\n",
       "      <td>...</td>\n",
       "    </tr>\n",
       "    <tr>\n",
       "      <th>CA physically- Boston Strong?</th>\n",
       "      <td>1</td>\n",
       "      <td>1</td>\n",
       "    </tr>\n",
       "    <tr>\n",
       "      <th>Epic City, BB.</th>\n",
       "      <td>1</td>\n",
       "      <td>1</td>\n",
       "    </tr>\n",
       "    <tr>\n",
       "      <th>Cumming, GA</th>\n",
       "      <td>1</td>\n",
       "      <td>1</td>\n",
       "    </tr>\n",
       "    <tr>\n",
       "      <th>Melbourne, Victoria</th>\n",
       "      <td>1</td>\n",
       "      <td>1</td>\n",
       "    </tr>\n",
       "    <tr>\n",
       "      <th>Orange County, California</th>\n",
       "      <td>1</td>\n",
       "      <td>1</td>\n",
       "    </tr>\n",
       "  </tbody>\n",
       "</table>\n",
       "<p>314 rows × 2 columns</p>\n",
       "</div>"
      ],
      "text/plain": [
       "                               #location_true  #location_false\n",
       "USA                                        67               37\n",
       "United States                              27               23\n",
       "Nigeria                                    22                6\n",
       "India                                      20                4\n",
       "Mumbai                                     19                3\n",
       "...                                       ...              ...\n",
       "CA physically- Boston Strong?               1                1\n",
       "Epic City, BB.                              1                1\n",
       "Cumming, GA                                 1                1\n",
       "Melbourne, Victoria                         1                1\n",
       "Orange County, California                   1                1\n",
       "\n",
       "[314 rows x 2 columns]"
      ]
     },
     "execution_count": 154,
     "metadata": {},
     "output_type": "execute_result"
    }
   ],
   "source": [
    "location_merge_mixtos= location_true.merge (location_false,how='inner',left_index=True,right_index=True)\n",
    "location_merge_mixtos"
   ]
  },
  {
   "cell_type": "code",
   "execution_count": 147,
   "metadata": {},
   "outputs": [
    {
     "data": {
      "text/html": [
       "<div>\n",
       "<style scoped>\n",
       "    .dataframe tbody tr th:only-of-type {\n",
       "        vertical-align: middle;\n",
       "    }\n",
       "\n",
       "    .dataframe tbody tr th {\n",
       "        vertical-align: top;\n",
       "    }\n",
       "\n",
       "    .dataframe thead th {\n",
       "        text-align: right;\n",
       "    }\n",
       "</style>\n",
       "<table border=\"1\" class=\"dataframe\">\n",
       "  <thead>\n",
       "    <tr style=\"text-align: right;\">\n",
       "      <th></th>\n",
       "      <th>#location_true</th>\n",
       "      <th>#location_false</th>\n",
       "    </tr>\n",
       "  </thead>\n",
       "  <tbody>\n",
       "    <tr>\n",
       "      <th>count</th>\n",
       "      <td>314.000000</td>\n",
       "      <td>314.000000</td>\n",
       "    </tr>\n",
       "    <tr>\n",
       "      <th>mean</th>\n",
       "      <td>2.757962</td>\n",
       "      <td>2.821656</td>\n",
       "    </tr>\n",
       "    <tr>\n",
       "      <th>std</th>\n",
       "      <td>4.905368</td>\n",
       "      <td>4.709454</td>\n",
       "    </tr>\n",
       "    <tr>\n",
       "      <th>min</th>\n",
       "      <td>1.000000</td>\n",
       "      <td>1.000000</td>\n",
       "    </tr>\n",
       "    <tr>\n",
       "      <th>25%</th>\n",
       "      <td>1.000000</td>\n",
       "      <td>1.000000</td>\n",
       "    </tr>\n",
       "    <tr>\n",
       "      <th>50%</th>\n",
       "      <td>1.000000</td>\n",
       "      <td>1.000000</td>\n",
       "    </tr>\n",
       "    <tr>\n",
       "      <th>75%</th>\n",
       "      <td>3.000000</td>\n",
       "      <td>3.000000</td>\n",
       "    </tr>\n",
       "    <tr>\n",
       "      <th>max</th>\n",
       "      <td>67.000000</td>\n",
       "      <td>55.000000</td>\n",
       "    </tr>\n",
       "  </tbody>\n",
       "</table>\n",
       "</div>"
      ],
      "text/plain": [
       "       #location_true  #location_false\n",
       "count      314.000000       314.000000\n",
       "mean         2.757962         2.821656\n",
       "std          4.905368         4.709454\n",
       "min          1.000000         1.000000\n",
       "25%          1.000000         1.000000\n",
       "50%          1.000000         1.000000\n",
       "75%          3.000000         3.000000\n",
       "max         67.000000        55.000000"
      ]
     },
     "execution_count": 147,
     "metadata": {},
     "output_type": "execute_result"
    }
   ],
   "source": [
    "location_merge_mixtos.describe()"
   ]
  },
  {
   "cell_type": "markdown",
   "metadata": {},
   "source": [
    "Se observa que los datos estadísticos son similares en ambos casos."
   ]
  },
  {
   "cell_type": "code",
   "execution_count": 153,
   "metadata": {},
   "outputs": [
    {
     "data": {
      "text/plain": [
       "1     167\n",
       "2      63\n",
       "3      31\n",
       "4      16\n",
       "5       7\n",
       "7       7\n",
       "6       5\n",
       "8       4\n",
       "9       3\n",
       "16      3\n",
       "27      1\n",
       "12      1\n",
       "13      1\n",
       "15      1\n",
       "19      1\n",
       "20      1\n",
       "22      1\n",
       "67      1\n",
       "Name: #location_true, dtype: int64"
      ]
     },
     "execution_count": 153,
     "metadata": {},
     "output_type": "execute_result"
    }
   ],
   "source": [
    "location_merge_mixtos ['#location_true'].value_counts()"
   ]
  },
  {
   "cell_type": "code",
   "execution_count": 130,
   "metadata": {},
   "outputs": [
    {
     "data": {
      "text/plain": [
       "1     164\n",
       "2      61\n",
       "3      29\n",
       "4      20\n",
       "5       8\n",
       "6       7\n",
       "7       6\n",
       "9       4\n",
       "10      3\n",
       "11      2\n",
       "8       2\n",
       "37      1\n",
       "12      1\n",
       "15      1\n",
       "16      1\n",
       "18      1\n",
       "23      1\n",
       "29      1\n",
       "55      1\n",
       "Name: #location_false, dtype: int64"
      ]
     },
     "execution_count": 130,
     "metadata": {},
     "output_type": "execute_result"
    }
   ],
   "source": [
    "location_merge_mixtos ['#location_false'].value_counts()"
   ]
  },
  {
   "cell_type": "markdown",
   "metadata": {},
   "source": [
    "Al igual que con los datos estadísticos, la cantidad de repeticiones también tienen un comportamiento similar en ambos casos."
   ]
  },
  {
   "cell_type": "markdown",
   "metadata": {},
   "source": [
    "Veamos la relación entre las repeticiones en cada conjunto de cada location."
   ]
  },
  {
   "cell_type": "code",
   "execution_count": 149,
   "metadata": {},
   "outputs": [
    {
     "data": {
      "image/png": "[encoded data removed]",
      "text/plain": [
       "<Figure size 864x576 with 1 Axes>"
      ]
     },
     "metadata": {
      "needs_background": "light"
     },
     "output_type": "display_data"
    }
   ],
   "source": [
    "location_merge_mixtos.plot.scatter('#location_true','#location_false',c='Brown',title='Relación de ocurrencias entre locations true y false',alpha=0.5,figsize=(12,8))\n",
    "ax=plt.gca()"
   ]
  },
  {
   "cell_type": "markdown",
   "metadata": {},
   "source": [
    "Observamos que la relación entre las repeticiones es similar en ambos conjuntos, y que pocos casos se separan dandole más valor a las repeticiones de un conjunto en particular. Igualmente se pueden ponderar cada location según sus valores para ayudar a definir la veracidad de un tweet."
   ]
  },
  {
   "cell_type": "code",
   "execution_count": null,
   "metadata": {},
   "outputs": [],
   "source": []
  }
 ],
 "metadata": {
  "colab": {
   "collapsed_sections": [],
   "include_colab_link": true,
   "name": "Copia de Copia de TP1_Real_or_Not.ipynb",
   "provenance": []
  },
  "kernelspec": {
   "display_name": "Python 3",
   "language": "python",
   "name": "python3"
  },
  "language_info": {
   "codemirror_mode": {
    "name": "ipython",
    "version": 3
   },
   "file_extension": ".py",
   "mimetype": "text/x-python",
   "name": "python",
   "nbconvert_exporter": "python",
   "pygments_lexer": "ipython3",
   "version": "3.7.6"
  }
 },
 "nbformat": 4,
 "nbformat_minor": 4
}
