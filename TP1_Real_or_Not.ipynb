{
  "nbformat": 4,
  "nbformat_minor": 0,
  "metadata": {
    "colab": {
      "name": "Copia de Copia de TP1_Real_or_Not.ipynb",
      "provenance": [],
      "collapsed_sections": [],
      "include_colab_link": true
    },
    "kernelspec": {
      "name": "python3",
      "display_name": "Python 3"
    }
  },
  "cells": [
    {
      "cell_type": "markdown",
      "metadata": {
        "id": "view-in-github",
        "colab_type": "text"
      },
      "source": [
        "<a href=\"https://colab.research.google.com/github/alepenaa94/TP1_Real_or_Not/blob/master/TP1_Real_or_Not.ipynb\" target=\"_parent\"><img src=\"https://colab.research.google.com/assets/colab-badge.svg\" alt=\"Open In Colab\"/></a>"
      ]
    },
    {
      "cell_type": "markdown",
      "metadata": {
        "id": "iwY7zLPkMCLI",
        "colab_type": "text"
      },
      "source": [
        "# TRABAJO PRÁCTICO 1: Análisis Exploratorio de Datos"
      ]
    },
    {
      "cell_type": "code",
      "metadata": {
        "id": "0R_dMyhfL8QX",
        "colab_type": "code",
        "outputId": "5d011d54-140f-4716-cdd7-7b31c412e540",
        "colab": {
          "base_uri": "https://localhost:8080/",
          "height": 71
        }
      },
      "source": [
        "import pandas as pd\n",
        "import numpy as np\n",
        "import seaborn as sns\n",
        "import matplotlib.pyplot as plt\n",
        "from IPython.display import display\n",
        "from pydrive.auth import GoogleAuth\n",
        "from pydrive.drive import GoogleDrive\n",
        "from google.colab import auth\n",
        "from oauth2client.client import GoogleCredentials\n",
        "\n",
        "plt.style.use('default')\n",
        "plt.rcParams['figure.figsize'] = (6, 10)\n",
        "sns.set(style=\"darkgrid\")\n",
        "%matplotlib inline\n",
        "\n",
        "my_colors = plt.rcParams['axes.prop_cycle'].by_key()['color']"
      ],
      "execution_count": 1,
      "outputs": [
        {
          "output_type": "stream",
          "text": [
            "/usr/local/lib/python3.6/dist-packages/statsmodels/tools/_testing.py:19: FutureWarning: pandas.util.testing is deprecated. Use the functions in the public API at pandas.testing instead.\n",
            "  import pandas.util.testing as tm\n"
          ],
          "name": "stderr"
        }
      ]
    },
    {
      "cell_type": "code",
      "metadata": {
        "id": "fBxBKJMxjmAQ",
        "colab_type": "code",
        "colab": {}
      },
      "source": [
        "auth.authenticate_user()\n",
        "gauth = GoogleAuth()\n",
        "gauth.credentials = GoogleCredentials.get_application_default()\n",
        "drive = GoogleDrive(gauth)"
      ],
      "execution_count": 0,
      "outputs": []
    },
    {
      "cell_type": "code",
      "metadata": {
        "id": "nJTBSqE7jl94",
        "colab_type": "code",
        "colab": {}
      },
      "source": [
        "downloaded = drive.CreateFile({'id':\"1GKPasgRV2WrBkN2AaeKtvUI01BqvE7MA\"})\n",
        "downloaded.GetContentFile('train.csv')\n",
        "\n",
        "downloaded = drive.CreateFile({'id':\"1adIQXiZazufU25CVBYC3K_yTUl9YNpTg\"})\n",
        "downloaded.GetContentFile('test.csv')\n",
        "\n",
        "downloaded = drive.CreateFile({'id':\"1TmlwXmYSN4Yed0K1Gwtp8SLOYe_GlxuN\"})\n",
        "downloaded.GetContentFile('sample_submissions.csv')\n"
      ],
      "execution_count": 0,
      "outputs": []
    },
    {
      "cell_type": "code",
      "metadata": {
        "id": "KiQERldrjl68",
        "colab_type": "code",
        "colab": {}
      },
      "source": [
        "train_df = pd.read_csv('train.csv', encoding='latin-1',dtype={'id': np.uint16,'target': np.bool})"
      ],
      "execution_count": 0,
      "outputs": []
    },
    {
      "cell_type": "code",
      "metadata": {
        "id": "sTfW9uPBjl10",
        "colab_type": "code",
        "outputId": "237774d0-8fb8-49be-a7a2-ab000ed1c736",
        "colab": {
          "base_uri": "https://localhost:8080/",
          "height": 204
        }
      },
      "source": [
        "train_df.head()"
      ],
      "execution_count": 5,
      "outputs": [
        {
          "output_type": "execute_result",
          "data": {
            "text/html": [
              "<div>\n",
              "<style scoped>\n",
              "    .dataframe tbody tr th:only-of-type {\n",
              "        vertical-align: middle;\n",
              "    }\n",
              "\n",
              "    .dataframe tbody tr th {\n",
              "        vertical-align: top;\n",
              "    }\n",
              "\n",
              "    .dataframe thead th {\n",
              "        text-align: right;\n",
              "    }\n",
              "</style>\n",
              "<table border=\"1\" class=\"dataframe\">\n",
              "  <thead>\n",
              "    <tr style=\"text-align: right;\">\n",
              "      <th></th>\n",
              "      <th>id</th>\n",
              "      <th>keyword</th>\n",
              "      <th>location</th>\n",
              "      <th>text</th>\n",
              "      <th>target</th>\n",
              "    </tr>\n",
              "  </thead>\n",
              "  <tbody>\n",
              "    <tr>\n",
              "      <th>0</th>\n",
              "      <td>1</td>\n",
              "      <td>NaN</td>\n",
              "      <td>NaN</td>\n",
              "      <td>Our Deeds are the Reason of this #earthquake M...</td>\n",
              "      <td>True</td>\n",
              "    </tr>\n",
              "    <tr>\n",
              "      <th>1</th>\n",
              "      <td>4</td>\n",
              "      <td>NaN</td>\n",
              "      <td>NaN</td>\n",
              "      <td>Forest fire near La Ronge Sask. Canada</td>\n",
              "      <td>True</td>\n",
              "    </tr>\n",
              "    <tr>\n",
              "      <th>2</th>\n",
              "      <td>5</td>\n",
              "      <td>NaN</td>\n",
              "      <td>NaN</td>\n",
              "      <td>All residents asked to 'shelter in place' are ...</td>\n",
              "      <td>True</td>\n",
              "    </tr>\n",
              "    <tr>\n",
              "      <th>3</th>\n",
              "      <td>6</td>\n",
              "      <td>NaN</td>\n",
              "      <td>NaN</td>\n",
              "      <td>13,000 people receive #wildfires evacuation or...</td>\n",
              "      <td>True</td>\n",
              "    </tr>\n",
              "    <tr>\n",
              "      <th>4</th>\n",
              "      <td>7</td>\n",
              "      <td>NaN</td>\n",
              "      <td>NaN</td>\n",
              "      <td>Just got sent this photo from Ruby #Alaska as ...</td>\n",
              "      <td>True</td>\n",
              "    </tr>\n",
              "  </tbody>\n",
              "</table>\n",
              "</div>"
            ],
            "text/plain": [
              "   id keyword  ...                                               text target\n",
              "0   1     NaN  ...  Our Deeds are the Reason of this #earthquake M...   True\n",
              "1   4     NaN  ...             Forest fire near La Ronge Sask. Canada   True\n",
              "2   5     NaN  ...  All residents asked to 'shelter in place' are ...   True\n",
              "3   6     NaN  ...  13,000 people receive #wildfires evacuation or...   True\n",
              "4   7     NaN  ...  Just got sent this photo from Ruby #Alaska as ...   True\n",
              "\n",
              "[5 rows x 5 columns]"
            ]
          },
          "metadata": {
            "tags": []
          },
          "execution_count": 5
        }
      ]
    },
    {
      "cell_type": "markdown",
      "metadata": {
        "id": "5_BHZnA3N1OX",
        "colab_type": "text"
      },
      "source": [
        "## Tratamiento de datos"
      ]
    },
    {
      "cell_type": "code",
      "metadata": {
        "id": "VkuxJimXKupm",
        "colab_type": "code",
        "outputId": "63ec6ad3-05cf-43bf-d42f-bfb6b31c9d06",
        "colab": {
          "base_uri": "https://localhost:8080/",
          "height": 221
        }
      },
      "source": [
        "train_df.info()"
      ],
      "execution_count": 6,
      "outputs": [
        {
          "output_type": "stream",
          "text": [
            "<class 'pandas.core.frame.DataFrame'>\n",
            "RangeIndex: 7613 entries, 0 to 7612\n",
            "Data columns (total 5 columns):\n",
            " #   Column    Non-Null Count  Dtype \n",
            "---  ------    --------------  ----- \n",
            " 0   id        7613 non-null   uint16\n",
            " 1   keyword   7552 non-null   object\n",
            " 2   location  5080 non-null   object\n",
            " 3   text      7613 non-null   object\n",
            " 4   target    7613 non-null   bool  \n",
            "dtypes: bool(1), object(3), uint16(1)\n",
            "memory usage: 200.9+ KB\n"
          ],
          "name": "stdout"
        }
      ]
    },
    {
      "cell_type": "markdown",
      "metadata": {
        "id": "3fFwhdysKzsW",
        "colab_type": "text"
      },
      "source": [
        "Podemos observar que las columnas <b><i>\"keyword\"</i></b> y <b><i>\"location\"</i></b> poseen algunos valores nulos, vamos a ver si podemos realizar algun tratamiento en particular."
      ]
    },
    {
      "cell_type": "code",
      "metadata": {
        "id": "pJx1ZwHoKugJ",
        "colab_type": "code",
        "outputId": "5785737e-d6a3-4b5b-e807-f3d16b002f3d",
        "colab": {
          "base_uri": "https://localhost:8080/",
          "height": 102
        }
      },
      "source": [
        "train_df['keyword'].describe()"
      ],
      "execution_count": 7,
      "outputs": [
        {
          "output_type": "execute_result",
          "data": {
            "text/plain": [
              "count           7552\n",
              "unique           221\n",
              "top       fatalities\n",
              "freq              45\n",
              "Name: keyword, dtype: object"
            ]
          },
          "metadata": {
            "tags": []
          },
          "execution_count": 7
        }
      ]
    },
    {
      "cell_type": "code",
      "metadata": {
        "id": "6ujuRL3qKuR1",
        "colab_type": "code",
        "colab": {}
      },
      "source": [
        "train_df['keyword'].fillna(value='',inplace=True)"
      ],
      "execution_count": 0,
      "outputs": []
    },
    {
      "cell_type": "code",
      "metadata": {
        "id": "93-Bjl9LNuEo",
        "colab_type": "code",
        "colab": {}
      },
      "source": [
        "train_df['keyword'] = train_df['keyword'].str.replace('%20',' ')"
      ],
      "execution_count": 0,
      "outputs": []
    },
    {
      "cell_type": "markdown",
      "metadata": {
        "id": "VtQO5EQ4MKYD",
        "colab_type": "text"
      },
      "source": [
        "Posiblemente luego analicemos los textos y veamos la posibilidad de completar estos keyword vacios con algun valor mas significativo"
      ]
    },
    {
      "cell_type": "code",
      "metadata": {
        "id": "Kgy5RHSrMKPr",
        "colab_type": "code",
        "outputId": "ad8e6cc0-1b4a-4425-83b0-f4dfe9366e85",
        "colab": {
          "base_uri": "https://localhost:8080/",
          "height": 102
        }
      },
      "source": [
        "train_df['location'].describe()"
      ],
      "execution_count": 10,
      "outputs": [
        {
          "output_type": "execute_result",
          "data": {
            "text/plain": [
              "count     5080\n",
              "unique    3341\n",
              "top        USA\n",
              "freq       104\n",
              "Name: location, dtype: object"
            ]
          },
          "metadata": {
            "tags": []
          },
          "execution_count": 10
        }
      ]
    },
    {
      "cell_type": "code",
      "metadata": {
        "id": "GscoSiAqMJ_8",
        "colab_type": "code",
        "outputId": "efb6a627-34d9-4c0a-e102-a85cfd340f8d",
        "colab": {
          "base_uri": "https://localhost:8080/",
          "height": 544
        }
      },
      "source": [
        "train_df['location'].sample(30)"
      ],
      "execution_count": 11,
      "outputs": [
        {
          "output_type": "execute_result",
          "data": {
            "text/plain": [
              "94          Alberta | Sask. | Montana\n",
              "6879                               uk\n",
              "365                               NaN\n",
              "3921                         New York\n",
              "2828                              NaN\n",
              "713                      Rockford, IL\n",
              "3043                            a box\n",
              "3189                      Kansas City\n",
              "3018                              NaN\n",
              "280                         The Shire\n",
              "2103                           mpls. \n",
              "2691                              NaN\n",
              "529                      New York, NY\n",
              "1849    EastAtlanta ??#WestGeorgia'18\n",
              "6641              Sanganer, Rajasthan\n",
              "2079                      South Stand\n",
              "568                     CHICAGO (312)\n",
              "4508           ??? ??? ????? ??? ???.\n",
              "6949                      Louavul, KY\n",
              "2827                      Kelowna, BC\n",
              "2562                              NaN\n",
              "5777                              NaN\n",
              "1140                        WorldWide\n",
              "4870                  ANDY 4 LEADER X\n",
              "4513                         New York\n",
              "5447                              USA\n",
              "4827                        Anonymous\n",
              "7221              Ely, Cambridgeshire\n",
              "3743                              NaN\n",
              "4642                    Sunbury, Ohio\n",
              "Name: location, dtype: object"
            ]
          },
          "metadata": {
            "tags": []
          },
          "execution_count": 11
        }
      ]
    },
    {
      "cell_type": "markdown",
      "metadata": {
        "id": "SjKH3zNqM7K3",
        "colab_type": "text"
      },
      "source": [
        "Por ahora dejamos en blanco estos datos, se observa que la ubicacion ingresada no es siempre algo coherente."
      ]
    },
    {
      "cell_type": "markdown",
      "metadata": {
        "id": "en3NUIzFNroJ",
        "colab_type": "text"
      },
      "source": [
        "## Primeros analisis"
      ]
    },
    {
      "cell_type": "code",
      "metadata": {
        "id": "Kbl9LZM5jltF",
        "colab_type": "code",
        "colab": {}
      },
      "source": [
        "train_df['word_count'] = train_df['text'].str.count(' ') + 1\n",
        "train_df['not_target'] = 0\n",
        "train_df.loc[train_df['target']==0,'not_target'] = 1"
      ],
      "execution_count": 0,
      "outputs": []
    },
    {
      "cell_type": "code",
      "metadata": {
        "id": "Sjx5jfyKjlqG",
        "colab_type": "code",
        "outputId": "5df6cc1e-16b2-4faf-b75a-e51e2a65f509",
        "colab": {
          "base_uri": "https://localhost:8080/",
          "height": 414
        }
      },
      "source": [
        "df = train_df.groupby('word_count').agg({'target':'sum','not_target':'sum'}).reset_index()\n",
        "\n",
        "plt.figure(figsize=(18,8))\n",
        "ax = sns.lineplot(x='word_count',y='target',data=df,color=\"blue\", label='Tweet real')\n",
        "ax = sns.lineplot(x='word_count',y='not_target',data=df,color=\"red\", label='Tweet no real')\n",
        "ax.set_ylim(0,300)\n",
        "ax.set_yticks(range(0,300,25))\n",
        "ax.set_xlim(0,55)\n",
        "ax.set_xticks(range(0,55,2))\n",
        "\n",
        "ax.set_title('Relacion cantidad de palabras en tweet vs Veracidad', fontsize=18)\n",
        "ax.set_xlabel('Cantidad de palabras en tweet',fontsize=16)\n",
        "ax.set_ylabel('Cantidad de tweets', fontsize=16);"
      ],
      "execution_count": 13,
      "outputs": [
        {
          "output_type": "display_data",
          "data": {
            "image/png": "[encoded data removed]",
            "text/plain": [
              "<Figure size 1296x576 with 1 Axes>"
            ]
          },
          "metadata": {
            "tags": [],
            "needs_background": "light"
          }
        }
      ]
    },
    {
      "cell_type": "code",
      "metadata": {
        "id": "8SjNUKbTjlnS",
        "colab_type": "code",
        "colab": {}
      },
      "source": [
        ""
      ],
      "execution_count": 0,
      "outputs": []
    },
    {
      "cell_type": "markdown",
      "metadata": {
        "id": "4bztqr_9OM2i",
        "colab_type": "text"
      },
      "source": [
        "## Análisis de la longitud de los tweets"
      ]
    },
    {
      "cell_type": "code",
      "metadata": {
        "id": "Ef72K_ZNjlkO",
        "colab_type": "code",
        "colab": {}
      },
      "source": [
        "#Creamos una columna con la longitud del tweet.\n",
        "train_df['longitud_del_tweet'] = train_df['text'].str.len()"
      ],
      "execution_count": 0,
      "outputs": []
    },
    {
      "cell_type": "code",
      "metadata": {
        "id": "wJrzDLjxjlhm",
        "colab_type": "code",
        "outputId": "1680af5f-5afa-4852-a877-8999309ee6da",
        "colab": {
          "base_uri": "https://localhost:8080/",
          "height": 170
        }
      },
      "source": [
        "#Analizamos las estadísticas de los tweets verdaderos.\n",
        "train_df[train_df['target']]['longitud_del_tweet'].describe()"
      ],
      "execution_count": 15,
      "outputs": [
        {
          "output_type": "execute_result",
          "data": {
            "text/plain": [
              "count    3271.000000\n",
              "mean      108.444207\n",
              "std        29.511567\n",
              "min        14.000000\n",
              "25%        88.000000\n",
              "50%       115.000000\n",
              "75%       136.000000\n",
              "max       161.000000\n",
              "Name: longitud_del_tweet, dtype: float64"
            ]
          },
          "metadata": {
            "tags": []
          },
          "execution_count": 15
        }
      ]
    },
    {
      "cell_type": "code",
      "metadata": {
        "id": "RhNd2igejle6",
        "colab_type": "code",
        "outputId": "388895e9-affd-4836-f29c-a0cf6576a46d",
        "colab": {
          "base_uri": "https://localhost:8080/",
          "height": 170
        }
      },
      "source": [
        "#Analizamos las estadísticas de los tweets falsos.\n",
        "train_df[~train_df['target']]['longitud_del_tweet'].describe()"
      ],
      "execution_count": 16,
      "outputs": [
        {
          "output_type": "execute_result",
          "data": {
            "text/plain": [
              "count    4342.000000\n",
              "mean       95.981345\n",
              "std        36.100118\n",
              "min         7.000000\n",
              "25%        68.000000\n",
              "50%       101.000000\n",
              "75%       130.000000\n",
              "max       163.000000\n",
              "Name: longitud_del_tweet, dtype: float64"
            ]
          },
          "metadata": {
            "tags": []
          },
          "execution_count": 16
        }
      ]
    },
    {
      "cell_type": "code",
      "metadata": {
        "id": "F9gYfyDBjlcI",
        "colab_type": "code",
        "colab": {}
      },
      "source": [
        "train_df = train_df.astype({'longitud_del_tweet':np.uint8})"
      ],
      "execution_count": 0,
      "outputs": []
    },
    {
      "cell_type": "code",
      "metadata": {
        "id": "_fcpErdejlZA",
        "colab_type": "code",
        "outputId": "a685658d-475a-490e-a31f-10bb7f51549d",
        "colab": {
          "base_uri": "https://localhost:8080/",
          "height": 357
        }
      },
      "source": [
        "fig= plt.figure()\n",
        "ax = fig.add_subplot(111)\n",
        "\n",
        "plt.title('Veracidad de los tweets en función de su longitud',fontsize=18,fontweight='bold')\n",
        "\n",
        "train_df[train_df['target']]['longitud_del_tweet'].plot.kde(color='lightgreen', figsize=(16, 6), label = 'Tweets verdaderos')\n",
        "train_df[~train_df['target']]['longitud_del_tweet'].plot.kde(color='red', ax=ax, figsize=(16, 6), label = 'Tweets falsos')\n",
        "\n",
        "ax.set_xlabel('Longitud del tweet', fontsize=12, fontweight='bold')\n",
        "ax.set_ylabel('Densidad', fontsize=12, fontweight='bold')\n",
        "\n",
        "ax.set_xlim(0, 160) #Seteamos los límites del eje x conociendo el valor máximo y mínimo de la longitud de los tweets.\n",
        "ax.legend()\n",
        "\n",
        "plt.show()"
      ],
      "execution_count": 18,
      "outputs": [
        {
          "output_type": "display_data",
          "data": {
            "image/png": "[encoded data removed]",
            "text/plain": [
              "<Figure size 1152x432 with 1 Axes>"
            ]
          },
          "metadata": {
            "tags": [],
            "needs_background": "light"
          }
        }
      ]
    },
    {
      "cell_type": "markdown",
      "metadata": {
        "id": "BdQq1LHAOvjs",
        "colab_type": "text"
      },
      "source": [
        "En está visualización podemos observar que los tweets que tienen una longitud menor a 80 caracteres son en su mayoría falsos, mientras que los que tienen una longitud superior tienden a ser verdaderos. Tambíen podemos ver que la longitud de los tweets tiene un pico llegando a los 140 caracteres, lo cuál tiene sentido considerando las limitaciones que la plataforma solía tener respecto a la longitud de los mismos."
      ]
    },
    {
      "cell_type": "markdown",
      "metadata": {
        "id": "3ie_uOcpO3Je",
        "colab_type": "text"
      },
      "source": [
        "## Análisis de los keywords"
      ]
    },
    {
      "cell_type": "markdown",
      "metadata": {
        "id": "4b0YwmTFPDka",
        "colab_type": "text"
      },
      "source": [
        "Como vimos previamente, la columna keywords tiene **61 registros** con valores nulos. Como es una cantidad pequeña en relación a la cantidad total de registros (**7613 registros**), para este análisis vamos a descartar los registros nulos."
      ]
    },
    {
      "cell_type": "code",
      "metadata": {
        "id": "fU2mv2zPjlUA",
        "colab_type": "code",
        "outputId": "5c258eae-7feb-4bfb-a5ad-30be76f4cf22",
        "colab": {
          "base_uri": "https://localhost:8080/",
          "height": 221
        }
      },
      "source": [
        "keywords_verdaderos = train_df.loc[~train_df['keyword'].isnull() & train_df['target']]['keyword']\n",
        "keywords_verdaderos.value_counts()"
      ],
      "execution_count": 19,
      "outputs": [
        {
          "output_type": "execute_result",
          "data": {
            "text/plain": [
              "              42\n",
              "outbreak      39\n",
              "wreckage      39\n",
              "derailment    39\n",
              "typhoon       37\n",
              "              ..\n",
              "body bags      1\n",
              "ruin           1\n",
              "body bag       1\n",
              "blazing        1\n",
              "epicentre      1\n",
              "Name: keyword, Length: 221, dtype: int64"
            ]
          },
          "metadata": {
            "tags": []
          },
          "execution_count": 19
        }
      ]
    },
    {
      "cell_type": "code",
      "metadata": {
        "id": "OKrxsbaXjlL2",
        "colab_type": "code",
        "outputId": "edc8ed1e-9707-4e68-9c6f-98e433ea6044",
        "colab": {
          "base_uri": "https://localhost:8080/",
          "height": 430
        }
      },
      "source": [
        "keywords_verdaderos.value_counts().sort_values(ascending=False).head(10).T\\\n",
        "    .sort_values(ascending=True)\\\n",
        "    .plot(figsize=(20,10),kind='barh',rot=0,color=my_colors);\n",
        "\n",
        "plt.ylabel('Keyword', fontsize=16, fontweight='bold')\n",
        "plt.title('Top 10 keywords de tweets verdaderos',fontsize=20, fontweight='bold')\n",
        "plt.xlabel('Cantidad de tweets', fontsize=16, fontweight='bold');"
      ],
      "execution_count": 20,
      "outputs": [
        {
          "output_type": "display_data",
          "data": {
            "image/png": "[encoded data removed]",
            "text/plain": [
              "<Figure size 1440x720 with 1 Axes>"
            ]
          },
          "metadata": {
            "tags": [],
            "needs_background": "light"
          }
        }
      ]
    },
    {
      "cell_type": "code",
      "metadata": {
        "id": "QcQSiK_3jikw",
        "colab_type": "code",
        "outputId": "12ea7f87-2b20-4170-c0d3-8928a433ed73",
        "colab": {
          "base_uri": "https://localhost:8080/",
          "height": 221
        }
      },
      "source": [
        "keywords_falsos = train_df.loc[~train_df['keyword'].isnull() & ~train_df['target']]['keyword']\n",
        "keywords_falsos.value_counts()"
      ],
      "execution_count": 21,
      "outputs": [
        {
          "output_type": "execute_result",
          "data": {
            "text/plain": [
              "body bags          40\n",
              "harm               37\n",
              "armageddon         37\n",
              "deluge             36\n",
              "ruin               36\n",
              "                   ..\n",
              "suicide bomber      1\n",
              "typhoon             1\n",
              "suicide bombing     1\n",
              "outbreak            1\n",
              "oil spill           1\n",
              "Name: keyword, Length: 219, dtype: int64"
            ]
          },
          "metadata": {
            "tags": []
          },
          "execution_count": 21
        }
      ]
    },
    {
      "cell_type": "code",
      "metadata": {
        "id": "Fi6Y1A8vP7tX",
        "colab_type": "code",
        "outputId": "c6b3701f-cdbd-4cd9-cb4f-cc0243c23468",
        "colab": {
          "base_uri": "https://localhost:8080/",
          "height": 437
        }
      },
      "source": [
        "keywords_falsos.value_counts().sort_values(ascending=False).head(10).T\\\n",
        "    .sort_values(ascending=True)\\\n",
        "    .plot(figsize=(20,10),kind='barh',rot=0,color=my_colors);\n",
        "\n",
        "plt.ylabel('Keyword', fontsize=16, fontweight='bold')\n",
        "plt.title('Top 10 keywords de tweets falsos',fontsize=20, fontweight='bold')\n",
        "plt.xlabel('Cantidad de tweets', fontsize=16, fontweight='bold');"
      ],
      "execution_count": 22,
      "outputs": [
        {
          "output_type": "display_data",
          "data": {
            "image/png": "[encoded data removed]",
            "text/plain": [
              "<Figure size 1440x720 with 1 Axes>"
            ]
          },
          "metadata": {
            "tags": [],
            "needs_background": "light"
          }
        }
      ]
    },
    {
      "cell_type": "markdown",
      "metadata": {
        "id": "fM9Ja0bdwvl1",
        "colab_type": "text"
      },
      "source": [
        "## Análisis de menciones"
      ]
    },
    {
      "cell_type": "markdown",
      "metadata": {
        "id": "NCPOpePWwvwT",
        "colab_type": "text"
      },
      "source": [
        "Vamos a analizar la naturaleza de los tweets en base a si se realiza alguna mención en el mismo o no."
      ]
    },
    {
      "cell_type": "code",
      "metadata": {
        "id": "WUeVrVT-wv8T",
        "colab_type": "code",
        "colab": {}
      },
      "source": [
        "train_df['tiene_menciones'] = train_df['text'].str.contains('@')"
      ],
      "execution_count": 0,
      "outputs": []
    },
    {
      "cell_type": "code",
      "metadata": {
        "id": "KMmwP4jJwwHw",
        "colab_type": "code",
        "outputId": "d2c7d7f8-520b-41c2-feae-ab7246c52a9f",
        "colab": {
          "base_uri": "https://localhost:8080/",
          "height": 596
        }
      },
      "source": [
        "train_df.loc[train_df['tiene_menciones']]['target'].value_counts().plot.pie(labels=['Tweets Falsos',\\\n",
        "                                                        'Tweets Verdaderos'],\\\n",
        "                                                figsize=(10, 10),\\\n",
        "                                                autopct='%.2f', fontsize=16)\n",
        "\n",
        "plt.ylabel('');\n",
        "plt.title('Veracidad de los tweets donde se realizan menciones',fontsize=20,weight='bold');"
      ],
      "execution_count": 24,
      "outputs": [
        {
          "output_type": "display_data",
          "data": {
            "image/png": "[encoded data removed]",
            "text/plain": [
              "<Figure size 720x720 with 1 Axes>"
            ]
          },
          "metadata": {
            "tags": []
          }
        }
      ]
    },
    {
      "cell_type": "markdown",
      "metadata": {
        "id": "6wb3uyJmwwU6",
        "colab_type": "text"
      },
      "source": [
        "Podemos ver que en 2/3 de los tweets en donde se realiza alguna mención, el tweet resulta ser falso."
      ]
    },
    {
      "cell_type": "markdown",
      "metadata": {
        "id": "1ff8jTcRxCVg",
        "colab_type": "text"
      },
      "source": [
        "## Análisis de hashtags"
      ]
    },
    {
      "cell_type": "markdown",
      "metadata": {
        "id": "O9hvqUXkxCes",
        "colab_type": "text"
      },
      "source": [
        "Vemos si hay alguna relación entre la cantidad de hashtags del tweet y la veracidad del mismo."
      ]
    },
    {
      "cell_type": "code",
      "metadata": {
        "id": "RAKGWdUfP946",
        "colab_type": "code",
        "colab": {}
      },
      "source": [
        "train_df['cantidad_de_hashtags'] = train_df['text'].str.count('#')"
      ],
      "execution_count": 0,
      "outputs": []
    },
    {
      "cell_type": "code",
      "metadata": {
        "id": "uYOlQiq4xDDa",
        "colab_type": "code",
        "outputId": "3a339d04-064c-48a6-8744-40b09cfcd3cb",
        "colab": {
          "base_uri": "https://localhost:8080/",
          "height": 793
        }
      },
      "source": [
        "train_df.groupby(['cantidad_de_hashtags','target']).agg({'id':'count'})"
      ],
      "execution_count": 26,
      "outputs": [
        {
          "output_type": "execute_result",
          "data": {
            "text/html": [
              "<div>\n",
              "<style scoped>\n",
              "    .dataframe tbody tr th:only-of-type {\n",
              "        vertical-align: middle;\n",
              "    }\n",
              "\n",
              "    .dataframe tbody tr th {\n",
              "        vertical-align: top;\n",
              "    }\n",
              "\n",
              "    .dataframe thead th {\n",
              "        text-align: right;\n",
              "    }\n",
              "</style>\n",
              "<table border=\"1\" class=\"dataframe\">\n",
              "  <thead>\n",
              "    <tr style=\"text-align: right;\">\n",
              "      <th></th>\n",
              "      <th></th>\n",
              "      <th>id</th>\n",
              "    </tr>\n",
              "    <tr>\n",
              "      <th>cantidad_de_hashtags</th>\n",
              "      <th>target</th>\n",
              "      <th></th>\n",
              "    </tr>\n",
              "  </thead>\n",
              "  <tbody>\n",
              "    <tr>\n",
              "      <th rowspan=\"2\" valign=\"top\">0</th>\n",
              "      <th>False</th>\n",
              "      <td>3456</td>\n",
              "    </tr>\n",
              "    <tr>\n",
              "      <th>True</th>\n",
              "      <td>2396</td>\n",
              "    </tr>\n",
              "    <tr>\n",
              "      <th rowspan=\"2\" valign=\"top\">1</th>\n",
              "      <th>False</th>\n",
              "      <td>482</td>\n",
              "    </tr>\n",
              "    <tr>\n",
              "      <th>True</th>\n",
              "      <td>482</td>\n",
              "    </tr>\n",
              "    <tr>\n",
              "      <th rowspan=\"2\" valign=\"top\">2</th>\n",
              "      <th>False</th>\n",
              "      <td>202</td>\n",
              "    </tr>\n",
              "    <tr>\n",
              "      <th>True</th>\n",
              "      <td>203</td>\n",
              "    </tr>\n",
              "    <tr>\n",
              "      <th rowspan=\"2\" valign=\"top\">3</th>\n",
              "      <th>False</th>\n",
              "      <td>108</td>\n",
              "    </tr>\n",
              "    <tr>\n",
              "      <th>True</th>\n",
              "      <td>100</td>\n",
              "    </tr>\n",
              "    <tr>\n",
              "      <th rowspan=\"2\" valign=\"top\">4</th>\n",
              "      <th>False</th>\n",
              "      <td>45</td>\n",
              "    </tr>\n",
              "    <tr>\n",
              "      <th>True</th>\n",
              "      <td>38</td>\n",
              "    </tr>\n",
              "    <tr>\n",
              "      <th rowspan=\"2\" valign=\"top\">5</th>\n",
              "      <th>False</th>\n",
              "      <td>18</td>\n",
              "    </tr>\n",
              "    <tr>\n",
              "      <th>True</th>\n",
              "      <td>23</td>\n",
              "    </tr>\n",
              "    <tr>\n",
              "      <th rowspan=\"2\" valign=\"top\">6</th>\n",
              "      <th>False</th>\n",
              "      <td>19</td>\n",
              "    </tr>\n",
              "    <tr>\n",
              "      <th>True</th>\n",
              "      <td>7</td>\n",
              "    </tr>\n",
              "    <tr>\n",
              "      <th rowspan=\"2\" valign=\"top\">7</th>\n",
              "      <th>False</th>\n",
              "      <td>4</td>\n",
              "    </tr>\n",
              "    <tr>\n",
              "      <th>True</th>\n",
              "      <td>4</td>\n",
              "    </tr>\n",
              "    <tr>\n",
              "      <th rowspan=\"2\" valign=\"top\">8</th>\n",
              "      <th>False</th>\n",
              "      <td>1</td>\n",
              "    </tr>\n",
              "    <tr>\n",
              "      <th>True</th>\n",
              "      <td>7</td>\n",
              "    </tr>\n",
              "    <tr>\n",
              "      <th>9</th>\n",
              "      <th>False</th>\n",
              "      <td>2</td>\n",
              "    </tr>\n",
              "    <tr>\n",
              "      <th rowspan=\"2\" valign=\"top\">10</th>\n",
              "      <th>False</th>\n",
              "      <td>3</td>\n",
              "    </tr>\n",
              "    <tr>\n",
              "      <th>True</th>\n",
              "      <td>7</td>\n",
              "    </tr>\n",
              "    <tr>\n",
              "      <th>11</th>\n",
              "      <th>False</th>\n",
              "      <td>2</td>\n",
              "    </tr>\n",
              "    <tr>\n",
              "      <th>13</th>\n",
              "      <th>True</th>\n",
              "      <td>4</td>\n",
              "    </tr>\n",
              "  </tbody>\n",
              "</table>\n",
              "</div>"
            ],
            "text/plain": [
              "                               id\n",
              "cantidad_de_hashtags target      \n",
              "0                    False   3456\n",
              "                     True    2396\n",
              "1                    False    482\n",
              "                     True     482\n",
              "2                    False    202\n",
              "                     True     203\n",
              "3                    False    108\n",
              "                     True     100\n",
              "4                    False     45\n",
              "                     True      38\n",
              "5                    False     18\n",
              "                     True      23\n",
              "6                    False     19\n",
              "                     True       7\n",
              "7                    False      4\n",
              "                     True       4\n",
              "8                    False      1\n",
              "                     True       7\n",
              "9                    False      2\n",
              "10                   False      3\n",
              "                     True       7\n",
              "11                   False      2\n",
              "13                   True       4"
            ]
          },
          "metadata": {
            "tags": []
          },
          "execution_count": 26
        }
      ]
    },
    {
      "cell_type": "markdown",
      "metadata": {
        "id": "fTCZEBwAxDOR",
        "colab_type": "text"
      },
      "source": [
        "No aporta nada, esta dividido bastante equitativamente; hay que ver si podemos hacer algo distinto con los hashtags."
      ]
    },
    {
      "cell_type": "markdown",
      "metadata": {
        "id": "Lm6BEFAoxU5-",
        "colab_type": "text"
      },
      "source": [
        "## Análisis de \"tweets expresivos\""
      ]
    },
    {
      "cell_type": "markdown",
      "metadata": {
        "id": "6CzvUlkCxVBb",
        "colab_type": "text"
      },
      "source": [
        "Consideramos como \"tweet expresivo\" a los tweets en donde se utiliza múltiples signos de exclamación o interrogación consecutivos."
      ]
    },
    {
      "cell_type": "code",
      "metadata": {
        "id": "5DS80xdixQQd",
        "colab_type": "code",
        "colab": {}
      },
      "source": [
        "train_df['es_expresivo'] = (train_df['text'].str.contains('\\!\\!') | train_df['text'].str.contains('\\?\\?'))"
      ],
      "execution_count": 0,
      "outputs": []
    },
    {
      "cell_type": "code",
      "metadata": {
        "id": "gZzXZIMExVz1",
        "colab_type": "code",
        "outputId": "b35ade75-81ef-4c31-d2ac-ca0341115cf4",
        "colab": {
          "base_uri": "https://localhost:8080/",
          "height": 596
        }
      },
      "source": [
        "train_df.loc[train_df['es_expresivo']]['target'].value_counts().plot.pie(labels=['Tweets Falsos',\\\n",
        "                                                        'Tweets Verdaderos'],\\\n",
        "                                                figsize=(10, 10),\\\n",
        "                                                autopct='%.2f', fontsize=16)\n",
        "\n",
        "plt.ylabel('');\n",
        "plt.title('Veracidad de los tweets expresivos',fontsize=20,weight='bold');"
      ],
      "execution_count": 28,
      "outputs": [
        {
          "output_type": "display_data",
          "data": {
            "image/png": "[encoded data removed]",
            "text/plain": [
              "<Figure size 720x720 with 1 Axes>"
            ]
          },
          "metadata": {
            "tags": []
          }
        }
      ]
    },
    {
      "cell_type": "markdown",
      "metadata": {
        "id": "gktE6ANexWAb",
        "colab_type": "text"
      },
      "source": [
        "Como podría esperarse, los tweets en donde se utilizan signos de puntuación de manera exagerada, en general para resaltar una emoción del usuario, no suelen ser sobre noticias reales."
      ]
    },
    {
      "cell_type": "markdown",
      "metadata": {
        "id": "pElIfnoR3hG1",
        "colab_type": "text"
      },
      "source": [
        "## Hay algún registro que el <i><b>text</b></i> NO contenga la <i><b>keyword</b></i>?"
      ]
    },
    {
      "cell_type": "code",
      "metadata": {
        "id": "Qmnvt3sd3bVb",
        "colab_type": "code",
        "colab": {}
      },
      "source": [
        "def f_aux(row):\n",
        "  if str(row['keyword']).lower() in str(row['text']).lower():\n",
        "    return True\n",
        "  return False\n",
        "\n",
        "train_df['contiene_key'] = train_df.loc[~train_df['keyword'].isnull()].apply(f_aux,axis=1)"
      ],
      "execution_count": 0,
      "outputs": []
    },
    {
      "cell_type": "code",
      "metadata": {
        "id": "vqAmdgfD3mNz",
        "colab_type": "code",
        "colab": {
          "base_uri": "https://localhost:8080/",
          "height": 68
        },
        "outputId": "152e7853-a36d-4dd3-8f1b-3231370697bc"
      },
      "source": [
        "train_df['contiene_key'].value_counts()"
      ],
      "execution_count": 30,
      "outputs": [
        {
          "output_type": "execute_result",
          "data": {
            "text/plain": [
              "True     6761\n",
              "False     852\n",
              "Name: contiene_key, dtype: int64"
            ]
          },
          "metadata": {
            "tags": []
          },
          "execution_count": 30
        }
      ]
    },
    {
      "cell_type": "code",
      "metadata": {
        "id": "zV7jIn6a3pt7",
        "colab_type": "code",
        "colab": {
          "base_uri": "https://localhost:8080/",
          "height": 359
        },
        "outputId": "7a4ddb35-6dfd-457e-b9eb-8d1ac18ecd9e"
      },
      "source": [
        "train_df.loc[train_df['contiene_key']==False].head(10)[['keyword','text']]"
      ],
      "execution_count": 31,
      "outputs": [
        {
          "output_type": "execute_result",
          "data": {
            "text/html": [
              "<div>\n",
              "<style scoped>\n",
              "    .dataframe tbody tr th:only-of-type {\n",
              "        vertical-align: middle;\n",
              "    }\n",
              "\n",
              "    .dataframe tbody tr th {\n",
              "        vertical-align: top;\n",
              "    }\n",
              "\n",
              "    .dataframe thead th {\n",
              "        text-align: right;\n",
              "    }\n",
              "</style>\n",
              "<table border=\"1\" class=\"dataframe\">\n",
              "  <thead>\n",
              "    <tr style=\"text-align: right;\">\n",
              "      <th></th>\n",
              "      <th>keyword</th>\n",
              "      <th>text</th>\n",
              "    </tr>\n",
              "  </thead>\n",
              "  <tbody>\n",
              "    <tr>\n",
              "      <th>32</th>\n",
              "      <td>ablaze</td>\n",
              "      <td>We always try to bring the heavy. #metal #RT h...</td>\n",
              "    </tr>\n",
              "    <tr>\n",
              "      <th>40</th>\n",
              "      <td>ablaze</td>\n",
              "      <td>Check these out: http://t.co/rOI2NSmEJJ http:/...</td>\n",
              "    </tr>\n",
              "    <tr>\n",
              "      <th>45</th>\n",
              "      <td>ablaze</td>\n",
              "      <td>I gained 3 followers in the last week. You? Kn...</td>\n",
              "    </tr>\n",
              "    <tr>\n",
              "      <th>48</th>\n",
              "      <td>ablaze</td>\n",
              "      <td>Check these out: http://t.co/rOI2NSmEJJ http:/...</td>\n",
              "    </tr>\n",
              "    <tr>\n",
              "      <th>49</th>\n",
              "      <td>ablaze</td>\n",
              "      <td>First night with retainers in. It's quite weir...</td>\n",
              "    </tr>\n",
              "    <tr>\n",
              "      <th>52</th>\n",
              "      <td>ablaze</td>\n",
              "      <td>SANTA CRUZ ÂÃÃ Head of the St Elizabeth Pol...</td>\n",
              "    </tr>\n",
              "    <tr>\n",
              "      <th>54</th>\n",
              "      <td>ablaze</td>\n",
              "      <td>Noches El-Bestia '@Alexis_Sanchez: happy to se...</td>\n",
              "    </tr>\n",
              "    <tr>\n",
              "      <th>83</th>\n",
              "      <td>accident</td>\n",
              "      <td>#TruckCrash Overturns On #FortWorth Interstate...</td>\n",
              "    </tr>\n",
              "    <tr>\n",
              "      <th>103</th>\n",
              "      <td>aftershock</td>\n",
              "      <td>'The man who can drive himself further once th...</td>\n",
              "    </tr>\n",
              "    <tr>\n",
              "      <th>105</th>\n",
              "      <td>aftershock</td>\n",
              "      <td>'There is no victory at bargain basement price...</td>\n",
              "    </tr>\n",
              "  </tbody>\n",
              "</table>\n",
              "</div>"
            ],
            "text/plain": [
              "        keyword                                               text\n",
              "32       ablaze  We always try to bring the heavy. #metal #RT h...\n",
              "40       ablaze  Check these out: http://t.co/rOI2NSmEJJ http:/...\n",
              "45       ablaze  I gained 3 followers in the last week. You? Kn...\n",
              "48       ablaze  Check these out: http://t.co/rOI2NSmEJJ http:/...\n",
              "49       ablaze  First night with retainers in. It's quite weir...\n",
              "52       ablaze  SANTA CRUZ ÂÃÃ Head of the St Elizabeth Pol...\n",
              "54       ablaze  Noches El-Bestia '@Alexis_Sanchez: happy to se...\n",
              "83     accident  #TruckCrash Overturns On #FortWorth Interstate...\n",
              "103  aftershock  'The man who can drive himself further once th...\n",
              "105  aftershock  'There is no victory at bargain basement price..."
            ]
          },
          "metadata": {
            "tags": []
          },
          "execution_count": 31
        }
      ]
    },
    {
      "cell_type": "code",
      "metadata": {
        "id": "jAATPL0D3r3I",
        "colab_type": "code",
        "colab": {
          "base_uri": "https://localhost:8080/",
          "height": 54
        },
        "outputId": "492b4405-f30f-481d-8fd9-86f9d9f9896f"
      },
      "source": [
        "train_df.iloc[5540]['text']"
      ],
      "execution_count": 32,
      "outputs": [
        {
          "output_type": "execute_result",
          "data": {
            "text/plain": [
              "'Radioactive Box Quarantined - IsraelÂ\\x89Ã\\x9bÂªs Ashdod Port was evacuated when emergency teams discovered radiation emittin... http://t.co/swQ5lMyDka'"
            ]
          },
          "metadata": {
            "tags": []
          },
          "execution_count": 32
        }
      ]
    },
    {
      "cell_type": "code",
      "metadata": {
        "id": "KmPOGq-G3uJf",
        "colab_type": "code",
        "colab": {
          "base_uri": "https://localhost:8080/",
          "height": 54
        },
        "outputId": "3b9c2ece-dd9c-4380-c138-a493495dc1f8"
      },
      "source": [
        "train_df.iloc[103]['text']"
      ],
      "execution_count": 33,
      "outputs": [
        {
          "output_type": "execute_result",
          "data": {
            "text/plain": [
              "\"'The man who can drive himself further once the effort gets painful is the man who will win.' \\nRoger Bannister\""
            ]
          },
          "metadata": {
            "tags": []
          },
          "execution_count": 33
        }
      ]
    },
    {
      "cell_type": "code",
      "metadata": {
        "id": "09rXmPYg3uBM",
        "colab_type": "code",
        "colab": {
          "base_uri": "https://localhost:8080/",
          "height": 54
        },
        "outputId": "42db11b6-a166-4259-a63c-758b2aa3381a"
      },
      "source": [
        "train_df.iloc[83]['text']"
      ],
      "execution_count": 34,
      "outputs": [
        {
          "output_type": "execute_result",
          "data": {
            "text/plain": [
              "\"#TruckCrash Overturns On #FortWorth Interstate http://t.co/Rs22LJ4qFp Click here if you've been in a crash&gt;http://t.co/Ld0unIYw4k\""
            ]
          },
          "metadata": {
            "tags": []
          },
          "execution_count": 34
        }
      ]
    },
    {
      "cell_type": "code",
      "metadata": {
        "id": "XHc-rs2f3t2I",
        "colab_type": "code",
        "colab": {
          "base_uri": "https://localhost:8080/",
          "height": 71
        },
        "outputId": "26d74234-e3fa-4709-904a-11e9e3ea32c0"
      },
      "source": [
        "print(train_df.iloc[5540]['keyword'])\n",
        "print(train_df.iloc[5540]['text'])"
      ],
      "execution_count": 35,
      "outputs": [
        {
          "output_type": "stream",
          "text": [
            "radiation emergency\n",
            "Radioactive Box Quarantined - IsraelÂÃÂªs Ashdod Port was evacuated when emergency teams discovered radiation emittin... http://t.co/swQ5lMyDka\n"
          ],
          "name": "stdout"
        }
      ]
    },
    {
      "cell_type": "code",
      "metadata": {
        "id": "l15UiCb_3tXW",
        "colab_type": "code",
        "colab": {
          "base_uri": "https://localhost:8080/",
          "height": 68
        },
        "outputId": "380ba744-2e52-441d-ecb3-9916d8231397"
      },
      "source": [
        "train_df.loc[train_df['contiene_key']==False]['target'].value_counts()"
      ],
      "execution_count": 36,
      "outputs": [
        {
          "output_type": "execute_result",
          "data": {
            "text/plain": [
              "False    500\n",
              "True     352\n",
              "Name: target, dtype: int64"
            ]
          },
          "metadata": {
            "tags": []
          },
          "execution_count": 36
        }
      ]
    },
    {
      "cell_type": "markdown",
      "metadata": {
        "id": "cGnCzA984DSg",
        "colab_type": "text"
      },
      "source": [
        "Podemos observar que de todos los datos que tienen keyword válido, solo <b>6700</b> \n",
        "son los que contienen exactamente la palabra. Los otros <b>852</b> son o interpretaciones del tweet y ruido. No se considera que vale la pena quitar 852 registros por la posibilidad de que la mayoria sean o no ruido."
      ]
    },
    {
      "cell_type": "code",
      "metadata": {
        "id": "kW9S5LNg3_M0",
        "colab_type": "code",
        "colab": {
          "base_uri": "https://localhost:8080/",
          "height": 419
        },
        "outputId": "fb371e88-8ba9-44b0-951d-007cf0b5f424"
      },
      "source": [
        "df1 =keywords_verdaderos.value_counts().to_frame().reset_index()\n",
        "df1.columns = ['keyword','count']\n",
        "\n",
        "df2 =keywords_falsos.value_counts().to_frame().reset_index()\n",
        "df2.columns = ['keyword','count']\n",
        "\n",
        "pd.merge(df1,df2,how='inner',on='keyword')"
      ],
      "execution_count": 37,
      "outputs": [
        {
          "output_type": "execute_result",
          "data": {
            "text/html": [
              "<div>\n",
              "<style scoped>\n",
              "    .dataframe tbody tr th:only-of-type {\n",
              "        vertical-align: middle;\n",
              "    }\n",
              "\n",
              "    .dataframe tbody tr th {\n",
              "        vertical-align: top;\n",
              "    }\n",
              "\n",
              "    .dataframe thead th {\n",
              "        text-align: right;\n",
              "    }\n",
              "</style>\n",
              "<table border=\"1\" class=\"dataframe\">\n",
              "  <thead>\n",
              "    <tr style=\"text-align: right;\">\n",
              "      <th></th>\n",
              "      <th>keyword</th>\n",
              "      <th>count_x</th>\n",
              "      <th>count_y</th>\n",
              "    </tr>\n",
              "  </thead>\n",
              "  <tbody>\n",
              "    <tr>\n",
              "      <th>0</th>\n",
              "      <td></td>\n",
              "      <td>42</td>\n",
              "      <td>19</td>\n",
              "    </tr>\n",
              "    <tr>\n",
              "      <th>1</th>\n",
              "      <td>outbreak</td>\n",
              "      <td>39</td>\n",
              "      <td>1</td>\n",
              "    </tr>\n",
              "    <tr>\n",
              "      <th>2</th>\n",
              "      <td>typhoon</td>\n",
              "      <td>37</td>\n",
              "      <td>1</td>\n",
              "    </tr>\n",
              "    <tr>\n",
              "      <th>3</th>\n",
              "      <td>oil spill</td>\n",
              "      <td>37</td>\n",
              "      <td>1</td>\n",
              "    </tr>\n",
              "    <tr>\n",
              "      <th>4</th>\n",
              "      <td>evacuated</td>\n",
              "      <td>32</td>\n",
              "      <td>4</td>\n",
              "    </tr>\n",
              "    <tr>\n",
              "      <th>...</th>\n",
              "      <td>...</td>\n",
              "      <td>...</td>\n",
              "      <td>...</td>\n",
              "    </tr>\n",
              "    <tr>\n",
              "      <th>213</th>\n",
              "      <td>body bags</td>\n",
              "      <td>1</td>\n",
              "      <td>40</td>\n",
              "    </tr>\n",
              "    <tr>\n",
              "      <th>214</th>\n",
              "      <td>ruin</td>\n",
              "      <td>1</td>\n",
              "      <td>36</td>\n",
              "    </tr>\n",
              "    <tr>\n",
              "      <th>215</th>\n",
              "      <td>body bag</td>\n",
              "      <td>1</td>\n",
              "      <td>32</td>\n",
              "    </tr>\n",
              "    <tr>\n",
              "      <th>216</th>\n",
              "      <td>blazing</td>\n",
              "      <td>1</td>\n",
              "      <td>33</td>\n",
              "    </tr>\n",
              "    <tr>\n",
              "      <th>217</th>\n",
              "      <td>epicentre</td>\n",
              "      <td>1</td>\n",
              "      <td>11</td>\n",
              "    </tr>\n",
              "  </tbody>\n",
              "</table>\n",
              "<p>218 rows × 3 columns</p>\n",
              "</div>"
            ],
            "text/plain": [
              "       keyword  count_x  count_y\n",
              "0                    42       19\n",
              "1     outbreak       39        1\n",
              "2      typhoon       37        1\n",
              "3    oil spill       37        1\n",
              "4    evacuated       32        4\n",
              "..         ...      ...      ...\n",
              "213  body bags        1       40\n",
              "214       ruin        1       36\n",
              "215   body bag        1       32\n",
              "216    blazing        1       33\n",
              "217  epicentre        1       11\n",
              "\n",
              "[218 rows x 3 columns]"
            ]
          },
          "metadata": {
            "tags": []
          },
          "execution_count": 37
        }
      ]
    },
    {
      "cell_type": "code",
      "metadata": {
        "id": "ur1BWGNj3_LC",
        "colab_type": "code",
        "colab": {}
      },
      "source": [
        "#### me falta cerrar el grafico de este analisis para visualizarlo mejor"
      ],
      "execution_count": 0,
      "outputs": []
    },
    {
      "cell_type": "code",
      "metadata": {
        "id": "CpsZPcWf3_Hw",
        "colab_type": "code",
        "colab": {}
      },
      "source": [
        ""
      ],
      "execution_count": 0,
      "outputs": []
    },
    {
      "cell_type": "code",
      "metadata": {
        "id": "RkUW3nCE3_ER",
        "colab_type": "code",
        "colab": {}
      },
      "source": [
        ""
      ],
      "execution_count": 0,
      "outputs": []
    },
    {
      "cell_type": "markdown",
      "metadata": {
        "id": "Vqyufjkw42Ax",
        "colab_type": "text"
      },
      "source": [
        "## Más analisis de Longitud- Covarianza y Correlacion"
      ]
    },
    {
      "cell_type": "code",
      "metadata": {
        "id": "UERs8uU83_Cd",
        "colab_type": "code",
        "colab": {
          "base_uri": "https://localhost:8080/",
          "height": 80
        },
        "outputId": "9c8943cb-0cd6-4963-c0ee-e22c1cb86f93"
      },
      "source": [
        "train_df['longitud_del_tweet'].describe().to_frame().T"
      ],
      "execution_count": 41,
      "outputs": [
        {
          "output_type": "execute_result",
          "data": {
            "text/html": [
              "<div>\n",
              "<style scoped>\n",
              "    .dataframe tbody tr th:only-of-type {\n",
              "        vertical-align: middle;\n",
              "    }\n",
              "\n",
              "    .dataframe tbody tr th {\n",
              "        vertical-align: top;\n",
              "    }\n",
              "\n",
              "    .dataframe thead th {\n",
              "        text-align: right;\n",
              "    }\n",
              "</style>\n",
              "<table border=\"1\" class=\"dataframe\">\n",
              "  <thead>\n",
              "    <tr style=\"text-align: right;\">\n",
              "      <th></th>\n",
              "      <th>count</th>\n",
              "      <th>mean</th>\n",
              "      <th>std</th>\n",
              "      <th>min</th>\n",
              "      <th>25%</th>\n",
              "      <th>50%</th>\n",
              "      <th>75%</th>\n",
              "      <th>max</th>\n",
              "    </tr>\n",
              "  </thead>\n",
              "  <tbody>\n",
              "    <tr>\n",
              "      <th>longitud_del_tweet</th>\n",
              "      <td>7613.0</td>\n",
              "      <td>101.336136</td>\n",
              "      <td>33.991338</td>\n",
              "      <td>7.0</td>\n",
              "      <td>78.0</td>\n",
              "      <td>107.0</td>\n",
              "      <td>134.0</td>\n",
              "      <td>163.0</td>\n",
              "    </tr>\n",
              "  </tbody>\n",
              "</table>\n",
              "</div>"
            ],
            "text/plain": [
              "                     count        mean        std  ...    50%    75%    max\n",
              "longitud_del_tweet  7613.0  101.336136  33.991338  ...  107.0  134.0  163.0\n",
              "\n",
              "[1 rows x 8 columns]"
            ]
          },
          "metadata": {
            "tags": []
          },
          "execution_count": 41
        }
      ]
    },
    {
      "cell_type": "markdown",
      "metadata": {
        "id": "2NUjNu055B9B",
        "colab_type": "text"
      },
      "source": [
        "Estaría bueno analizar más en detalle que va sucediendo a medida que la longitud crece, que sucede con el target, es \"mas real\" o no el tweet?<br>\n",
        "Creamos unas categorías segun lo visto anteriormente donde de todas las longitudes el 25% promedio esta en 78, el 50% en 107 y asi ... la idea de estas categorías es agrupar rangos entre 0 a 25 , 25 a 50 , 50 a 75 y 75 a 100 segun estas medidas obtenidas."
      ]
    },
    {
      "cell_type": "code",
      "metadata": {
        "id": "f8gph2d83_AX",
        "colab_type": "code",
        "colab": {}
      },
      "source": [
        "train_df.loc[train_df['longitud_del_tweet']<78.0,'Categ']=\"0 a 25\"\n",
        "train_df.loc[train_df['longitud_del_tweet']>=78.0,'Categ']=\"25 a 50\"\n",
        "train_df.loc[train_df['longitud_del_tweet']>=107.0,'Categ']= \"50 a 75\"\n",
        "train_df.loc[train_df['longitud_del_tweet']>=134.0,'Categ']= \"75 a 100\""
      ],
      "execution_count": 0,
      "outputs": []
    },
    {
      "cell_type": "code",
      "metadata": {
        "id": "bhpJMjFt3-78",
        "colab_type": "code",
        "colab": {
          "base_uri": "https://localhost:8080/",
          "height": 303
        },
        "outputId": "1f4e405f-f74e-4ee5-8f40-f77e67e8d16a"
      },
      "source": [
        "df_aux = train_df.groupby(['Categ','target'])['id'].count().unstack()\n",
        "df_aux.columns = ['No Real','Real']\n",
        "df_aux.plot.bar();\n",
        "plt.xticks(rotation=0)\n",
        "plt.title('Cantidad de tweets vs longitud', fontsize=16)\n",
        "plt.ylabel('Cantidad de Tweets', fontsize=16);"
      ],
      "execution_count": 43,
      "outputs": [
        {
          "output_type": "display_data",
          "data": {
            "image/png": "[encoded data removed]",
            "text/plain": [
              "<Figure size 432x288 with 1 Axes>"
            ]
          },
          "metadata": {
            "tags": [],
            "needs_background": "light"
          }
        }
      ]
    },
    {
      "cell_type": "markdown",
      "metadata": {
        "id": "iseOS2F05Y4H",
        "colab_type": "text"
      },
      "source": [
        "Aca podemos ver que a una longitud menor es más probable que sea un tweet no real y que cuanto más largo sea el tweet mayor su probabilidad de ser real.\n",
        "<br>\n",
        "La idea ahora es analizar cual es la covarianza y correlacion entre estas categorias creadas en base a su longitud (como largo de la cadena) vs target."
      ]
    },
    {
      "cell_type": "code",
      "metadata": {
        "id": "V-7HraJX3-5p",
        "colab_type": "code",
        "colab": {}
      },
      "source": [
        "df_aux = train_df\n",
        "df_aux['Categ_A'] = np.where(df_aux['Categ']==\"0 a 25\",1,0)\n",
        "df_aux['Categ_B'] = np.where(df_aux['Categ']==\"25 a 50\",1,0)\n",
        "df_aux['Categ_C'] = np.where(df_aux['Categ']==\"50 a 75\",1,0)\n",
        "df_aux['Categ_D'] = np.where(df_aux['Categ']==\"75 a 100\",1,0)"
      ],
      "execution_count": 0,
      "outputs": []
    },
    {
      "cell_type": "code",
      "metadata": {
        "id": "zfz3aubd3-0d",
        "colab_type": "code",
        "colab": {
          "base_uri": "https://localhost:8080/",
          "height": 235
        },
        "outputId": "56081e5a-71bd-4711-8c80-a1c77cb2f171"
      },
      "source": [
        "df_aux[['Categ_A','Categ_B','Categ_C','Categ_D','longitud_del_tweet','target']].corr()"
      ],
      "execution_count": 51,
      "outputs": [
        {
          "output_type": "execute_result",
          "data": {
            "text/html": [
              "<div>\n",
              "<style scoped>\n",
              "    .dataframe tbody tr th:only-of-type {\n",
              "        vertical-align: middle;\n",
              "    }\n",
              "\n",
              "    .dataframe tbody tr th {\n",
              "        vertical-align: top;\n",
              "    }\n",
              "\n",
              "    .dataframe thead th {\n",
              "        text-align: right;\n",
              "    }\n",
              "</style>\n",
              "<table border=\"1\" class=\"dataframe\">\n",
              "  <thead>\n",
              "    <tr style=\"text-align: right;\">\n",
              "      <th></th>\n",
              "      <th>Categ_A</th>\n",
              "      <th>Categ_B</th>\n",
              "      <th>Categ_C</th>\n",
              "      <th>Categ_D</th>\n",
              "      <th>longitud_del_tweet</th>\n",
              "      <th>target</th>\n",
              "    </tr>\n",
              "  </thead>\n",
              "  <tbody>\n",
              "    <tr>\n",
              "      <th>Categ_A</th>\n",
              "      <td>1.000000</td>\n",
              "      <td>-0.327100</td>\n",
              "      <td>-0.337233</td>\n",
              "      <td>-0.333972</td>\n",
              "      <td>-0.820184</td>\n",
              "      <td>-0.176486</td>\n",
              "    </tr>\n",
              "    <tr>\n",
              "      <th>Categ_B</th>\n",
              "      <td>-0.327100</td>\n",
              "      <td>1.000000</td>\n",
              "      <td>-0.332614</td>\n",
              "      <td>-0.329397</td>\n",
              "      <td>-0.154991</td>\n",
              "      <td>0.042091</td>\n",
              "    </tr>\n",
              "    <tr>\n",
              "      <th>Categ_C</th>\n",
              "      <td>-0.337233</td>\n",
              "      <td>-0.332614</td>\n",
              "      <td>1.000000</td>\n",
              "      <td>-0.339601</td>\n",
              "      <td>0.337340</td>\n",
              "      <td>0.005319</td>\n",
              "    </tr>\n",
              "    <tr>\n",
              "      <th>Categ_D</th>\n",
              "      <td>-0.333972</td>\n",
              "      <td>-0.329397</td>\n",
              "      <td>-0.339601</td>\n",
              "      <td>1.000000</td>\n",
              "      <td>0.631737</td>\n",
              "      <td>0.128873</td>\n",
              "    </tr>\n",
              "    <tr>\n",
              "      <th>longitud_del_tweet</th>\n",
              "      <td>-0.820184</td>\n",
              "      <td>-0.154991</td>\n",
              "      <td>0.337340</td>\n",
              "      <td>0.631737</td>\n",
              "      <td>1.000000</td>\n",
              "      <td>0.181513</td>\n",
              "    </tr>\n",
              "    <tr>\n",
              "      <th>target</th>\n",
              "      <td>-0.176486</td>\n",
              "      <td>0.042091</td>\n",
              "      <td>0.005319</td>\n",
              "      <td>0.128873</td>\n",
              "      <td>0.181513</td>\n",
              "      <td>1.000000</td>\n",
              "    </tr>\n",
              "  </tbody>\n",
              "</table>\n",
              "</div>"
            ],
            "text/plain": [
              "                     Categ_A   Categ_B  ...  longitud_del_tweet    target\n",
              "Categ_A             1.000000 -0.327100  ...           -0.820184 -0.176486\n",
              "Categ_B            -0.327100  1.000000  ...           -0.154991  0.042091\n",
              "Categ_C            -0.337233 -0.332614  ...            0.337340  0.005319\n",
              "Categ_D            -0.333972 -0.329397  ...            0.631737  0.128873\n",
              "longitud_del_tweet -0.820184 -0.154991  ...            1.000000  0.181513\n",
              "target             -0.176486  0.042091  ...            0.181513  1.000000\n",
              "\n",
              "[6 rows x 6 columns]"
            ]
          },
          "metadata": {
            "tags": []
          },
          "execution_count": 51
        }
      ]
    },
    {
      "cell_type": "markdown",
      "metadata": {
        "id": "iofnaIdH7Map",
        "colab_type": "text"
      },
      "source": [
        "Podemos ver como aumenta la correlacion un poco a medida que la logitud aumenta, pero esto no nos indica si aumenta segun si es o no real"
      ]
    },
    {
      "cell_type": "code",
      "metadata": {
        "id": "ObdF85Vz3-xm",
        "colab_type": "code",
        "colab": {}
      },
      "source": [
        ""
      ],
      "execution_count": 0,
      "outputs": []
    },
    {
      "cell_type": "code",
      "metadata": {
        "id": "tPS4jK-l3-uD",
        "colab_type": "code",
        "colab": {}
      },
      "source": [
        ""
      ],
      "execution_count": 0,
      "outputs": []
    },
    {
      "cell_type": "code",
      "metadata": {
        "id": "LMtgHJfd3-il",
        "colab_type": "code",
        "colab": {}
      },
      "source": [
        ""
      ],
      "execution_count": 0,
      "outputs": []
    }
  ]
}