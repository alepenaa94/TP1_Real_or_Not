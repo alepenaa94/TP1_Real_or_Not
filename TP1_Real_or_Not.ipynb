{
 "cells": [
  {
   "cell_type": "markdown",
   "metadata": {
    "colab_type": "text",
    "id": "view-in-github"
   },
   "source": [
    "<a href=\"https://colab.research.google.com/github/alepenaa94/TP1_Real_or_Not/blob/master/TP1_Real_or_Not.ipynb\" target=\"_parent\"><img src=\"https://colab.research.google.com/assets/colab-badge.svg\" alt=\"Open In Colab\"/></a>"
   ]
  },
  {
   "cell_type": "markdown",
   "metadata": {
    "colab_type": "text",
    "id": "iwY7zLPkMCLI"
   },
   "source": [
    "# TRABAJO PRÁCTICO 1: Análisis Exploratorio de Datos"
   ]
  },
  {
   "cell_type": "code",
   "execution_count": 1,
   "metadata": {
    "colab": {
     "base_uri": "https://localhost:8080/",
     "height": 71
    },
    "colab_type": "code",
    "id": "0R_dMyhfL8QX",
    "outputId": "5d011d54-140f-4716-cdd7-7b31c412e540"
   },
   "outputs": [],
   "source": [
    "import pandas as pd\n",
    "import numpy as np\n",
    "import seaborn as sns\n",
    "import matplotlib.pyplot as plt\n",
    "from IPython.display import display\n",
    "\n",
    "plt.style.use('default')\n",
    "plt.rcParams['figure.figsize'] = (6, 10)\n",
    "sns.set(style=\"darkgrid\")\n",
    "%matplotlib inline\n",
    "\n",
    "my_colors = plt.rcParams['axes.prop_cycle'].by_key()['color']"
   ]
  },
  {
   "cell_type": "code",
   "execution_count": 2,
   "metadata": {
    "colab": {},
    "colab_type": "code",
    "id": "KiQERldrjl68"
   },
   "outputs": [],
   "source": [
    "train_df = pd.read_csv('./Data/train.csv', encoding='latin-1',dtype={'id': np.uint16,'target': np.bool})"
   ]
  },
  {
   "cell_type": "code",
   "execution_count": 3,
   "metadata": {
    "colab": {
     "base_uri": "https://localhost:8080/",
     "height": 204
    },
    "colab_type": "code",
    "id": "sTfW9uPBjl10",
    "outputId": "237774d0-8fb8-49be-a7a2-ab000ed1c736"
   },
   "outputs": [
    {
     "data": {
      "text/html": [
       "<div>\n",
       "<style scoped>\n",
       "    .dataframe tbody tr th:only-of-type {\n",
       "        vertical-align: middle;\n",
       "    }\n",
       "\n",
       "    .dataframe tbody tr th {\n",
       "        vertical-align: top;\n",
       "    }\n",
       "\n",
       "    .dataframe thead th {\n",
       "        text-align: right;\n",
       "    }\n",
       "</style>\n",
       "<table border=\"1\" class=\"dataframe\">\n",
       "  <thead>\n",
       "    <tr style=\"text-align: right;\">\n",
       "      <th></th>\n",
       "      <th>id</th>\n",
       "      <th>keyword</th>\n",
       "      <th>location</th>\n",
       "      <th>text</th>\n",
       "      <th>target</th>\n",
       "    </tr>\n",
       "  </thead>\n",
       "  <tbody>\n",
       "    <tr>\n",
       "      <td>0</td>\n",
       "      <td>1</td>\n",
       "      <td>NaN</td>\n",
       "      <td>NaN</td>\n",
       "      <td>Our Deeds are the Reason of this #earthquake M...</td>\n",
       "      <td>True</td>\n",
       "    </tr>\n",
       "    <tr>\n",
       "      <td>1</td>\n",
       "      <td>4</td>\n",
       "      <td>NaN</td>\n",
       "      <td>NaN</td>\n",
       "      <td>Forest fire near La Ronge Sask. Canada</td>\n",
       "      <td>True</td>\n",
       "    </tr>\n",
       "    <tr>\n",
       "      <td>2</td>\n",
       "      <td>5</td>\n",
       "      <td>NaN</td>\n",
       "      <td>NaN</td>\n",
       "      <td>All residents asked to 'shelter in place' are ...</td>\n",
       "      <td>True</td>\n",
       "    </tr>\n",
       "    <tr>\n",
       "      <td>3</td>\n",
       "      <td>6</td>\n",
       "      <td>NaN</td>\n",
       "      <td>NaN</td>\n",
       "      <td>13,000 people receive #wildfires evacuation or...</td>\n",
       "      <td>True</td>\n",
       "    </tr>\n",
       "    <tr>\n",
       "      <td>4</td>\n",
       "      <td>7</td>\n",
       "      <td>NaN</td>\n",
       "      <td>NaN</td>\n",
       "      <td>Just got sent this photo from Ruby #Alaska as ...</td>\n",
       "      <td>True</td>\n",
       "    </tr>\n",
       "  </tbody>\n",
       "</table>\n",
       "</div>"
      ],
      "text/plain": [
       "   id keyword location                                               text  \\\n",
       "0   1     NaN      NaN  Our Deeds are the Reason of this #earthquake M...   \n",
       "1   4     NaN      NaN             Forest fire near La Ronge Sask. Canada   \n",
       "2   5     NaN      NaN  All residents asked to 'shelter in place' are ...   \n",
       "3   6     NaN      NaN  13,000 people receive #wildfires evacuation or...   \n",
       "4   7     NaN      NaN  Just got sent this photo from Ruby #Alaska as ...   \n",
       "\n",
       "   target  \n",
       "0    True  \n",
       "1    True  \n",
       "2    True  \n",
       "3    True  \n",
       "4    True  "
      ]
     },
     "execution_count": 3,
     "metadata": {},
     "output_type": "execute_result"
    }
   ],
   "source": [
    "train_df.head()"
   ]
  },
  {
   "cell_type": "markdown",
   "metadata": {
    "colab_type": "text",
    "id": "5_BHZnA3N1OX"
   },
   "source": [
    "## Tratamiento de datos"
   ]
  },
  {
   "cell_type": "code",
   "execution_count": 4,
   "metadata": {
    "colab": {
     "base_uri": "https://localhost:8080/",
     "height": 221
    },
    "colab_type": "code",
    "id": "VkuxJimXKupm",
    "outputId": "63ec6ad3-05cf-43bf-d42f-bfb6b31c9d06"
   },
   "outputs": [
    {
     "name": "stdout",
     "output_type": "stream",
     "text": [
      "<class 'pandas.core.frame.DataFrame'>\n",
      "RangeIndex: 7613 entries, 0 to 7612\n",
      "Data columns (total 5 columns):\n",
      "id          7613 non-null uint16\n",
      "keyword     7552 non-null object\n",
      "location    5080 non-null object\n",
      "text        7613 non-null object\n",
      "target      7613 non-null bool\n",
      "dtypes: bool(1), object(3), uint16(1)\n",
      "memory usage: 200.9+ KB\n"
     ]
    }
   ],
   "source": [
    "train_df.info()"
   ]
  },
  {
   "cell_type": "markdown",
   "metadata": {
    "colab_type": "text",
    "id": "3fFwhdysKzsW"
   },
   "source": [
    "Podemos observar que las columnas **\"keyword\"** y **\"location\"** poseen algunos valores nulos, vamos a analizar cada caso particular para determinar como vamos a proceder con los análisis."
   ]
  },
  {
   "cell_type": "code",
   "execution_count": 5,
   "metadata": {
    "colab": {
     "base_uri": "https://localhost:8080/",
     "height": 102
    },
    "colab_type": "code",
    "id": "pJx1ZwHoKugJ",
    "outputId": "5785737e-d6a3-4b5b-e807-f3d16b002f3d"
   },
   "outputs": [
    {
     "data": {
      "text/plain": [
       "count           7552\n",
       "unique           221\n",
       "top       fatalities\n",
       "freq              45\n",
       "Name: keyword, dtype: object"
      ]
     },
     "execution_count": 5,
     "metadata": {},
     "output_type": "execute_result"
    }
   ],
   "source": [
    "train_df['keyword'].describe()"
   ]
  },
  {
   "cell_type": "markdown",
   "metadata": {},
   "source": [
    "El campo **keyword** tiene **61 registros** con valores nulos. Como es una cantidad pequeña en relación a la cantidad total de registros (**7613 registros**), para los análisis vamos a considerar descartar los registros nulos."
   ]
  },
  {
   "cell_type": "code",
   "execution_count": 6,
   "metadata": {
    "colab": {},
    "colab_type": "code",
    "id": "6ujuRL3qKuR1"
   },
   "outputs": [],
   "source": [
    "#train_df['keyword'].fillna(value='',inplace=True)"
   ]
  },
  {
   "cell_type": "markdown",
   "metadata": {},
   "source": [
    "Veamos que tipo de valores tiene este campo."
   ]
  },
  {
   "cell_type": "code",
   "execution_count": 7,
   "metadata": {},
   "outputs": [
    {
     "data": {
      "text/plain": [
       "fatalities               45\n",
       "deluge                   42\n",
       "armageddon               42\n",
       "harm                     41\n",
       "sinking                  41\n",
       "                         ..\n",
       "forest%20fire            19\n",
       "epicentre                12\n",
       "threat                   11\n",
       "inundation               10\n",
       "radiation%20emergency     9\n",
       "Name: keyword, Length: 221, dtype: int64"
      ]
     },
     "execution_count": 7,
     "metadata": {},
     "output_type": "execute_result"
    }
   ],
   "source": [
    "train_df['keyword'].value_counts()"
   ]
  },
  {
   "cell_type": "code",
   "execution_count": 8,
   "metadata": {},
   "outputs": [
    {
     "data": {
      "text/plain": [
       "body%20bags              41\n",
       "oil%20spill              38\n",
       "burning%20buildings      37\n",
       "dust%20storm             36\n",
       "cliff%20fall             36\n",
       "nuclear%20reactor        36\n",
       "buildings%20burning      35\n",
       "bridge%20collapse        35\n",
       "structural%20failure     35\n",
       "airplane%20accident      35\n",
       "suicide%20bomb           35\n",
       "emergency%20plan         35\n",
       "loud%20bang              34\n",
       "heat%20wave              34\n",
       "natural%20disaster       34\n",
       "nuclear%20disaster       34\n",
       "suicide%20bombing        33\n",
       "body%20bagging           33\n",
       "blew%20up                33\n",
       "body%20bag               33\n",
       "mass%20murder            33\n",
       "buildings%20on%20fire    33\n",
       "chemical%20emergency     33\n",
       "blown%20up               33\n",
       "violent%20storm          33\n",
       "fire%20truck             33\n",
       "emergency%20services     33\n",
       "forest%20fires           32\n",
       "mass%20murderer          32\n",
       "suicide%20bomber         31\n",
       "wild%20fires             31\n",
       "first%20responders       29\n",
       "bush%20fires             25\n",
       "war%20zone               24\n",
       "forest%20fire            19\n",
       "radiation%20emergency     9\n",
       "Name: keyword, dtype: int64"
      ]
     },
     "execution_count": 8,
     "metadata": {},
     "output_type": "execute_result"
    }
   ],
   "source": [
    "train_df.loc[~train_df['keyword'].isnull() & train_df['keyword'].str.contains('%20')]['keyword'].value_counts()"
   ]
  },
  {
   "cell_type": "markdown",
   "metadata": {},
   "source": [
    "Observamos que en algunos keyword aparece \"%20\" en donde va un espacio; vamos a limpiar esto para mayor claridad en la información."
   ]
  },
  {
   "cell_type": "code",
   "execution_count": 9,
   "metadata": {
    "colab": {},
    "colab_type": "code",
    "id": "93-Bjl9LNuEo"
   },
   "outputs": [],
   "source": [
    "train_df['keyword'] = train_df['keyword'].str.replace('%20',' ')"
   ]
  },
  {
   "cell_type": "markdown",
   "metadata": {
    "colab_type": "text",
    "id": "VtQO5EQ4MKYD"
   },
   "source": [
    "Posiblemente luego analicemos los textos y veamos la posibilidad de completar estos keyword nulos con algun valor mas significativo."
   ]
  },
  {
   "cell_type": "code",
   "execution_count": 10,
   "metadata": {
    "colab": {
     "base_uri": "https://localhost:8080/",
     "height": 102
    },
    "colab_type": "code",
    "id": "Kgy5RHSrMKPr",
    "outputId": "ad8e6cc0-1b4a-4425-83b0-f4dfe9366e85"
   },
   "outputs": [
    {
     "data": {
      "text/plain": [
       "count     5080\n",
       "unique    3341\n",
       "top        USA\n",
       "freq       104\n",
       "Name: location, dtype: object"
      ]
     },
     "execution_count": 10,
     "metadata": {},
     "output_type": "execute_result"
    }
   ],
   "source": [
    "train_df['location'].describe()"
   ]
  },
  {
   "cell_type": "code",
   "execution_count": 11,
   "metadata": {
    "colab": {
     "base_uri": "https://localhost:8080/",
     "height": 544
    },
    "colab_type": "code",
    "id": "GscoSiAqMJ_8",
    "outputId": "efb6a627-34d9-4c0a-e102-a85cfd340f8d"
   },
   "outputs": [
    {
     "data": {
      "text/plain": [
       "2738                  Port Orange, FL\n",
       "7187                    Massachusetts\n",
       "1881                              NaN\n",
       "2803                Fort Worth, Texas\n",
       "2751                          Seattle\n",
       "2165                              NaN\n",
       "4025                    Concord, N.C.\n",
       "6973             BROKE NIGGAS DREAM!!\n",
       "3603                              NaN\n",
       "6098                              NaN\n",
       "113                           Belgium\n",
       "6008                  lost in history\n",
       "5935                   1D | 5SOS | AG\n",
       "3076                 Forging my Story\n",
       "2136                               UK\n",
       "7217        California, United States\n",
       "1487                              NaN\n",
       "3030                           Sydney\n",
       "4446                       Australia \n",
       "1243                  Nigeria, Global\n",
       "2942                              NaN\n",
       "1053                              NaN\n",
       "7436                    Sale, England\n",
       "3662    playing soccer & eating pizza\n",
       "5298                Stockholm, Sweden\n",
       "4135                              NaN\n",
       "3158                     Sacae Plains\n",
       "5931                     18 ÂÃÂ¢ CC\n",
       "1365                   Epic City, BB.\n",
       "4999                    Virginia, USA\n",
       "Name: location, dtype: object"
      ]
     },
     "execution_count": 11,
     "metadata": {},
     "output_type": "execute_result"
    }
   ],
   "source": [
    "train_df['location'].sample(30)"
   ]
  },
  {
   "cell_type": "markdown",
   "metadata": {
    "colab_type": "text",
    "id": "SjKH3zNqM7K3"
   },
   "source": [
    "Por ahora dejamos en blanco estos datos, se observa que la ubicacion ingresada no es siempre algo coherente."
   ]
  },
  {
   "cell_type": "markdown",
   "metadata": {
    "colab_type": "text",
    "id": "en3NUIzFNroJ"
   },
   "source": [
    "## Primeros analisis"
   ]
  },
  {
   "cell_type": "code",
   "execution_count": 12,
   "metadata": {
    "colab": {},
    "colab_type": "code",
    "id": "Kbl9LZM5jltF"
   },
   "outputs": [],
   "source": [
    "train_df['word_count'] = train_df['text'].str.count(' ') + 1\n",
    "train_df['not_target'] = 0\n",
    "train_df.loc[train_df['target']==0,'not_target'] = 1"
   ]
  },
  {
   "cell_type": "code",
   "execution_count": 13,
   "metadata": {
    "colab": {
     "base_uri": "https://localhost:8080/",
     "height": 414
    },
    "colab_type": "code",
    "id": "Sjx5jfyKjlqG",
    "outputId": "5df6cc1e-16b2-4faf-b75a-e51e2a65f509"
   },
   "outputs": [
    {
     "data": {
      "image/png": "[encoded data removed]",
      "text/plain": [
       "<Figure size 1296x576 with 1 Axes>"
      ]
     },
     "metadata": {
      "needs_background": "light"
     },
     "output_type": "display_data"
    }
   ],
   "source": [
    "df = train_df.groupby('word_count').agg({'target':'sum','not_target':'sum'}).reset_index()\n",
    "\n",
    "plt.figure(figsize=(18,8))\n",
    "ax = sns.lineplot(x='word_count',y='target',data=df,color=\"lightgreen\", label='Tweet real')\n",
    "ax = sns.lineplot(x='word_count',y='not_target',data=df,color=\"red\", label='Tweet no real')\n",
    "ax.set_ylim(0,300)\n",
    "ax.set_yticks(range(0,300,25))\n",
    "ax.set_xlim(0,55)\n",
    "ax.set_xticks(range(0,55,2))\n",
    "\n",
    "ax.set_title('Relacion cantidad de palabras en tweet vs Veracidad', fontsize=18)\n",
    "ax.set_xlabel('Cantidad de palabras en tweet',fontsize=16)\n",
    "ax.set_ylabel('Cantidad de tweets', fontsize=16);"
   ]
  },
  {
   "cell_type": "code",
   "execution_count": null,
   "metadata": {
    "colab": {},
    "colab_type": "code",
    "id": "8SjNUKbTjlnS"
   },
   "outputs": [],
   "source": []
  },
  {
   "cell_type": "markdown",
   "metadata": {
    "colab_type": "text",
    "id": "4bztqr_9OM2i"
   },
   "source": [
    "## Análisis de la longitud de los tweets"
   ]
  },
  {
   "cell_type": "code",
   "execution_count": 14,
   "metadata": {
    "colab": {},
    "colab_type": "code",
    "id": "Ef72K_ZNjlkO"
   },
   "outputs": [],
   "source": [
    "#Creamos una columna con la longitud del tweet.\n",
    "train_df['longitud_del_tweet'] = train_df['text'].str.len()"
   ]
  },
  {
   "cell_type": "code",
   "execution_count": 15,
   "metadata": {
    "colab": {
     "base_uri": "https://localhost:8080/",
     "height": 170
    },
    "colab_type": "code",
    "id": "wJrzDLjxjlhm",
    "outputId": "1680af5f-5afa-4852-a877-8999309ee6da"
   },
   "outputs": [
    {
     "data": {
      "text/plain": [
       "count    3271.000000\n",
       "mean      108.444207\n",
       "std        29.511567\n",
       "min        14.000000\n",
       "25%        88.000000\n",
       "50%       115.000000\n",
       "75%       136.000000\n",
       "max       161.000000\n",
       "Name: longitud_del_tweet, dtype: float64"
      ]
     },
     "execution_count": 15,
     "metadata": {},
     "output_type": "execute_result"
    }
   ],
   "source": [
    "#Analizamos las estadísticas de los tweets verdaderos.\n",
    "train_df[train_df['target']]['longitud_del_tweet'].describe()"
   ]
  },
  {
   "cell_type": "code",
   "execution_count": 16,
   "metadata": {
    "colab": {
     "base_uri": "https://localhost:8080/",
     "height": 170
    },
    "colab_type": "code",
    "id": "RhNd2igejle6",
    "outputId": "388895e9-affd-4836-f29c-a0cf6576a46d"
   },
   "outputs": [
    {
     "data": {
      "text/plain": [
       "count    4342.000000\n",
       "mean       95.981345\n",
       "std        36.100118\n",
       "min         7.000000\n",
       "25%        68.000000\n",
       "50%       101.000000\n",
       "75%       130.000000\n",
       "max       163.000000\n",
       "Name: longitud_del_tweet, dtype: float64"
      ]
     },
     "execution_count": 16,
     "metadata": {},
     "output_type": "execute_result"
    }
   ],
   "source": [
    "#Analizamos las estadísticas de los tweets falsos.\n",
    "train_df[~train_df['target']]['longitud_del_tweet'].describe()"
   ]
  },
  {
   "cell_type": "code",
   "execution_count": 17,
   "metadata": {
    "colab": {},
    "colab_type": "code",
    "id": "F9gYfyDBjlcI"
   },
   "outputs": [],
   "source": [
    "train_df = train_df.astype({'longitud_del_tweet':np.uint8})"
   ]
  },
  {
   "cell_type": "code",
   "execution_count": 18,
   "metadata": {
    "colab": {
     "base_uri": "https://localhost:8080/",
     "height": 357
    },
    "colab_type": "code",
    "id": "_fcpErdejlZA",
    "outputId": "a685658d-475a-490e-a31f-10bb7f51549d"
   },
   "outputs": [
    {
     "data": {
      "image/png": "[encoded data removed]",
      "text/plain": [
       "<Figure size 1152x432 with 1 Axes>"
      ]
     },
     "metadata": {
      "needs_background": "light"
     },
     "output_type": "display_data"
    }
   ],
   "source": [
    "fig= plt.figure()\n",
    "ax = fig.add_subplot(111)\n",
    "\n",
    "plt.title('Veracidad de los tweets en función de su longitud',fontsize=18,fontweight='bold')\n",
    "\n",
    "train_df[train_df['target']]['longitud_del_tweet'].plot.kde(color='lightgreen', figsize=(16, 6), label = 'Tweets verdaderos')\n",
    "train_df[~train_df['target']]['longitud_del_tweet'].plot.kde(color='red', ax=ax, figsize=(16, 6), label = 'Tweets falsos')\n",
    "\n",
    "ax.set_xlabel('Longitud del tweet', fontsize=12, fontweight='bold')\n",
    "ax.set_ylabel('Densidad', fontsize=12, fontweight='bold')\n",
    "\n",
    "ax.set_xlim(0, 160) #Seteamos los límites del eje x conociendo el valor máximo y mínimo de la longitud de los tweets.\n",
    "ax.legend()\n",
    "\n",
    "plt.show()"
   ]
  },
  {
   "cell_type": "markdown",
   "metadata": {
    "colab_type": "text",
    "id": "BdQq1LHAOvjs"
   },
   "source": [
    "En está visualización podemos observar que los tweets que tienen una longitud menor a 80 caracteres son en su mayoría falsos, mientras que los que tienen una longitud superior tienden a ser verdaderos. Tambíen podemos ver que la longitud de los tweets tiene un pico llegando a los 140 caracteres, lo cuál tiene sentido considerando las limitaciones que la plataforma solía tener respecto a la longitud de los mismos."
   ]
  },
  {
   "cell_type": "markdown",
   "metadata": {
    "colab_type": "text",
    "id": "3ie_uOcpO3Je"
   },
   "source": [
    "## Análisis de los keywords"
   ]
  },
  {
   "cell_type": "markdown",
   "metadata": {
    "colab_type": "text",
    "id": "4b0YwmTFPDka"
   },
   "source": [
    "Como vimos previamente, la columna keywords tiene **61 registros** con valores nulos. Como es una cantidad pequeña en relación a la cantidad total de registros (**7613 registros**), para este análisis vamos a descartar los registros nulos."
   ]
  },
  {
   "cell_type": "code",
   "execution_count": 19,
   "metadata": {
    "colab": {
     "base_uri": "https://localhost:8080/",
     "height": 221
    },
    "colab_type": "code",
    "id": "fU2mv2zPjlUA",
    "outputId": "5c258eae-7feb-4bfb-a5ad-30be76f4cf22"
   },
   "outputs": [
    {
     "data": {
      "text/plain": [
       "wreckage       39\n",
       "derailment     39\n",
       "outbreak       39\n",
       "debris         37\n",
       "oil spill      37\n",
       "               ..\n",
       "body bags       1\n",
       "epicentre       1\n",
       "body bag        1\n",
       "electrocute     1\n",
       "blazing         1\n",
       "Name: keyword, Length: 220, dtype: int64"
      ]
     },
     "execution_count": 19,
     "metadata": {},
     "output_type": "execute_result"
    }
   ],
   "source": [
    "keywords_verdaderos = train_df.loc[~train_df['keyword'].isnull() & train_df['target']]['keyword']\n",
    "keywords_verdaderos.value_counts()"
   ]
  },
  {
   "cell_type": "code",
   "execution_count": 20,
   "metadata": {
    "colab": {
     "base_uri": "https://localhost:8080/",
     "height": 221
    },
    "colab_type": "code",
    "id": "QcQSiK_3jikw",
    "outputId": "12ea7f87-2b20-4170-c0d3-8928a433ed73"
   },
   "outputs": [
    {
     "data": {
      "text/plain": [
       "body bags          40\n",
       "harm               37\n",
       "armageddon         37\n",
       "wrecked            36\n",
       "deluge             36\n",
       "                   ..\n",
       "outbreak            1\n",
       "oil spill           1\n",
       "suicide bomber      1\n",
       "suicide bombing     1\n",
       "typhoon             1\n",
       "Name: keyword, Length: 218, dtype: int64"
      ]
     },
     "execution_count": 20,
     "metadata": {},
     "output_type": "execute_result"
    }
   ],
   "source": [
    "keywords_falsos = train_df.loc[~train_df['keyword'].isnull() & ~train_df['target']]['keyword']\n",
    "keywords_falsos.value_counts()"
   ]
  },
  {
   "cell_type": "code",
   "execution_count": 21,
   "metadata": {},
   "outputs": [
    {
     "data": {
      "text/html": [
       "<div>\n",
       "<style scoped>\n",
       "    .dataframe tbody tr th:only-of-type {\n",
       "        vertical-align: middle;\n",
       "    }\n",
       "\n",
       "    .dataframe tbody tr th {\n",
       "        vertical-align: top;\n",
       "    }\n",
       "\n",
       "    .dataframe thead th {\n",
       "        text-align: right;\n",
       "    }\n",
       "</style>\n",
       "<table border=\"1\" class=\"dataframe\">\n",
       "  <thead>\n",
       "    <tr style=\"text-align: right;\">\n",
       "      <th></th>\n",
       "      <th>keyword</th>\n",
       "      <th>count_x</th>\n",
       "      <th>count_y</th>\n",
       "    </tr>\n",
       "  </thead>\n",
       "  <tbody>\n",
       "    <tr>\n",
       "      <td>0</td>\n",
       "      <td>wreckage</td>\n",
       "      <td>39.0</td>\n",
       "      <td>NaN</td>\n",
       "    </tr>\n",
       "    <tr>\n",
       "      <td>1</td>\n",
       "      <td>derailment</td>\n",
       "      <td>39.0</td>\n",
       "      <td>NaN</td>\n",
       "    </tr>\n",
       "    <tr>\n",
       "      <td>2</td>\n",
       "      <td>outbreak</td>\n",
       "      <td>39.0</td>\n",
       "      <td>1.0</td>\n",
       "    </tr>\n",
       "    <tr>\n",
       "      <td>3</td>\n",
       "      <td>debris</td>\n",
       "      <td>37.0</td>\n",
       "      <td>NaN</td>\n",
       "    </tr>\n",
       "    <tr>\n",
       "      <td>4</td>\n",
       "      <td>oil spill</td>\n",
       "      <td>37.0</td>\n",
       "      <td>1.0</td>\n",
       "    </tr>\n",
       "  </tbody>\n",
       "</table>\n",
       "</div>"
      ],
      "text/plain": [
       "      keyword  count_x  count_y\n",
       "0    wreckage     39.0      NaN\n",
       "1  derailment     39.0      NaN\n",
       "2    outbreak     39.0      1.0\n",
       "3      debris     37.0      NaN\n",
       "4   oil spill     37.0      1.0"
      ]
     },
     "execution_count": 21,
     "metadata": {},
     "output_type": "execute_result"
    }
   ],
   "source": [
    "df1 = keywords_verdaderos.value_counts().to_frame().reset_index()\n",
    "df1.columns = ['keyword','count']\n",
    "\n",
    "df2 = keywords_falsos.value_counts().to_frame().reset_index()\n",
    "df2.columns = ['keyword','count']\n",
    "\n",
    "merge_keywords = pd.merge(df1,df2,how='outer',on='keyword')\n",
    "merge_keywords.head()"
   ]
  },
  {
   "cell_type": "code",
   "execution_count": 22,
   "metadata": {},
   "outputs": [],
   "source": [
    "merge_keywords.fillna(value=0,inplace=True)"
   ]
  },
  {
   "cell_type": "code",
   "execution_count": 23,
   "metadata": {},
   "outputs": [],
   "source": [
    "merge_keywords.rename(columns={'count_x':'cantidad_verdaderos','count_y':'cantidad_falsos'},inplace=True)"
   ]
  },
  {
   "cell_type": "code",
   "execution_count": 24,
   "metadata": {},
   "outputs": [
    {
     "data": {
      "text/html": [
       "<div>\n",
       "<style scoped>\n",
       "    .dataframe tbody tr th:only-of-type {\n",
       "        vertical-align: middle;\n",
       "    }\n",
       "\n",
       "    .dataframe tbody tr th {\n",
       "        vertical-align: top;\n",
       "    }\n",
       "\n",
       "    .dataframe thead th {\n",
       "        text-align: right;\n",
       "    }\n",
       "</style>\n",
       "<table border=\"1\" class=\"dataframe\">\n",
       "  <thead>\n",
       "    <tr style=\"text-align: right;\">\n",
       "      <th></th>\n",
       "      <th>keyword</th>\n",
       "      <th>cantidad_verdaderos</th>\n",
       "      <th>cantidad_falsos</th>\n",
       "    </tr>\n",
       "  </thead>\n",
       "  <tbody>\n",
       "    <tr>\n",
       "      <td>0</td>\n",
       "      <td>wreckage</td>\n",
       "      <td>39.0</td>\n",
       "      <td>0.0</td>\n",
       "    </tr>\n",
       "    <tr>\n",
       "      <td>1</td>\n",
       "      <td>derailment</td>\n",
       "      <td>39.0</td>\n",
       "      <td>0.0</td>\n",
       "    </tr>\n",
       "    <tr>\n",
       "      <td>2</td>\n",
       "      <td>outbreak</td>\n",
       "      <td>39.0</td>\n",
       "      <td>1.0</td>\n",
       "    </tr>\n",
       "    <tr>\n",
       "      <td>3</td>\n",
       "      <td>debris</td>\n",
       "      <td>37.0</td>\n",
       "      <td>0.0</td>\n",
       "    </tr>\n",
       "    <tr>\n",
       "      <td>4</td>\n",
       "      <td>oil spill</td>\n",
       "      <td>37.0</td>\n",
       "      <td>1.0</td>\n",
       "    </tr>\n",
       "  </tbody>\n",
       "</table>\n",
       "</div>"
      ],
      "text/plain": [
       "      keyword  cantidad_verdaderos  cantidad_falsos\n",
       "0    wreckage                 39.0              0.0\n",
       "1  derailment                 39.0              0.0\n",
       "2    outbreak                 39.0              1.0\n",
       "3      debris                 37.0              0.0\n",
       "4   oil spill                 37.0              1.0"
      ]
     },
     "execution_count": 24,
     "metadata": {},
     "output_type": "execute_result"
    }
   ],
   "source": [
    "merge_keywords.head()"
   ]
  },
  {
   "cell_type": "code",
   "execution_count": 25,
   "metadata": {},
   "outputs": [],
   "source": [
    "merge_keywords['porcentaje_verdaderos'] = (merge_keywords['cantidad_verdaderos'] / (merge_keywords['cantidad_verdaderos'] + merge_keywords['cantidad_falsos'])) * 100"
   ]
  },
  {
   "cell_type": "code",
   "execution_count": 26,
   "metadata": {},
   "outputs": [],
   "source": [
    "merge_keywords.set_index('keyword',inplace=True)"
   ]
  },
  {
   "cell_type": "code",
   "execution_count": 27,
   "metadata": {},
   "outputs": [
    {
     "data": {
      "text/html": [
       "<div>\n",
       "<style scoped>\n",
       "    .dataframe tbody tr th:only-of-type {\n",
       "        vertical-align: middle;\n",
       "    }\n",
       "\n",
       "    .dataframe tbody tr th {\n",
       "        vertical-align: top;\n",
       "    }\n",
       "\n",
       "    .dataframe thead th {\n",
       "        text-align: right;\n",
       "    }\n",
       "</style>\n",
       "<table border=\"1\" class=\"dataframe\">\n",
       "  <thead>\n",
       "    <tr style=\"text-align: right;\">\n",
       "      <th></th>\n",
       "      <th>cantidad_verdaderos</th>\n",
       "      <th>cantidad_falsos</th>\n",
       "      <th>porcentaje_verdaderos</th>\n",
       "    </tr>\n",
       "    <tr>\n",
       "      <th>keyword</th>\n",
       "      <th></th>\n",
       "      <th></th>\n",
       "      <th></th>\n",
       "    </tr>\n",
       "  </thead>\n",
       "  <tbody>\n",
       "    <tr>\n",
       "      <td>wreckage</td>\n",
       "      <td>39.0</td>\n",
       "      <td>0.0</td>\n",
       "      <td>100.000000</td>\n",
       "    </tr>\n",
       "    <tr>\n",
       "      <td>derailment</td>\n",
       "      <td>39.0</td>\n",
       "      <td>0.0</td>\n",
       "      <td>100.000000</td>\n",
       "    </tr>\n",
       "    <tr>\n",
       "      <td>outbreak</td>\n",
       "      <td>39.0</td>\n",
       "      <td>1.0</td>\n",
       "      <td>97.500000</td>\n",
       "    </tr>\n",
       "    <tr>\n",
       "      <td>debris</td>\n",
       "      <td>37.0</td>\n",
       "      <td>0.0</td>\n",
       "      <td>100.000000</td>\n",
       "    </tr>\n",
       "    <tr>\n",
       "      <td>oil spill</td>\n",
       "      <td>37.0</td>\n",
       "      <td>1.0</td>\n",
       "      <td>97.368421</td>\n",
       "    </tr>\n",
       "  </tbody>\n",
       "</table>\n",
       "</div>"
      ],
      "text/plain": [
       "            cantidad_verdaderos  cantidad_falsos  porcentaje_verdaderos\n",
       "keyword                                                                \n",
       "wreckage                   39.0              0.0             100.000000\n",
       "derailment                 39.0              0.0             100.000000\n",
       "outbreak                   39.0              1.0              97.500000\n",
       "debris                     37.0              0.0             100.000000\n",
       "oil spill                  37.0              1.0              97.368421"
      ]
     },
     "execution_count": 27,
     "metadata": {},
     "output_type": "execute_result"
    }
   ],
   "source": [
    "merge_keywords.head()"
   ]
  },
  {
   "cell_type": "markdown",
   "metadata": {},
   "source": [
    "Vamos a analizar los keyword en función del porcentaje de tweets verdaderos. Para ello, vamos a considerar como significativos los keywords que tengan por lo menos 30 tweets."
   ]
  },
  {
   "cell_type": "code",
   "execution_count": 28,
   "metadata": {},
   "outputs": [
    {
     "data": {
      "text/html": [
       "<div>\n",
       "<style scoped>\n",
       "    .dataframe tbody tr th:only-of-type {\n",
       "        vertical-align: middle;\n",
       "    }\n",
       "\n",
       "    .dataframe tbody tr th {\n",
       "        vertical-align: top;\n",
       "    }\n",
       "\n",
       "    .dataframe thead th {\n",
       "        text-align: right;\n",
       "    }\n",
       "</style>\n",
       "<table border=\"1\" class=\"dataframe\">\n",
       "  <thead>\n",
       "    <tr style=\"text-align: right;\">\n",
       "      <th></th>\n",
       "      <th>cantidad_verdaderos</th>\n",
       "      <th>cantidad_falsos</th>\n",
       "    </tr>\n",
       "    <tr>\n",
       "      <th>keyword</th>\n",
       "      <th></th>\n",
       "      <th></th>\n",
       "    </tr>\n",
       "  </thead>\n",
       "  <tbody>\n",
       "    <tr>\n",
       "      <td>wreckage</td>\n",
       "      <td>39.0</td>\n",
       "      <td>0.0</td>\n",
       "    </tr>\n",
       "    <tr>\n",
       "      <td>derailment</td>\n",
       "      <td>39.0</td>\n",
       "      <td>0.0</td>\n",
       "    </tr>\n",
       "    <tr>\n",
       "      <td>debris</td>\n",
       "      <td>37.0</td>\n",
       "      <td>0.0</td>\n",
       "    </tr>\n",
       "    <tr>\n",
       "      <td>outbreak</td>\n",
       "      <td>39.0</td>\n",
       "      <td>1.0</td>\n",
       "    </tr>\n",
       "    <tr>\n",
       "      <td>oil spill</td>\n",
       "      <td>37.0</td>\n",
       "      <td>1.0</td>\n",
       "    </tr>\n",
       "    <tr>\n",
       "      <td>typhoon</td>\n",
       "      <td>37.0</td>\n",
       "      <td>1.0</td>\n",
       "    </tr>\n",
       "    <tr>\n",
       "      <td>suicide bombing</td>\n",
       "      <td>32.0</td>\n",
       "      <td>1.0</td>\n",
       "    </tr>\n",
       "    <tr>\n",
       "      <td>suicide bomber</td>\n",
       "      <td>30.0</td>\n",
       "      <td>1.0</td>\n",
       "    </tr>\n",
       "    <tr>\n",
       "      <td>suicide bomb</td>\n",
       "      <td>32.0</td>\n",
       "      <td>3.0</td>\n",
       "    </tr>\n",
       "    <tr>\n",
       "      <td>rescuers</td>\n",
       "      <td>32.0</td>\n",
       "      <td>3.0</td>\n",
       "    </tr>\n",
       "  </tbody>\n",
       "</table>\n",
       "</div>"
      ],
      "text/plain": [
       "                 cantidad_verdaderos  cantidad_falsos\n",
       "keyword                                              \n",
       "wreckage                        39.0              0.0\n",
       "derailment                      39.0              0.0\n",
       "debris                          37.0              0.0\n",
       "outbreak                        39.0              1.0\n",
       "oil spill                       37.0              1.0\n",
       "typhoon                         37.0              1.0\n",
       "suicide bombing                 32.0              1.0\n",
       "suicide bomber                  30.0              1.0\n",
       "suicide bomb                    32.0              3.0\n",
       "rescuers                        32.0              3.0"
      ]
     },
     "execution_count": 28,
     "metadata": {},
     "output_type": "execute_result"
    }
   ],
   "source": [
    "merge_keywords.loc[(merge_keywords['cantidad_verdaderos'] + merge_keywords['cantidad_falsos']) > 30].nlargest(10,'porcentaje_verdaderos')[['cantidad_verdaderos','cantidad_falsos']]"
   ]
  },
  {
   "cell_type": "code",
   "execution_count": 29,
   "metadata": {},
   "outputs": [
    {
     "data": {
      "image/png": "[encoded data removed]",
      "text/plain": [
       "<Figure size 1440x720 with 1 Axes>"
      ]
     },
     "metadata": {
      "needs_background": "light"
     },
     "output_type": "display_data"
    }
   ],
   "source": [
    "df_aux = merge_keywords.loc[(merge_keywords['cantidad_verdaderos'] + merge_keywords['cantidad_falsos']) > 30].nlargest(10,'porcentaje_verdaderos')[['cantidad_verdaderos','cantidad_falsos']]\n",
    "\n",
    "df_aux.columns = ['Tweets Verdaderos','Tweets Falsos']\n",
    "\n",
    "df_aux.plot.bar(figsize=(20,10),color=('green','red'));\n",
    "\n",
    "plt.xticks(rotation=0)\n",
    "\n",
    "plt.title('Keywords con mayor porcentaje de tweets verdaderos', fontsize=20,weight='bold')\n",
    "plt.ylabel('Cantidad de Tweets', fontsize=16,weight='bold')\n",
    "plt.xlabel('Keywords', fontsize=16,weight='bold');"
   ]
  },
  {
   "cell_type": "markdown",
   "metadata": {},
   "source": [
    "Hacer algun comentario..."
   ]
  },
  {
   "cell_type": "code",
   "execution_count": 30,
   "metadata": {},
   "outputs": [
    {
     "data": {
      "image/png": "[encoded data removed]",
      "text/plain": [
       "<Figure size 1440x720 with 1 Axes>"
      ]
     },
     "metadata": {
      "needs_background": "light"
     },
     "output_type": "display_data"
    }
   ],
   "source": [
    "df_aux = merge_keywords.loc[(merge_keywords['cantidad_verdaderos'] + merge_keywords['cantidad_falsos']) > 30].nsmallest(10,'porcentaje_verdaderos')[['cantidad_verdaderos','cantidad_falsos']]\n",
    "\n",
    "df_aux.columns = ['Tweets Verdaderos','Tweets Falsos']\n",
    "\n",
    "df_aux.plot.bar(figsize=(20,10),color=('green','red'));\n",
    "\n",
    "plt.xticks(rotation=0)\n",
    "\n",
    "plt.title('Keywords con menor porcentaje de tweets verdaderos', fontsize=20,weight='bold')\n",
    "plt.ylabel('Cantidad de Tweets', fontsize=16,weight='bold')\n",
    "plt.xlabel('Keywords', fontsize=16,weight='bold');"
   ]
  },
  {
   "cell_type": "markdown",
   "metadata": {},
   "source": [
    "Hacer algun comentario..."
   ]
  },
  {
   "cell_type": "markdown",
   "metadata": {
    "colab_type": "text",
    "id": "fM9Ja0bdwvl1"
   },
   "source": [
    "## Análisis de menciones"
   ]
  },
  {
   "cell_type": "markdown",
   "metadata": {
    "colab_type": "text",
    "id": "NCPOpePWwvwT"
   },
   "source": [
    "Vamos a analizar la naturaleza de los tweets en base a si se realiza alguna mención en el mismo o no."
   ]
  },
  {
   "cell_type": "code",
   "execution_count": 31,
   "metadata": {
    "colab": {},
    "colab_type": "code",
    "id": "WUeVrVT-wv8T"
   },
   "outputs": [],
   "source": [
    "train_df['tiene_menciones'] = train_df['text'].str.contains('@')"
   ]
  },
  {
   "cell_type": "code",
   "execution_count": 32,
   "metadata": {
    "colab": {
     "base_uri": "https://localhost:8080/",
     "height": 596
    },
    "colab_type": "code",
    "id": "KMmwP4jJwwHw",
    "outputId": "d2c7d7f8-520b-41c2-feae-ab7246c52a9f"
   },
   "outputs": [
    {
     "data": {
      "image/png": "[encoded data removed]",
      "text/plain": [
       "<Figure size 720x720 with 1 Axes>"
      ]
     },
     "metadata": {},
     "output_type": "display_data"
    }
   ],
   "source": [
    "train_df.loc[train_df['tiene_menciones']]['target'].value_counts().plot.pie(labels=['Tweets Falsos',\\\n",
    "                                                        'Tweets Verdaderos'],\\\n",
    "                                                figsize=(10, 10),\\\n",
    "                                                autopct='%.2f', fontsize=16,colors=('red','green'))\n",
    "\n",
    "plt.ylabel('');\n",
    "plt.title('Veracidad de los tweets donde se realizan menciones',fontsize=20,weight='bold');"
   ]
  },
  {
   "cell_type": "markdown",
   "metadata": {
    "colab_type": "text",
    "id": "6wb3uyJmwwU6"
   },
   "source": [
    "Podemos ver que en 2/3 de los tweets en donde se realiza alguna mención, el tweet resulta ser falso."
   ]
  },
  {
   "cell_type": "markdown",
   "metadata": {
    "colab_type": "text",
    "id": "1ff8jTcRxCVg"
   },
   "source": [
    "## Análisis de hashtags"
   ]
  },
  {
   "cell_type": "markdown",
   "metadata": {
    "colab_type": "text",
    "id": "O9hvqUXkxCes"
   },
   "source": [
    "Vemos si hay alguna relación entre la cantidad de hashtags del tweet y la veracidad del mismo."
   ]
  },
  {
   "cell_type": "code",
   "execution_count": 33,
   "metadata": {
    "colab": {},
    "colab_type": "code",
    "id": "RAKGWdUfP946"
   },
   "outputs": [],
   "source": [
    "train_df['cantidad_de_hashtags'] = train_df['text'].str.count('#')"
   ]
  },
  {
   "cell_type": "code",
   "execution_count": 34,
   "metadata": {
    "colab": {
     "base_uri": "https://localhost:8080/",
     "height": 793
    },
    "colab_type": "code",
    "id": "uYOlQiq4xDDa",
    "outputId": "3a339d04-064c-48a6-8744-40b09cfcd3cb"
   },
   "outputs": [
    {
     "data": {
      "text/html": [
       "<div>\n",
       "<style scoped>\n",
       "    .dataframe tbody tr th:only-of-type {\n",
       "        vertical-align: middle;\n",
       "    }\n",
       "\n",
       "    .dataframe tbody tr th {\n",
       "        vertical-align: top;\n",
       "    }\n",
       "\n",
       "    .dataframe thead th {\n",
       "        text-align: right;\n",
       "    }\n",
       "</style>\n",
       "<table border=\"1\" class=\"dataframe\">\n",
       "  <thead>\n",
       "    <tr style=\"text-align: right;\">\n",
       "      <th></th>\n",
       "      <th></th>\n",
       "      <th>id</th>\n",
       "    </tr>\n",
       "    <tr>\n",
       "      <th>cantidad_de_hashtags</th>\n",
       "      <th>target</th>\n",
       "      <th></th>\n",
       "    </tr>\n",
       "  </thead>\n",
       "  <tbody>\n",
       "    <tr>\n",
       "      <td rowspan=\"2\" valign=\"top\">0</td>\n",
       "      <td>False</td>\n",
       "      <td>3456</td>\n",
       "    </tr>\n",
       "    <tr>\n",
       "      <td>True</td>\n",
       "      <td>2396</td>\n",
       "    </tr>\n",
       "    <tr>\n",
       "      <td rowspan=\"2\" valign=\"top\">1</td>\n",
       "      <td>False</td>\n",
       "      <td>482</td>\n",
       "    </tr>\n",
       "    <tr>\n",
       "      <td>True</td>\n",
       "      <td>482</td>\n",
       "    </tr>\n",
       "    <tr>\n",
       "      <td rowspan=\"2\" valign=\"top\">2</td>\n",
       "      <td>False</td>\n",
       "      <td>202</td>\n",
       "    </tr>\n",
       "    <tr>\n",
       "      <td>True</td>\n",
       "      <td>203</td>\n",
       "    </tr>\n",
       "    <tr>\n",
       "      <td rowspan=\"2\" valign=\"top\">3</td>\n",
       "      <td>False</td>\n",
       "      <td>108</td>\n",
       "    </tr>\n",
       "    <tr>\n",
       "      <td>True</td>\n",
       "      <td>100</td>\n",
       "    </tr>\n",
       "    <tr>\n",
       "      <td rowspan=\"2\" valign=\"top\">4</td>\n",
       "      <td>False</td>\n",
       "      <td>45</td>\n",
       "    </tr>\n",
       "    <tr>\n",
       "      <td>True</td>\n",
       "      <td>38</td>\n",
       "    </tr>\n",
       "    <tr>\n",
       "      <td rowspan=\"2\" valign=\"top\">5</td>\n",
       "      <td>False</td>\n",
       "      <td>18</td>\n",
       "    </tr>\n",
       "    <tr>\n",
       "      <td>True</td>\n",
       "      <td>23</td>\n",
       "    </tr>\n",
       "    <tr>\n",
       "      <td rowspan=\"2\" valign=\"top\">6</td>\n",
       "      <td>False</td>\n",
       "      <td>19</td>\n",
       "    </tr>\n",
       "    <tr>\n",
       "      <td>True</td>\n",
       "      <td>7</td>\n",
       "    </tr>\n",
       "    <tr>\n",
       "      <td rowspan=\"2\" valign=\"top\">7</td>\n",
       "      <td>False</td>\n",
       "      <td>4</td>\n",
       "    </tr>\n",
       "    <tr>\n",
       "      <td>True</td>\n",
       "      <td>4</td>\n",
       "    </tr>\n",
       "    <tr>\n",
       "      <td rowspan=\"2\" valign=\"top\">8</td>\n",
       "      <td>False</td>\n",
       "      <td>1</td>\n",
       "    </tr>\n",
       "    <tr>\n",
       "      <td>True</td>\n",
       "      <td>7</td>\n",
       "    </tr>\n",
       "    <tr>\n",
       "      <td>9</td>\n",
       "      <td>False</td>\n",
       "      <td>2</td>\n",
       "    </tr>\n",
       "    <tr>\n",
       "      <td rowspan=\"2\" valign=\"top\">10</td>\n",
       "      <td>False</td>\n",
       "      <td>3</td>\n",
       "    </tr>\n",
       "    <tr>\n",
       "      <td>True</td>\n",
       "      <td>7</td>\n",
       "    </tr>\n",
       "    <tr>\n",
       "      <td>11</td>\n",
       "      <td>False</td>\n",
       "      <td>2</td>\n",
       "    </tr>\n",
       "    <tr>\n",
       "      <td>13</td>\n",
       "      <td>True</td>\n",
       "      <td>4</td>\n",
       "    </tr>\n",
       "  </tbody>\n",
       "</table>\n",
       "</div>"
      ],
      "text/plain": [
       "                               id\n",
       "cantidad_de_hashtags target      \n",
       "0                    False   3456\n",
       "                     True    2396\n",
       "1                    False    482\n",
       "                     True     482\n",
       "2                    False    202\n",
       "                     True     203\n",
       "3                    False    108\n",
       "                     True     100\n",
       "4                    False     45\n",
       "                     True      38\n",
       "5                    False     18\n",
       "                     True      23\n",
       "6                    False     19\n",
       "                     True       7\n",
       "7                    False      4\n",
       "                     True       4\n",
       "8                    False      1\n",
       "                     True       7\n",
       "9                    False      2\n",
       "10                   False      3\n",
       "                     True       7\n",
       "11                   False      2\n",
       "13                   True       4"
      ]
     },
     "execution_count": 34,
     "metadata": {},
     "output_type": "execute_result"
    }
   ],
   "source": [
    "train_df.groupby(['cantidad_de_hashtags','target']).agg({'id':'count'})"
   ]
  },
  {
   "cell_type": "markdown",
   "metadata": {
    "colab_type": "text",
    "id": "fTCZEBwAxDOR"
   },
   "source": [
    "No aporta nada, esta dividido bastante equitativamente; hay que ver si podemos hacer algo distinto con los hashtags."
   ]
  },
  {
   "cell_type": "markdown",
   "metadata": {
    "colab_type": "text",
    "id": "Lm6BEFAoxU5-"
   },
   "source": [
    "## Análisis de \"tweets expresivos\""
   ]
  },
  {
   "cell_type": "markdown",
   "metadata": {
    "colab_type": "text",
    "id": "6CzvUlkCxVBb"
   },
   "source": [
    "Consideramos como \"tweet expresivo\" a los tweets en donde se utiliza múltiples signos de exclamación o interrogación consecutivos."
   ]
  },
  {
   "cell_type": "code",
   "execution_count": 35,
   "metadata": {
    "colab": {},
    "colab_type": "code",
    "id": "5DS80xdixQQd"
   },
   "outputs": [],
   "source": [
    "train_df['es_expresivo'] = (train_df['text'].str.contains('\\!\\!') | train_df['text'].str.contains('\\?\\?'))"
   ]
  },
  {
   "cell_type": "code",
   "execution_count": 36,
   "metadata": {
    "colab": {
     "base_uri": "https://localhost:8080/",
     "height": 596
    },
    "colab_type": "code",
    "id": "gZzXZIMExVz1",
    "outputId": "b35ade75-81ef-4c31-d2ac-ca0341115cf4"
   },
   "outputs": [
    {
     "data": {
      "image/png": "[encoded data removed]",
      "text/plain": [
       "<Figure size 720x720 with 1 Axes>"
      ]
     },
     "metadata": {},
     "output_type": "display_data"
    }
   ],
   "source": [
    "train_df.loc[train_df['es_expresivo']]['target'].value_counts().plot.pie(labels=['Tweets Falsos',\\\n",
    "                                                        'Tweets Verdaderos'],\\\n",
    "                                                figsize=(10, 10),\\\n",
    "                                                autopct='%.2f', fontsize=16,colors=('red','green'))\n",
    "\n",
    "plt.ylabel('');\n",
    "plt.title('Veracidad de los tweets expresivos',fontsize=20,weight='bold');"
   ]
  },
  {
   "cell_type": "markdown",
   "metadata": {
    "colab_type": "text",
    "id": "gktE6ANexWAb"
   },
   "source": [
    "Como podría esperarse, los tweets en donde se utilizan signos de puntuación de manera exagerada, en general para resaltar una emoción del usuario, no suelen ser sobre noticias reales."
   ]
  },
  {
   "cell_type": "markdown",
   "metadata": {
    "colab_type": "text",
    "id": "pElIfnoR3hG1"
   },
   "source": [
    "## Hay algún registro que el <i><b>text</b></i> NO contenga la <i><b>keyword</b></i>?"
   ]
  },
  {
   "cell_type": "code",
   "execution_count": 37,
   "metadata": {
    "colab": {},
    "colab_type": "code",
    "id": "Qmnvt3sd3bVb"
   },
   "outputs": [],
   "source": [
    "def f_aux(row):\n",
    "  if str(row['keyword']).lower() in str(row['text']).lower():\n",
    "    return True\n",
    "  return False\n",
    "\n",
    "train_df['contiene_key'] = train_df.loc[~train_df['keyword'].isnull()].apply(f_aux,axis=1)"
   ]
  },
  {
   "cell_type": "code",
   "execution_count": 38,
   "metadata": {
    "colab": {
     "base_uri": "https://localhost:8080/",
     "height": 68
    },
    "colab_type": "code",
    "id": "vqAmdgfD3mNz",
    "outputId": "152e7853-a36d-4dd3-8f1b-3231370697bc"
   },
   "outputs": [
    {
     "data": {
      "text/plain": [
       "True     6700\n",
       "False     852\n",
       "Name: contiene_key, dtype: int64"
      ]
     },
     "execution_count": 38,
     "metadata": {},
     "output_type": "execute_result"
    }
   ],
   "source": [
    "train_df['contiene_key'].value_counts()"
   ]
  },
  {
   "cell_type": "code",
   "execution_count": 39,
   "metadata": {
    "colab": {
     "base_uri": "https://localhost:8080/",
     "height": 359
    },
    "colab_type": "code",
    "id": "zV7jIn6a3pt7",
    "outputId": "7a4ddb35-6dfd-457e-b9eb-8d1ac18ecd9e"
   },
   "outputs": [
    {
     "data": {
      "text/html": [
       "<div>\n",
       "<style scoped>\n",
       "    .dataframe tbody tr th:only-of-type {\n",
       "        vertical-align: middle;\n",
       "    }\n",
       "\n",
       "    .dataframe tbody tr th {\n",
       "        vertical-align: top;\n",
       "    }\n",
       "\n",
       "    .dataframe thead th {\n",
       "        text-align: right;\n",
       "    }\n",
       "</style>\n",
       "<table border=\"1\" class=\"dataframe\">\n",
       "  <thead>\n",
       "    <tr style=\"text-align: right;\">\n",
       "      <th></th>\n",
       "      <th>keyword</th>\n",
       "      <th>text</th>\n",
       "    </tr>\n",
       "  </thead>\n",
       "  <tbody>\n",
       "    <tr>\n",
       "      <td>32</td>\n",
       "      <td>ablaze</td>\n",
       "      <td>We always try to bring the heavy. #metal #RT h...</td>\n",
       "    </tr>\n",
       "    <tr>\n",
       "      <td>40</td>\n",
       "      <td>ablaze</td>\n",
       "      <td>Check these out: http://t.co/rOI2NSmEJJ http:/...</td>\n",
       "    </tr>\n",
       "    <tr>\n",
       "      <td>45</td>\n",
       "      <td>ablaze</td>\n",
       "      <td>I gained 3 followers in the last week. You? Kn...</td>\n",
       "    </tr>\n",
       "    <tr>\n",
       "      <td>48</td>\n",
       "      <td>ablaze</td>\n",
       "      <td>Check these out: http://t.co/rOI2NSmEJJ http:/...</td>\n",
       "    </tr>\n",
       "    <tr>\n",
       "      <td>49</td>\n",
       "      <td>ablaze</td>\n",
       "      <td>First night with retainers in. It's quite weir...</td>\n",
       "    </tr>\n",
       "    <tr>\n",
       "      <td>52</td>\n",
       "      <td>ablaze</td>\n",
       "      <td>SANTA CRUZ ÂÃÃ Head of the St Elizabeth Pol...</td>\n",
       "    </tr>\n",
       "    <tr>\n",
       "      <td>54</td>\n",
       "      <td>ablaze</td>\n",
       "      <td>Noches El-Bestia '@Alexis_Sanchez: happy to se...</td>\n",
       "    </tr>\n",
       "    <tr>\n",
       "      <td>83</td>\n",
       "      <td>accident</td>\n",
       "      <td>#TruckCrash Overturns On #FortWorth Interstate...</td>\n",
       "    </tr>\n",
       "    <tr>\n",
       "      <td>103</td>\n",
       "      <td>aftershock</td>\n",
       "      <td>'The man who can drive himself further once th...</td>\n",
       "    </tr>\n",
       "    <tr>\n",
       "      <td>105</td>\n",
       "      <td>aftershock</td>\n",
       "      <td>'There is no victory at bargain basement price...</td>\n",
       "    </tr>\n",
       "  </tbody>\n",
       "</table>\n",
       "</div>"
      ],
      "text/plain": [
       "        keyword                                               text\n",
       "32       ablaze  We always try to bring the heavy. #metal #RT h...\n",
       "40       ablaze  Check these out: http://t.co/rOI2NSmEJJ http:/...\n",
       "45       ablaze  I gained 3 followers in the last week. You? Kn...\n",
       "48       ablaze  Check these out: http://t.co/rOI2NSmEJJ http:/...\n",
       "49       ablaze  First night with retainers in. It's quite weir...\n",
       "52       ablaze  SANTA CRUZ ÂÃÃ Head of the St Elizabeth Pol...\n",
       "54       ablaze  Noches El-Bestia '@Alexis_Sanchez: happy to se...\n",
       "83     accident  #TruckCrash Overturns On #FortWorth Interstate...\n",
       "103  aftershock  'The man who can drive himself further once th...\n",
       "105  aftershock  'There is no victory at bargain basement price..."
      ]
     },
     "execution_count": 39,
     "metadata": {},
     "output_type": "execute_result"
    }
   ],
   "source": [
    "train_df.loc[train_df['contiene_key']==False].head(10)[['keyword','text']]"
   ]
  },
  {
   "cell_type": "code",
   "execution_count": 40,
   "metadata": {
    "colab": {
     "base_uri": "https://localhost:8080/",
     "height": 54
    },
    "colab_type": "code",
    "id": "jAATPL0D3r3I",
    "outputId": "492b4405-f30f-481d-8fd9-86f9d9f9896f"
   },
   "outputs": [
    {
     "data": {
      "text/plain": [
       "'Radioactive Box Quarantined - IsraelÂ\\x89Ã\\x9bÂªs Ashdod Port was evacuated when emergency teams discovered radiation emittin... http://t.co/swQ5lMyDka'"
      ]
     },
     "execution_count": 40,
     "metadata": {},
     "output_type": "execute_result"
    }
   ],
   "source": [
    "train_df.iloc[5540]['text']"
   ]
  },
  {
   "cell_type": "code",
   "execution_count": 41,
   "metadata": {
    "colab": {
     "base_uri": "https://localhost:8080/",
     "height": 54
    },
    "colab_type": "code",
    "id": "KmPOGq-G3uJf",
    "outputId": "3b9c2ece-dd9c-4380-c138-a493495dc1f8"
   },
   "outputs": [
    {
     "data": {
      "text/plain": [
       "\"'The man who can drive himself further once the effort gets painful is the man who will win.' \\nRoger Bannister\""
      ]
     },
     "execution_count": 41,
     "metadata": {},
     "output_type": "execute_result"
    }
   ],
   "source": [
    "train_df.iloc[103]['text']"
   ]
  },
  {
   "cell_type": "code",
   "execution_count": 42,
   "metadata": {
    "colab": {
     "base_uri": "https://localhost:8080/",
     "height": 54
    },
    "colab_type": "code",
    "id": "09rXmPYg3uBM",
    "outputId": "42db11b6-a166-4259-a63c-758b2aa3381a"
   },
   "outputs": [
    {
     "data": {
      "text/plain": [
       "\"#TruckCrash Overturns On #FortWorth Interstate http://t.co/Rs22LJ4qFp Click here if you've been in a crash&gt;http://t.co/Ld0unIYw4k\""
      ]
     },
     "execution_count": 42,
     "metadata": {},
     "output_type": "execute_result"
    }
   ],
   "source": [
    "train_df.iloc[83]['text']"
   ]
  },
  {
   "cell_type": "code",
   "execution_count": 43,
   "metadata": {
    "colab": {
     "base_uri": "https://localhost:8080/",
     "height": 71
    },
    "colab_type": "code",
    "id": "XHc-rs2f3t2I",
    "outputId": "26d74234-e3fa-4709-904a-11e9e3ea32c0"
   },
   "outputs": [
    {
     "name": "stdout",
     "output_type": "stream",
     "text": [
      "radiation emergency\n",
      "Radioactive Box Quarantined - IsraelÂÃÂªs Ashdod Port was evacuated when emergency teams discovered radiation emittin... http://t.co/swQ5lMyDka\n"
     ]
    }
   ],
   "source": [
    "print(train_df.iloc[5540]['keyword'])\n",
    "print(train_df.iloc[5540]['text'])"
   ]
  },
  {
   "cell_type": "code",
   "execution_count": 44,
   "metadata": {
    "colab": {
     "base_uri": "https://localhost:8080/",
     "height": 68
    },
    "colab_type": "code",
    "id": "l15UiCb_3tXW",
    "outputId": "380ba744-2e52-441d-ecb3-9916d8231397"
   },
   "outputs": [
    {
     "data": {
      "text/plain": [
       "False    500\n",
       "True     352\n",
       "Name: target, dtype: int64"
      ]
     },
     "execution_count": 44,
     "metadata": {},
     "output_type": "execute_result"
    }
   ],
   "source": [
    "train_df.loc[train_df['contiene_key']==False]['target'].value_counts()"
   ]
  },
  {
   "cell_type": "markdown",
   "metadata": {
    "colab_type": "text",
    "id": "cGnCzA984DSg"
   },
   "source": [
    "Podemos observar que de todos los datos que tienen keyword válido, solo <b>6700</b> \n",
    "son los que contienen exactamente la palabra. Los otros <b>852</b> son o interpretaciones del tweet y ruido. No se considera que vale la pena quitar 852 registros por la posibilidad de que la mayoria sean o no ruido."
   ]
  },
  {
   "cell_type": "code",
   "execution_count": null,
   "metadata": {
    "colab": {},
    "colab_type": "code",
    "id": "CpsZPcWf3_Hw"
   },
   "outputs": [],
   "source": []
  },
  {
   "cell_type": "code",
   "execution_count": null,
   "metadata": {
    "colab": {},
    "colab_type": "code",
    "id": "RkUW3nCE3_ER"
   },
   "outputs": [],
   "source": []
  },
  {
   "cell_type": "markdown",
   "metadata": {
    "colab_type": "text",
    "id": "Vqyufjkw42Ax"
   },
   "source": [
    "## Más analisis de Longitud- Covarianza y Correlacion"
   ]
  },
  {
   "cell_type": "code",
   "execution_count": 45,
   "metadata": {
    "colab": {
     "base_uri": "https://localhost:8080/",
     "height": 80
    },
    "colab_type": "code",
    "id": "UERs8uU83_Cd",
    "outputId": "9c8943cb-0cd6-4963-c0ee-e22c1cb86f93"
   },
   "outputs": [
    {
     "data": {
      "text/html": [
       "<div>\n",
       "<style scoped>\n",
       "    .dataframe tbody tr th:only-of-type {\n",
       "        vertical-align: middle;\n",
       "    }\n",
       "\n",
       "    .dataframe tbody tr th {\n",
       "        vertical-align: top;\n",
       "    }\n",
       "\n",
       "    .dataframe thead th {\n",
       "        text-align: right;\n",
       "    }\n",
       "</style>\n",
       "<table border=\"1\" class=\"dataframe\">\n",
       "  <thead>\n",
       "    <tr style=\"text-align: right;\">\n",
       "      <th></th>\n",
       "      <th>count</th>\n",
       "      <th>mean</th>\n",
       "      <th>std</th>\n",
       "      <th>min</th>\n",
       "      <th>25%</th>\n",
       "      <th>50%</th>\n",
       "      <th>75%</th>\n",
       "      <th>max</th>\n",
       "    </tr>\n",
       "  </thead>\n",
       "  <tbody>\n",
       "    <tr>\n",
       "      <td>longitud_del_tweet</td>\n",
       "      <td>7613.0</td>\n",
       "      <td>101.336136</td>\n",
       "      <td>33.991338</td>\n",
       "      <td>7.0</td>\n",
       "      <td>78.0</td>\n",
       "      <td>107.0</td>\n",
       "      <td>134.0</td>\n",
       "      <td>163.0</td>\n",
       "    </tr>\n",
       "  </tbody>\n",
       "</table>\n",
       "</div>"
      ],
      "text/plain": [
       "                     count        mean        std  min   25%    50%    75%  \\\n",
       "longitud_del_tweet  7613.0  101.336136  33.991338  7.0  78.0  107.0  134.0   \n",
       "\n",
       "                      max  \n",
       "longitud_del_tweet  163.0  "
      ]
     },
     "execution_count": 45,
     "metadata": {},
     "output_type": "execute_result"
    }
   ],
   "source": [
    "train_df['longitud_del_tweet'].describe().to_frame().T"
   ]
  },
  {
   "cell_type": "markdown",
   "metadata": {
    "colab_type": "text",
    "id": "2NUjNu055B9B"
   },
   "source": [
    "Estaría bueno analizar más en detalle que va sucediendo a medida que la longitud crece, que sucede con el target, es \"mas real\" o no el tweet?<br>\n",
    "Creamos unas categorías segun lo visto anteriormente donde de todas las longitudes el 25% promedio esta en 78, el 50% en 107 y asi ... la idea de estas categorías es agrupar rangos entre 0 a 25 , 25 a 50 , 50 a 75 y 75 a 100 segun estas medidas obtenidas."
   ]
  },
  {
   "cell_type": "code",
   "execution_count": 46,
   "metadata": {
    "colab": {},
    "colab_type": "code",
    "id": "f8gph2d83_AX"
   },
   "outputs": [],
   "source": [
    "train_df.loc[train_df['longitud_del_tweet']<78.0,'Categ']=\"0 a 25\"\n",
    "train_df.loc[train_df['longitud_del_tweet']>=78.0,'Categ']=\"25 a 50\"\n",
    "train_df.loc[train_df['longitud_del_tweet']>=107.0,'Categ']= \"50 a 75\"\n",
    "train_df.loc[train_df['longitud_del_tweet']>=134.0,'Categ']= \"75 a 100\""
   ]
  },
  {
   "cell_type": "code",
   "execution_count": 47,
   "metadata": {
    "colab": {
     "base_uri": "https://localhost:8080/",
     "height": 303
    },
    "colab_type": "code",
    "id": "bhpJMjFt3-78",
    "outputId": "1f4e405f-f74e-4ee5-8f40-f77e67e8d16a"
   },
   "outputs": [
    {
     "data": {
      "image/png": "[encoded data removed]",
      "text/plain": [
       "<Figure size 1152x432 with 1 Axes>"
      ]
     },
     "metadata": {
      "needs_background": "light"
     },
     "output_type": "display_data"
    }
   ],
   "source": [
    "df_aux = train_df.groupby(['Categ','target'])['id'].count().unstack()\n",
    "df_aux.columns = ['Tweets Falsos','Tweets Verdaderos']\n",
    "df_aux.plot.bar(figsize=(16,6), color=('red','green'));\n",
    "plt.xticks(rotation=0)\n",
    "plt.title('Cantidad de tweets vs longitud', fontsize=20,weight='bold')\n",
    "plt.ylabel('Cantidad de Tweets', fontsize=16,weight='bold');"
   ]
  },
  {
   "cell_type": "markdown",
   "metadata": {
    "colab_type": "text",
    "id": "iseOS2F05Y4H"
   },
   "source": [
    "Aca podemos ver que a una longitud menor es más probable que sea un tweet no real y que cuanto más largo sea el tweet mayor su probabilidad de ser real.\n",
    "<br>\n",
    "La idea ahora es analizar cual es la covarianza y correlacion entre estas categorias creadas en base a su longitud (como largo de la cadena) vs target."
   ]
  },
  {
   "cell_type": "code",
   "execution_count": 48,
   "metadata": {
    "colab": {},
    "colab_type": "code",
    "id": "V-7HraJX3-5p"
   },
   "outputs": [],
   "source": [
    "df_aux = train_df\n",
    "df_aux['Categ_A'] = np.where(df_aux['Categ']==\"0 a 25\",1,0)\n",
    "df_aux['Categ_B'] = np.where(df_aux['Categ']==\"25 a 50\",1,0)\n",
    "df_aux['Categ_C'] = np.where(df_aux['Categ']==\"50 a 75\",1,0)\n",
    "df_aux['Categ_D'] = np.where(df_aux['Categ']==\"75 a 100\",1,0)"
   ]
  },
  {
   "cell_type": "code",
   "execution_count": 49,
   "metadata": {
    "colab": {
     "base_uri": "https://localhost:8080/",
     "height": 235
    },
    "colab_type": "code",
    "id": "zfz3aubd3-0d",
    "outputId": "56081e5a-71bd-4711-8c80-a1c77cb2f171"
   },
   "outputs": [
    {
     "data": {
      "text/html": [
       "<div>\n",
       "<style scoped>\n",
       "    .dataframe tbody tr th:only-of-type {\n",
       "        vertical-align: middle;\n",
       "    }\n",
       "\n",
       "    .dataframe tbody tr th {\n",
       "        vertical-align: top;\n",
       "    }\n",
       "\n",
       "    .dataframe thead th {\n",
       "        text-align: right;\n",
       "    }\n",
       "</style>\n",
       "<table border=\"1\" class=\"dataframe\">\n",
       "  <thead>\n",
       "    <tr style=\"text-align: right;\">\n",
       "      <th></th>\n",
       "      <th>Categ_A</th>\n",
       "      <th>Categ_B</th>\n",
       "      <th>Categ_C</th>\n",
       "      <th>Categ_D</th>\n",
       "      <th>longitud_del_tweet</th>\n",
       "      <th>target</th>\n",
       "    </tr>\n",
       "  </thead>\n",
       "  <tbody>\n",
       "    <tr>\n",
       "      <td>Categ_A</td>\n",
       "      <td>1.000000</td>\n",
       "      <td>-0.327100</td>\n",
       "      <td>-0.337233</td>\n",
       "      <td>-0.333972</td>\n",
       "      <td>-0.820184</td>\n",
       "      <td>-0.176486</td>\n",
       "    </tr>\n",
       "    <tr>\n",
       "      <td>Categ_B</td>\n",
       "      <td>-0.327100</td>\n",
       "      <td>1.000000</td>\n",
       "      <td>-0.332614</td>\n",
       "      <td>-0.329397</td>\n",
       "      <td>-0.154991</td>\n",
       "      <td>0.042091</td>\n",
       "    </tr>\n",
       "    <tr>\n",
       "      <td>Categ_C</td>\n",
       "      <td>-0.337233</td>\n",
       "      <td>-0.332614</td>\n",
       "      <td>1.000000</td>\n",
       "      <td>-0.339601</td>\n",
       "      <td>0.337340</td>\n",
       "      <td>0.005319</td>\n",
       "    </tr>\n",
       "    <tr>\n",
       "      <td>Categ_D</td>\n",
       "      <td>-0.333972</td>\n",
       "      <td>-0.329397</td>\n",
       "      <td>-0.339601</td>\n",
       "      <td>1.000000</td>\n",
       "      <td>0.631737</td>\n",
       "      <td>0.128873</td>\n",
       "    </tr>\n",
       "    <tr>\n",
       "      <td>longitud_del_tweet</td>\n",
       "      <td>-0.820184</td>\n",
       "      <td>-0.154991</td>\n",
       "      <td>0.337340</td>\n",
       "      <td>0.631737</td>\n",
       "      <td>1.000000</td>\n",
       "      <td>0.181513</td>\n",
       "    </tr>\n",
       "    <tr>\n",
       "      <td>target</td>\n",
       "      <td>-0.176486</td>\n",
       "      <td>0.042091</td>\n",
       "      <td>0.005319</td>\n",
       "      <td>0.128873</td>\n",
       "      <td>0.181513</td>\n",
       "      <td>1.000000</td>\n",
       "    </tr>\n",
       "  </tbody>\n",
       "</table>\n",
       "</div>"
      ],
      "text/plain": [
       "                     Categ_A   Categ_B   Categ_C   Categ_D  \\\n",
       "Categ_A             1.000000 -0.327100 -0.337233 -0.333972   \n",
       "Categ_B            -0.327100  1.000000 -0.332614 -0.329397   \n",
       "Categ_C            -0.337233 -0.332614  1.000000 -0.339601   \n",
       "Categ_D            -0.333972 -0.329397 -0.339601  1.000000   \n",
       "longitud_del_tweet -0.820184 -0.154991  0.337340  0.631737   \n",
       "target             -0.176486  0.042091  0.005319  0.128873   \n",
       "\n",
       "                    longitud_del_tweet    target  \n",
       "Categ_A                      -0.820184 -0.176486  \n",
       "Categ_B                      -0.154991  0.042091  \n",
       "Categ_C                       0.337340  0.005319  \n",
       "Categ_D                       0.631737  0.128873  \n",
       "longitud_del_tweet            1.000000  0.181513  \n",
       "target                        0.181513  1.000000  "
      ]
     },
     "execution_count": 49,
     "metadata": {},
     "output_type": "execute_result"
    }
   ],
   "source": [
    "df_aux[['Categ_A','Categ_B','Categ_C','Categ_D','longitud_del_tweet','target']].corr()"
   ]
  },
  {
   "cell_type": "markdown",
   "metadata": {
    "colab_type": "text",
    "id": "iofnaIdH7Map"
   },
   "source": [
    "Podemos ver como aumenta la correlacion un poco a medida que la logitud aumenta, pero esto no nos indica si aumenta segun si es o no real"
   ]
  },
  {
   "cell_type": "code",
   "execution_count": 0,
   "metadata": {
    "colab": {},
    "colab_type": "code",
    "id": "ObdF85Vz3-xm"
   },
   "outputs": [],
   "source": []
  },
  {
   "cell_type": "code",
   "execution_count": 0,
   "metadata": {
    "colab": {},
    "colab_type": "code",
    "id": "tPS4jK-l3-uD"
   },
   "outputs": [],
   "source": []
  },
  {
   "cell_type": "code",
   "execution_count": 0,
   "metadata": {
    "colab": {},
    "colab_type": "code",
    "id": "LMtgHJfd3-il"
   },
   "outputs": [],
   "source": []
  }
 ],
 "metadata": {
  "colab": {
   "collapsed_sections": [],
   "include_colab_link": true,
   "name": "Copia de Copia de TP1_Real_or_Not.ipynb",
   "provenance": []
  },
  "kernelspec": {
   "display_name": "Python 3",
   "language": "python",
   "name": "python3"
  },
  "language_info": {
   "codemirror_mode": {
    "name": "ipython",
    "version": 3
   },
   "file_extension": ".py",
   "mimetype": "text/x-python",
   "name": "python",
   "nbconvert_exporter": "python",
   "pygments_lexer": "ipython3",
   "version": "3.7.4"
  }
 },
 "nbformat": 4,
 "nbformat_minor": 1
}
